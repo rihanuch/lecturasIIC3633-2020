{
  "nbformat": 4,
  "nbformat_minor": 0,
  "metadata": {
    "colab": {
      "name": "pyRecLab_SlopOne.ipynb",
      "provenance": [],
      "include_colab_link": true
    },
    "kernelspec": {
      "name": "python3",
      "display_name": "Python 3"
    }
  },
  "cells": [
    {
      "cell_type": "markdown",
      "metadata": {
        "id": "view-in-github",
        "colab_type": "text"
      },
      "source": [
        "<a href=\"https://colab.research.google.com/github/rihanuch/rihanuch-IIC3633-2020/blob/master/practicos/04_SlopeOne.ipynb\" target=\"_parent\"><img src=\"https://colab.research.google.com/assets/colab-badge.svg\" alt=\"Open In Colab\"/></a>"
      ]
    },
    {
      "cell_type": "markdown",
      "metadata": {
        "id": "view-in-youtube"
      },
      "source": [
        "<a href=\"https://www.youtube.com\" target=\"_parent\"><img src=\"https://upload.wikimedia.org/wikipedia/commons/thumb/0/09/YouTube_full-color_icon_%282017%29.svg/71px-YouTube_full-color_icon_%282017%29.svg.png\" alt=\"Open In Colab\"/></a>\n"
      ]
    },
    {
      "cell_type": "markdown",
      "metadata": {
        "id": "0kY7Xfgi84HC"
      },
      "source": [
        "# Práctico Sistemas Recomendadores: pyreclab - Slope One\n",
        "\n",
        "En este práctico seguiremos utilizando [pyreclab](https://github.com/gasevi/pyreclab), con el cual estamos aprendiendo distintas técnicas de recomendación. Seguiremos usando la misma base de datos de los prácticos anteriores, para que puedan comparar los métodos y sus implementaciones. Este práctico está acompañado de un [video comentando la actividad](https://).\n",
        "\n",
        "En esta oportunidad exploraremos el recomendador de Pendiente Uno o **Slope One** [1].\n",
        "\n",
        "**Adaptado y preparado por:** Francisca Cattan 📩 fpcattan@uc.cl\n",
        "\n",
        "Referencias 📖\n",
        "------\n",
        "[1] *Lemire, D., & Maclachlan, A. (2005, April). Slope One Predictors for Online Rating-Based Collaborative Filtering. In SDM (Vol. 5, pp. 1-5).*\n"
      ]
    },
    {
      "cell_type": "markdown",
      "metadata": {
        "id": "1s6Ac_Kh9qiH"
      },
      "source": [
        "**Nombre**:  Rodrigo Hanuch"
      ]
    },
    {
      "cell_type": "markdown",
      "metadata": {
        "id": "Z4Jr74pP-4gt"
      },
      "source": [
        "## Actividad 1 👓\n",
        "\n",
        "Antes de empezar con el práctico, responde la siguiente pregunta con lo visto en clases.\n",
        "\n",
        "**Pregunta:** Explique cómo funciona Slope One (como modelo teórico, no piense en la implementación). En particular explique:\n",
        "\n",
        "- Repasemos: ¿Por qué este recomendador es un algoritmo de Filtrado Colaborativo?\n",
        "- Este Filtrado Colaborativo, ¿está basado en el usuario o en los items? ¿Por qué?\n",
        "- ¿Qué datos recibe Slope One y qué hace con ellos? (qué tipo de columnas y qué calculo)\n",
        "- ¿Qué pasaría si se agrega un nuevo rating a la base de datos?\n",
        "- Opcional: ¿Cómo crees que le iría al recomendador con un usuario que acaba de entrar al sistema y ha asignado muy pocos ratings?\n",
        "\n",
        "💡 *Hint: La bibliografía todo lo puede.*\n",
        "\n",
        "**Respuesta:**\n",
        "- Es de filtrado colaborativo debido a que se basa en ratings entregados para un item-base CF y propone mejoras en rendimiento para este\n",
        "- Es basado en items debido a que usa una diferencia entre los promedios de los elementos\n",
        "- Como columnas toma a los ratings de los clientes y hace una regresión con un solo parametro (f(x)=x+b)\n",
        "- Si se agrega un nuevo rating se debe recalcular la media ponderada que se le entrego\n",
        "\n"
      ]
    },
    {
      "cell_type": "markdown",
      "metadata": {
        "id": "HaFY1qNzHyCD"
      },
      "source": [
        "#Configuración Inicial"
      ]
    },
    {
      "cell_type": "markdown",
      "metadata": {
        "id": "MvGNsjiIIC6G"
      },
      "source": [
        "**Paso 1:** Descargue directamente a Colab los archivos del dataset ejecutando las siguientes 3 celdas:\n"
      ]
    },
    {
      "cell_type": "code",
      "metadata": {
        "id": "_7M_ehHq8ti2",
        "colab": {
          "base_uri": "https://localhost:8080/"
        },
        "outputId": "623c7e37-e3d2-41d4-c0a8-fa7671e9fa81"
      },
      "source": [
        "!curl -L -o \"u1.base\" \"https://drive.google.com/uc?export=download&id=1bGweNw7NbOHoJz11v6ld7ymLR8MLvBsA\""
      ],
      "execution_count": 1,
      "outputs": [
        {
          "output_type": "stream",
          "text": [
            "  % Total    % Received % Xferd  Average Speed   Time    Time     Time  Current\n",
            "                                 Dload  Upload   Total   Spent    Left  Speed\n",
            "100   388    0   388    0     0    542      0 --:--:-- --:--:-- --:--:--   541\n",
            "100 1546k  100 1546k    0     0  1807k      0 --:--:-- --:--:-- --:--:-- 1807k\n"
          ],
          "name": "stdout"
        }
      ]
    },
    {
      "cell_type": "code",
      "metadata": {
        "id": "CSdhurW1InVW",
        "colab": {
          "base_uri": "https://localhost:8080/"
        },
        "outputId": "01de4aed-ae86-487c-d6fa-5058d370b18b"
      },
      "source": [
        "!curl -L -o \"u1.test\" \"https://drive.google.com/uc?export=download&id=1f_HwJWC_1HFzgAjKAWKwkuxgjkhkXrVg\""
      ],
      "execution_count": 2,
      "outputs": [
        {
          "output_type": "stream",
          "text": [
            "  % Total    % Received % Xferd  Average Speed   Time    Time     Time  Current\n",
            "                                 Dload  Upload   Total   Spent    Left  Speed\n",
            "100   388    0   388    0     0    827      0 --:--:-- --:--:-- --:--:--   825\n",
            "100  385k  100  385k    0     0   643k      0 --:--:-- --:--:-- --:--:--  643k\n"
          ],
          "name": "stdout"
        }
      ]
    },
    {
      "cell_type": "code",
      "metadata": {
        "id": "QoGzmPG2InzM",
        "colab": {
          "base_uri": "https://localhost:8080/"
        },
        "outputId": "05687ba1-ad12-418b-c6bb-75e854cad14c"
      },
      "source": [
        "!curl -L -o \"u.item\" \"https://drive.google.com/uc?export=download&id=10YLhxkO2-M_flQtyo9OYV4nT9IvSESuz\""
      ],
      "execution_count": 3,
      "outputs": [
        {
          "output_type": "stream",
          "text": [
            "  % Total    % Received % Xferd  Average Speed   Time    Time     Time  Current\n",
            "                                 Dload  Upload   Total   Spent    Left  Speed\n",
            "100   388    0   388    0     0    900      0 --:--:-- --:--:-- --:--:--   898\n",
            "100  230k  100  230k    0     0   409k      0 --:--:-- --:--:-- --:--:--  409k\n"
          ],
          "name": "stdout"
        }
      ]
    },
    {
      "cell_type": "markdown",
      "metadata": {
        "id": "kluVF2eJIyjq"
      },
      "source": [
        "Los archivos **u1.base** y **u1.test** tienen tuplas {usuario, item, rating, timestamp}, que es la información de preferencias de usuarios sobre películas en una muestra del dataset [movielens](https://grouplens.org/datasets/movielens/)."
      ]
    },
    {
      "cell_type": "markdown",
      "metadata": {
        "id": "uopKG59rJWM9"
      },
      "source": [
        "**Paso 2:** Instalamos pyreclab y seaborn utilizando pip."
      ]
    },
    {
      "cell_type": "code",
      "metadata": {
        "id": "hi9L5FZdJWfI",
        "colab": {
          "base_uri": "https://localhost:8080/"
        },
        "outputId": "d2be637c-9022-4f0e-df8a-b25d55691e3d"
      },
      "source": [
        "!pip install pyreclab --upgrade"
      ],
      "execution_count": 4,
      "outputs": [
        {
          "output_type": "stream",
          "text": [
            "Collecting pyreclab\n",
            "\u001b[?25l  Downloading https://files.pythonhosted.org/packages/c8/f7/aa90be8c34b7610d90794df95b3b8cb487a1065f0bce638db220b7f41e63/pyreclab-0.1.15-cp36-cp36m-manylinux2010_x86_64.whl (234kB)\n",
            "\u001b[K     |████████████████████████████████| 235kB 5.6MB/s \n",
            "\u001b[?25hInstalling collected packages: pyreclab\n",
            "Successfully installed pyreclab-0.1.15\n"
          ],
          "name": "stdout"
        }
      ]
    },
    {
      "cell_type": "markdown",
      "metadata": {
        "id": "M28DoBHtN5qD"
      },
      "source": [
        "**Paso 3:** Hacemos los imports necesarios para este práctico."
      ]
    },
    {
      "cell_type": "code",
      "metadata": {
        "id": "KQ0jQ_JcN3el"
      },
      "source": [
        "import pyreclab\n",
        "import numpy as np\n",
        "import pandas as pd"
      ],
      "execution_count": 5,
      "outputs": []
    },
    {
      "cell_type": "markdown",
      "metadata": {
        "id": "bmxNQtXvfJy3"
      },
      "source": [
        "# El dataset\n",
        "\n",
        "💡 *En prácticos anteriores, vimos como analizar este dataset. Puedes revisarlos en caso de dudas.*\n",
        "\n",
        "**Paso 4:** Ya que queremos crear una lista de recomendación de items para un usuario en especifico, necesitamos obtener información adicional de cada película tal como título, fecha de lanzamiento, género, etc. Cargaremos el archivo de items descargado \"u.item\" para poder mapear cada identificador de ítem al conjunto de datos que lo describe."
      ]
    },
    {
      "cell_type": "code",
      "metadata": {
        "id": "p0vHiGJheUkB"
      },
      "source": [
        "# Definimos el orden de las columnas\n",
        "info_cols = [ 'movieid', 'title', 'release_date', 'video_release_date', 'IMDb_URL', \\\n",
        "              'unknown', 'Action', 'Adventure', 'Animation', 'Children', 'Comedy', \\\n",
        "              'Crime', 'Documentary', 'Drama', 'Fantasy', 'Film-Noir', 'Horror', \\\n",
        "              'Musical', 'Mystery', 'Romance', 'Sci-Fi', 'Thriller', 'War', 'Western' ]\n",
        "\n",
        "# Asignamos a una variable la estructura de datos de los items\n",
        "info_file = pd.read_csv('u.item', sep='|', index_col = 0, names = info_cols, header=None, encoding='latin-1')"
      ],
      "execution_count": 6,
      "outputs": []
    },
    {
      "cell_type": "markdown",
      "metadata": {
        "id": "z4pjNDlMOOdo"
      },
      "source": [
        "# Slope One"
      ]
    },
    {
      "cell_type": "markdown",
      "metadata": {
        "id": "H5sx7xkfQE6W"
      },
      "source": [
        "**Paso 5:** Seguiremos un camino muy similar a los ejercicios de User KNN e Item KNN. Crearemos una instancia del algoritmo de recomendación y luego pasaremos a la fase de entrenamiento."
      ]
    },
    {
      "cell_type": "code",
      "metadata": {
        "id": "v3D7CAoyPfko"
      },
      "source": [
        "# Declaramos la instancia SlopeOne\n",
        "mySlopeOne = pyreclab.SlopeOne(dataset='u1.base', dlmchar=b'\\t', header=False, usercol=0, itemcol=1, ratingcol=2)"
      ],
      "execution_count": 7,
      "outputs": []
    },
    {
      "cell_type": "code",
      "metadata": {
        "id": "EhacKomkTs51"
      },
      "source": [
        "# Y enntrenamos\n",
        "mySlopeOne.train()"
      ],
      "execution_count": 8,
      "outputs": []
    },
    {
      "cell_type": "markdown",
      "metadata": {
        "id": "Wnb3DkVVTttZ"
      },
      "source": [
        "## Actividad 2 👓\n",
        "\n",
        "**Pregunta:** Explique qué hace el método `train()` en este caso, dado el modelo teórico. ¿Calcula información?, ¿no hace nada?, ¿ordena los datos? \n",
        "\n",
        "**Respuesta:**\n",
        "Realmente no entrena el modelo debido a no \"aprende\" sino que ordena la información y calculas las medias ponderadas"
      ]
    },
    {
      "cell_type": "markdown",
      "metadata": {
        "id": "XqR8bZB2VboJ"
      },
      "source": [
        "\n",
        "**Paso 6:** Llego la hora de predecir el rating."
      ]
    },
    {
      "cell_type": "code",
      "metadata": {
        "id": "H9yigNx9VYZ3",
        "colab": {
          "base_uri": "https://localhost:8080/"
        },
        "outputId": "60436918-76b5-45a2-b5f4-3b1b8e38395d"
      },
      "source": [
        "# Esta es la predicción de rating que el usuario ID:457 otorgaría al ítem ID:37\n",
        "# De esta forma podemos comparar el resultado con los prácticos anteriores\n",
        "mySlopeOne.predict(\"457\", \"37\")"
      ],
      "execution_count": 9,
      "outputs": [
        {
          "output_type": "execute_result",
          "data": {
            "text/plain": [
              "3.2408759593963623"
            ]
          },
          "metadata": {
            "tags": []
          },
          "execution_count": 9
        }
      ]
    },
    {
      "cell_type": "code",
      "metadata": {
        "id": "-0ShLi6gYhh_"
      },
      "source": [
        "# También podemos guardar la predicción en una variable\n",
        "prediction = mySlopeOne.predict(\"457\", \"37\")"
      ],
      "execution_count": 10,
      "outputs": []
    },
    {
      "cell_type": "markdown",
      "metadata": {
        "id": "N8dIE2n_YYnV"
      },
      "source": [
        "**Paso 7:** Generaremos ahora una lista ordenada de las top-N recomendaciones, dado un usuario.\n",
        "\n"
      ]
    },
    {
      "cell_type": "code",
      "metadata": {
        "id": "CVcJ1I1nZaK1",
        "colab": {
          "base_uri": "https://localhost:8080/"
        },
        "outputId": "22c3648f-137c-476f-e863-1f67af48e8a1"
      },
      "source": [
        "# Mediante el método recommend() genereremos una lista top-5 recomendaciones para el usuario ID:457\n",
        "reclist_slopeone = mySlopeOne.recommend(\"457\", 5)\n",
        "\n",
        "# Y visualizaremos el resultado\n",
        "print('Lista de items según ID:', reclist_slopeone)"
      ],
      "execution_count": 11,
      "outputs": [
        {
          "output_type": "stream",
          "text": [
            "Lista de items según ID: ['1592', '1589', '1656', '1431', '1653']\n"
          ],
          "name": "stdout"
        }
      ]
    },
    {
      "cell_type": "code",
      "metadata": {
        "id": "BFdRZKQcZtHE",
        "colab": {
          "base_uri": "https://localhost:8080/"
        },
        "outputId": "14b6fb87-8f17-4b52-9dfb-3efb9d15838f"
      },
      "source": [
        "# Lo convertimos a numpy array\n",
        "recmovies_slopeone = np.array(reclist_slopeone).astype(int)\n",
        "\n",
        "# Utilizamos la estructura de datos de los items para encontrar los títulos recomendados\n",
        "info_file.loc[recmovies_slopeone]['title']"
      ],
      "execution_count": 12,
      "outputs": [
        {
          "output_type": "execute_result",
          "data": {
            "text/plain": [
              "movieid\n",
              "1592                               Magic Hour, The (1998)\n",
              "1589                                   Schizopolis (1996)\n",
              "1656                                   Little City (1998)\n",
              "1431                                  Legal Deceit (1997)\n",
              "1653    Entertaining Angels: The Dorothy Day Story (1996)\n",
              "Name: title, dtype: object"
            ]
          },
          "metadata": {
            "tags": []
          },
          "execution_count": 12
        }
      ]
    },
    {
      "cell_type": "markdown",
      "metadata": {
        "id": "NlX6FLTxdPRm"
      },
      "source": [
        "## Actividad 3 👩🏻‍💻\n",
        "\n",
        "Genera una nueva recomendacion, modificando los hiperparametros de usuario y topN.\n",
        "\n",
        "**Pregunta:** ¿Ves una diferencia en la recomendación entre el nuevo usuario y el usuario ID:457?\n",
        "\n",
        "**Respuesta:**\n",
        "\n",
        "Se puede ver una clara diferncia, ya que no se encuentran recomendaciones en común"
      ]
    },
    {
      "cell_type": "code",
      "metadata": {
        "id": "YQM7mfwDdY3j",
        "colab": {
          "base_uri": "https://localhost:8080/"
        },
        "outputId": "f8ff6e83-ed09-40b7-f8e9-0893d5623b13"
      },
      "source": [
        "# Escribe el nuevo codigo aqui\n",
        "new_recommendation = mySlopeOne.recommend(\"20\", 10)\n",
        "print('Lista de items según ID:', new_recommendation)\n",
        "\n",
        "new_recmovies_slopeone = np.array(new_recommendation).astype(int)\n",
        "\n",
        "# Utilizamos la estructura de datos de los items para encontrar los títulos recomendados\n",
        "info_file.loc[new_recmovies_slopeone]['title']"
      ],
      "execution_count": 13,
      "outputs": [
        {
          "output_type": "stream",
          "text": [
            "Lista de items según ID: ['1599', '1536', '129', '128', '127', '126', '125', '124', '123', '122']\n"
          ],
          "name": "stdout"
        },
        {
          "output_type": "execute_result",
          "data": {
            "text/plain": [
              "movieid\n",
              "1599    Someone Else's America (1995)\n",
              "1536             Aiqing wansui (1994)\n",
              "129                      Bound (1996)\n",
              "128                   Supercop (1992)\n",
              "127             Godfather, The (1972)\n",
              "126        Spitfire Grill, The (1996)\n",
              "125                 Phenomenon (1996)\n",
              "124                  Lone Star (1996)\n",
              "123           Frighteners, The (1996)\n",
              "122             Cable Guy, The (1996)\n",
              "Name: title, dtype: object"
            ]
          },
          "metadata": {
            "tags": []
          },
          "execution_count": 13
        }
      ]
    },
    {
      "cell_type": "markdown",
      "metadata": {
        "id": "iU2NlezaiIur"
      },
      "source": [
        "## Actividad Opcional 👩🏻‍💻\n",
        "\n",
        "Dado el usuario ID:44, cree dos listas de películas recomendadas; la primera utilizando el algoritmo Most Popular y la segunda utilizando el algoritmo Slope One.\n",
        "\n",
        "**Pregunta:** Realice un analisis apreciativo de las similitudes y diferencias entre ambas recomendaciones.\n",
        "\n",
        "**Respuesta:**"
      ]
    },
    {
      "cell_type": "code",
      "metadata": {
        "id": "d-tvKsOlAt5G"
      },
      "source": [
        "# Definicion de objeto \"most popular\"\n",
        "most_popular = pyreclab.MostPopular(dataset='u1.base', dlmchar=b'\\t', header=False, usercol=0, itemcol=1, ratingcol=2)\n",
        "\n",
        "# en teoria no es \"entrenar\" , objeto \"most_popular\" solo registra los items más populares en el set de entrenamiento  \n",
        "most_popular.train()\n",
        "\n",
        "recmovies_most_popular = most_popular.recommend(\"44\", 10)\n",
        "recmovies_most_popular = np.array(recmovies_most_popular).astype(int)"
      ],
      "execution_count": 21,
      "outputs": []
    },
    {
      "cell_type": "code",
      "metadata": {
        "id": "Rxk9ySLQiMC4",
        "colab": {
          "base_uri": "https://localhost:8080/"
        },
        "outputId": "bff24eca-163c-4003-e652-9024f011b5c7"
      },
      "source": [
        "# acorde a slope one\n",
        "\n",
        "# Escribe el nuevo codigo aqui\n",
        "new_recommendation = mySlopeOne.recommend(\"44\", 10)\n",
        "print('Lista de items según ID:', new_recommendation)\n",
        "\n",
        "new_recmovies_slopeone = np.array(new_recommendation).astype(int)\n",
        "\n",
        "# Utilizamos la estructura de datos de los items para encontrar los títulos recomendados\n",
        "info_file.loc[new_recmovies_slopeone]['title']"
      ],
      "execution_count": 24,
      "outputs": [
        {
          "output_type": "stream",
          "text": [
            "Lista de items según ID: ['1656', '1064', '1643', '1642', '1625', '1599', '1512', '1536', '1500', '1467']\n"
          ],
          "name": "stdout"
        },
        {
          "output_type": "execute_result",
          "data": {
            "text/plain": [
              "movieid\n",
              "1656                        Little City (1998)\n",
              "1064                          Crossfire (1947)\n",
              "1643                         Angel Baby (1995)\n",
              "1642                  Some Mother's Son (1996)\n",
              "1625                         Nightwatch (1997)\n",
              "1599             Someone Else's America (1995)\n",
              "1512    World of Apu, The (Apur Sansar) (1959)\n",
              "1536                      Aiqing wansui (1994)\n",
              "1500                 Santa with Muscles (1996)\n",
              "1467      Saint of Fort Washington, The (1993)\n",
              "Name: title, dtype: object"
            ]
          },
          "metadata": {
            "tags": []
          },
          "execution_count": 24
        }
      ]
    },
    {
      "cell_type": "code",
      "metadata": {
        "id": "KwDU_1MRBTqY",
        "outputId": "bd5a6d45-2431-40c0-ac0d-369454df0b11",
        "colab": {
          "base_uri": "https://localhost:8080/"
        }
      },
      "source": [
        "# acorde a most popular\n",
        "info_file.loc[recmovies_most_popular]['title']"
      ],
      "execution_count": 23,
      "outputs": [
        {
          "output_type": "execute_result",
          "data": {
            "text/plain": [
              "movieid\n",
              "50                     Star Wars (1977)\n",
              "100                        Fargo (1996)\n",
              "181           Return of the Jedi (1983)\n",
              "286         English Patient, The (1996)\n",
              "1                      Toy Story (1995)\n",
              "121       Independence Day (ID4) (1996)\n",
              "300                Air Force One (1997)\n",
              "127               Godfather, The (1972)\n",
              "7                 Twelve Monkeys (1995)\n",
              "98     Silence of the Lambs, The (1991)\n",
              "Name: title, dtype: object"
            ]
          },
          "metadata": {
            "tags": []
          },
          "execution_count": 23
        }
      ]
    },
    {
      "cell_type": "markdown",
      "metadata": {
        "id": "TM-W6u2gB2G3"
      },
      "source": [
        "Podemos ver que el set de recomendación entre most popular y slope one son completamente disjuntos, lo que ya muestra un grado de personalización en las recomendaciones\n",
        "\n",
        "Por otro lado, ambos set tienden a recomendar películas más bien antiguas"
      ]
    }
  ]
}