{
  "nbformat": 4,
  "nbformat_minor": 0,
  "metadata": {
    "colab": {
      "name": "GRU4Rec c/DT.ipynb",
      "provenance": [],
      "collapsed_sections": []
    },
    "kernelspec": {
      "name": "python3",
      "display_name": "Python 3"
    },
    "accelerator": "GPU"
  },
  "cells": [
  {
   "cell_type": "markdown",
   "metadata": {
    "colab_type": "text",
    "id": "view-in-github"
   },
   "source": [
    "<a href=\"https://colab.research.google.com/github/PUC-RecSys-Class/RecSysPUC-2020/blob/master/practicos/GRU4Rec.ipynb\" target=\"_parent\"><img src=\"https://colab.research.google.com/assets/colab-badge.svg\" alt=\"Open In Colab\"/></a>\n"
   ]
  },
    {
      "cell_type": "markdown",
      "metadata": {
        "id": "bcrDor7CR1SO",
        "colab_type": "text"
      },
      "source": [
        "# Gated Recurrent Units for session-based next item prediction\n",
        "\n",
        "Patricio Cerda, Bastián Mavrakis, Denis Parra\n",
        "\n",
        "### Ambiente: Python3 + GPU\n",
        "\n",
        "## Descargar datos y repositorio"
      ]
    },
    {
      "cell_type": "code",
      "metadata": {
        "id": "nCAQDIrOPUQP",
        "colab_type": "code",
        "colab": {
          "base_uri": "https://localhost:8080/",
          "height": 145
        },
        "outputId": "baf413f1-f49c-443f-cd33-87779a0c5c5b"
      },
      "source": [
        "# Clone repo\n",
        "!git clone https://github.com/pcerdam/KerasGRU4Rec --single-branch src"
      ],
      "execution_count": null,
      "outputs": [
        {
          "output_type": "stream",
          "text": [
            "Cloning into 'src'...\n",
            "remote: Enumerating objects: 33, done.\u001b[K\n",
            "remote: Counting objects: 100% (33/33), done.\u001b[K\n",
            "remote: Compressing objects: 100% (22/22), done.\u001b[K\n",
            "remote: Total 194 (delta 10), reused 25 (delta 9), pack-reused 161\u001b[K\n",
            "Receiving objects: 100% (194/194), 10.58 MiB | 12.01 MiB/s, done.\n",
            "Resolving deltas: 100% (82/82), done.\n"
          ],
          "name": "stdout"
        }
      ]
    },
    {
      "cell_type": "code",
      "metadata": {
        "id": "BpccDqjDPbjI",
        "colab_type": "code",
        "colab": {
          "base_uri": "https://localhost:8080/",
          "height": 72
        },
        "outputId": "29aec406-2811-40dd-feb0-fbeac5a9585c"
      },
      "source": [
        "# Download RecSys Challenge 2015 dataset\n",
        "!rm -r sample_data\n",
        "!curl https://s3-eu-west-1.amazonaws.com/yc-rdata/yoochoose-data.7z --output data.7z"
      ],
      "execution_count": null,
      "outputs": [
        {
          "output_type": "stream",
          "text": [
            "  % Total    % Received % Xferd  Average Speed   Time    Time     Time  Current\n",
            "                                 Dload  Upload   Total   Spent    Left  Speed\n",
            "100  273M  100  273M    0     0  91.2M      0  0:00:03  0:00:03 --:--:-- 91.2M\n"
          ],
          "name": "stdout"
        }
      ]
    },
    {
      "cell_type": "code",
      "metadata": {
        "id": "AJkLaRyqPp-z",
        "colab_type": "code",
        "colab": {
          "base_uri": "https://localhost:8080/",
          "height": 417
        },
        "outputId": "0045a60f-5024-463d-98b9-30843e85aaa3"
      },
      "source": [
        "# Extract dataset\n",
        "!7z e data.7z -o./rsc15\n",
        "!rm data.7z\n",
        "!mkdir data"
      ],
      "execution_count": null,
      "outputs": [
        {
          "output_type": "stream",
          "text": [
            "\n",
            "7-Zip [64] 16.02 : Copyright (c) 1999-2016 Igor Pavlov : 2016-05-21\n",
            "p7zip Version 16.02 (locale=en_US.UTF-8,Utf16=on,HugeFiles=on,64 bits,2 CPUs Intel(R) Xeon(R) CPU @ 2.00GHz (50653),ASM,AES-NI)\n",
            "\n",
            "Scanning the drive for archives:\n",
            "  0M Scan\b\b\b\b\b\b\b\b\b         \b\b\b\b\b\b\b\b\b1 file, 287211932 bytes (274 MiB)\n",
            "\n",
            "Extracting archive: data.7z\n",
            "--\n",
            "Path = data.7z\n",
            "Type = 7z\n",
            "Physical Size = 287211932\n",
            "Headers Size = 255\n",
            "Method = LZMA:24\n",
            "Solid = +\n",
            "Blocks = 2\n",
            "\n",
            "  0%\b\b\b\b    \b\b\b\b  0% - yoochoose-buys.dat\b\b\b\b\b\b\b\b\b\b\b\b\b\b\b\b\b\b\b\b\b\b\b\b\b                         \b\b\b\b\b\b\b\b\b\b\b\b\b\b\b\b\b\b\b\b\b\b\b\b\b  1% - yoochoose-buys.dat\b\b\b\b\b\b\b\b\b\b\b\b\b\b\b\b\b\b\b\b\b\b\b\b\b                         \b\b\b\b\b\b\b\b\b\b\b\b\b\b\b\b\b\b\b\b\b\b\b\b\b  2% - yoochoose-buys.dat\b\b\b\b\b\b\b\b\b\b\b\b\b\b\b\b\b\b\b\b\b\b\b\b\b                         \b\b\b\b\b\b\b\b\b\b\b\b\b\b\b\b\b\b\b\b\b\b\b\b\b  3% 1 - yoochoose-clicks.dat\b\b\b\b\b\b\b\b\b\b\b\b\b\b\b\b\b\b\b\b\b\b\b\b\b\b\b\b\b                             \b\b\b\b\b\b\b\b\b\b\b\b\b\b\b\b\b\b\b\b\b\b\b\b\b\b\b\b\b  4% 1 - yoochoose-clicks.dat\b\b\b\b\b\b\b\b\b\b\b\b\b\b\b\b\b\b\b\b\b\b\b\b\b\b\b\b\b                             \b\b\b\b\b\b\b\b\b\b\b\b\b\b\b\b\b\b\b\b\b\b\b\b\b\b\b\b\b  5% 1 - yoochoose-clicks.dat\b\b\b\b\b\b\b\b\b\b\b\b\b\b\b\b\b\b\b\b\b\b\b\b\b\b\b\b\b                             \b\b\b\b\b\b\b\b\b\b\b\b\b\b\b\b\b\b\b\b\b\b\b\b\b\b\b\b\b  6% 1 - yoochoose-clicks.dat\b\b\b\b\b\b\b\b\b\b\b\b\b\b\b\b\b\b\b\b\b\b\b\b\b\b\b\b\b                             \b\b\b\b\b\b\b\b\b\b\b\b\b\b\b\b\b\b\b\b\b\b\b\b\b\b\b\b\b  7% 1 - yoochoose-clicks.dat\b\b\b\b\b\b\b\b\b\b\b\b\b\b\b\b\b\b\b\b\b\b\b\b\b\b\b\b\b                             \b\b\b\b\b\b\b\b\b\b\b\b\b\b\b\b\b\b\b\b\b\b\b\b\b\b\b\b\b  8% 1 - yoochoose-clicks.dat\b\b\b\b\b\b\b\b\b\b\b\b\b\b\b\b\b\b\b\b\b\b\b\b\b\b\b\b\b                             \b\b\b\b\b\b\b\b\b\b\b\b\b\b\b\b\b\b\b\b\b\b\b\b\b\b\b\b\b  9% 1 - yoochoose-clicks.dat\b\b\b\b\b\b\b\b\b\b\b\b\b\b\b\b\b\b\b\b\b\b\b\b\b\b\b\b\b                             \b\b\b\b\b\b\b\b\b\b\b\b\b\b\b\b\b\b\b\b\b\b\b\b\b\b\b\b\b 10% 1 - yoochoose-clicks.dat\b\b\b\b\b\b\b\b\b\b\b\b\b\b\b\b\b\b\b\b\b\b\b\b\b\b\b\b\b                             \b\b\b\b\b\b\b\b\b\b\b\b\b\b\b\b\b\b\b\b\b\b\b\b\b\b\b\b\b 11% 1 - yoochoose-clicks.dat\b\b\b\b\b\b\b\b\b\b\b\b\b\b\b\b\b\b\b\b\b\b\b\b\b\b\b\b\b                             \b\b\b\b\b\b\b\b\b\b\b\b\b\b\b\b\b\b\b\b\b\b\b\b\b\b\b\b\b 12% 1 - yoochoose-clicks.dat\b\b\b\b\b\b\b\b\b\b\b\b\b\b\b\b\b\b\b\b\b\b\b\b\b\b\b\b\b                             \b\b\b\b\b\b\b\b\b\b\b\b\b\b\b\b\b\b\b\b\b\b\b\b\b\b\b\b\b 13% 1 - yoochoose-clicks.dat\b\b\b\b\b\b\b\b\b\b\b\b\b\b\b\b\b\b\b\b\b\b\b\b\b\b\b\b\b                             \b\b\b\b\b\b\b\b\b\b\b\b\b\b\b\b\b\b\b\b\b\b\b\b\b\b\b\b\b 14% 1 - yoochoose-clicks.dat\b\b\b\b\b\b\b\b\b\b\b\b\b\b\b\b\b\b\b\b\b\b\b\b\b\b\b\b\b                             \b\b\b\b\b\b\b\b\b\b\b\b\b\b\b\b\b\b\b\b\b\b\b\b\b\b\b\b\b 15% 1 - yoochoose-clicks.dat\b\b\b\b\b\b\b\b\b\b\b\b\b\b\b\b\b\b\b\b\b\b\b\b\b\b\b\b\b                             \b\b\b\b\b\b\b\b\b\b\b\b\b\b\b\b\b\b\b\b\b\b\b\b\b\b\b\b\b 16% 1 - yoochoose-clicks.dat\b\b\b\b\b\b\b\b\b\b\b\b\b\b\b\b\b\b\b\b\b\b\b\b\b\b\b\b\b                             \b\b\b\b\b\b\b\b\b\b\b\b\b\b\b\b\b\b\b\b\b\b\b\b\b\b\b\b\b 17% 1 - yoochoose-clicks.dat\b\b\b\b\b\b\b\b\b\b\b\b\b\b\b\b\b\b\b\b\b\b\b\b\b\b\b\b\b                             \b\b\b\b\b\b\b\b\b\b\b\b\b\b\b\b\b\b\b\b\b\b\b\b\b\b\b\b\b 18% 1 - yoochoose-clicks.dat\b\b\b\b\b\b\b\b\b\b\b\b\b\b\b\b\b\b\b\b\b\b\b\b\b\b\b\b\b                             \b\b\b\b\b\b\b\b\b\b\b\b\b\b\b\b\b\b\b\b\b\b\b\b\b\b\b\b\b 19% 1 - yoochoose-clicks.dat\b\b\b\b\b\b\b\b\b\b\b\b\b\b\b\b\b\b\b\b\b\b\b\b\b\b\b\b\b                             \b\b\b\b\b\b\b\b\b\b\b\b\b\b\b\b\b\b\b\b\b\b\b\b\b\b\b\b\b 20% 1 - yoochoose-clicks.dat\b\b\b\b\b\b\b\b\b\b\b\b\b\b\b\b\b\b\b\b\b\b\b\b\b\b\b\b\b                             \b\b\b\b\b\b\b\b\b\b\b\b\b\b\b\b\b\b\b\b\b\b\b\b\b\b\b\b\b 21% 1 - yoochoose-clicks.dat\b\b\b\b\b\b\b\b\b\b\b\b\b\b\b\b\b\b\b\b\b\b\b\b\b\b\b\b\b                             \b\b\b\b\b\b\b\b\b\b\b\b\b\b\b\b\b\b\b\b\b\b\b\b\b\b\b\b\b 22% 1 - yoochoose-clicks.dat\b\b\b\b\b\b\b\b\b\b\b\b\b\b\b\b\b\b\b\b\b\b\b\b\b\b\b\b\b                             \b\b\b\b\b\b\b\b\b\b\b\b\b\b\b\b\b\b\b\b\b\b\b\b\b\b\b\b\b 23% 1 - yoochoose-clicks.dat\b\b\b\b\b\b\b\b\b\b\b\b\b\b\b\b\b\b\b\b\b\b\b\b\b\b\b\b\b                             \b\b\b\b\b\b\b\b\b\b\b\b\b\b\b\b\b\b\b\b\b\b\b\b\b\b\b\b\b 24% 1 - yoochoose-clicks.dat\b\b\b\b\b\b\b\b\b\b\b\b\b\b\b\b\b\b\b\b\b\b\b\b\b\b\b\b\b                             \b\b\b\b\b\b\b\b\b\b\b\b\b\b\b\b\b\b\b\b\b\b\b\b\b\b\b\b\b 25% 1 - yoochoose-clicks.dat\b\b\b\b\b\b\b\b\b\b\b\b\b\b\b\b\b\b\b\b\b\b\b\b\b\b\b\b\b                             \b\b\b\b\b\b\b\b\b\b\b\b\b\b\b\b\b\b\b\b\b\b\b\b\b\b\b\b\b 26% 1 - yoochoose-clicks.dat\b\b\b\b\b\b\b\b\b\b\b\b\b\b\b\b\b\b\b\b\b\b\b\b\b\b\b\b\b                             \b\b\b\b\b\b\b\b\b\b\b\b\b\b\b\b\b\b\b\b\b\b\b\b\b\b\b\b\b 27% 1 - yoochoose-clicks.dat\b\b\b\b\b\b\b\b\b\b\b\b\b\b\b\b\b\b\b\b\b\b\b\b\b\b\b\b\b                             \b\b\b\b\b\b\b\b\b\b\b\b\b\b\b\b\b\b\b\b\b\b\b\b\b\b\b\b\b 28% 1 - yoochoose-clicks.dat\b\b\b\b\b\b\b\b\b\b\b\b\b\b\b\b\b\b\b\b\b\b\b\b\b\b\b\b\b                             \b\b\b\b\b\b\b\b\b\b\b\b\b\b\b\b\b\b\b\b\b\b\b\b\b\b\b\b\b 29% 1 - yoochoose-clicks.dat\b\b\b\b\b\b\b\b\b\b\b\b\b\b\b\b\b\b\b\b\b\b\b\b\b\b\b\b\b                             \b\b\b\b\b\b\b\b\b\b\b\b\b\b\b\b\b\b\b\b\b\b\b\b\b\b\b\b\b 30% 1 - yoochoose-clicks.dat\b\b\b\b\b\b\b\b\b\b\b\b\b\b\b\b\b\b\b\b\b\b\b\b\b\b\b\b\b                             \b\b\b\b\b\b\b\b\b\b\b\b\b\b\b\b\b\b\b\b\b\b\b\b\b\b\b\b\b 31% 1 - yoochoose-clicks.dat\b\b\b\b\b\b\b\b\b\b\b\b\b\b\b\b\b\b\b\b\b\b\b\b\b\b\b\b\b                             \b\b\b\b\b\b\b\b\b\b\b\b\b\b\b\b\b\b\b\b\b\b\b\b\b\b\b\b\b 32% 1 - yoochoose-clicks.dat\b\b\b\b\b\b\b\b\b\b\b\b\b\b\b\b\b\b\b\b\b\b\b\b\b\b\b\b\b                             \b\b\b\b\b\b\b\b\b\b\b\b\b\b\b\b\b\b\b\b\b\b\b\b\b\b\b\b\b 33% 1 - yoochoose-clicks.dat\b\b\b\b\b\b\b\b\b\b\b\b\b\b\b\b\b\b\b\b\b\b\b\b\b\b\b\b\b                             \b\b\b\b\b\b\b\b\b\b\b\b\b\b\b\b\b\b\b\b\b\b\b\b\b\b\b\b\b 34% 1 - yoochoose-clicks.dat\b\b\b\b\b\b\b\b\b\b\b\b\b\b\b\b\b\b\b\b\b\b\b\b\b\b\b\b\b                             \b\b\b\b\b\b\b\b\b\b\b\b\b\b\b\b\b\b\b\b\b\b\b\b\b\b\b\b\b 35% 1 - yoochoose-clicks.dat\b\b\b\b\b\b\b\b\b\b\b\b\b\b\b\b\b\b\b\b\b\b\b\b\b\b\b\b\b                             \b\b\b\b\b\b\b\b\b\b\b\b\b\b\b\b\b\b\b\b\b\b\b\b\b\b\b\b\b 36% 1 - yoochoose-clicks.dat\b\b\b\b\b\b\b\b\b\b\b\b\b\b\b\b\b\b\b\b\b\b\b\b\b\b\b\b\b                             \b\b\b\b\b\b\b\b\b\b\b\b\b\b\b\b\b\b\b\b\b\b\b\b\b\b\b\b\b 37% 1 - yoochoose-clicks.dat\b\b\b\b\b\b\b\b\b\b\b\b\b\b\b\b\b\b\b\b\b\b\b\b\b\b\b\b\b                             \b\b\b\b\b\b\b\b\b\b\b\b\b\b\b\b\b\b\b\b\b\b\b\b\b\b\b\b\b 38% 1 - yoochoose-clicks.dat\b\b\b\b\b\b\b\b\b\b\b\b\b\b\b\b\b\b\b\b\b\b\b\b\b\b\b\b\b                             \b\b\b\b\b\b\b\b\b\b\b\b\b\b\b\b\b\b\b\b\b\b\b\b\b\b\b\b\b 39% 1 - yoochoose-clicks.dat\b\b\b\b\b\b\b\b\b\b\b\b\b\b\b\b\b\b\b\b\b\b\b\b\b\b\b\b\b                             \b\b\b\b\b\b\b\b\b\b\b\b\b\b\b\b\b\b\b\b\b\b\b\b\b\b\b\b\b 40% 1 - yoochoose-clicks.dat\b\b\b\b\b\b\b\b\b\b\b\b\b\b\b\b\b\b\b\b\b\b\b\b\b\b\b\b\b                             \b\b\b\b\b\b\b\b\b\b\b\b\b\b\b\b\b\b\b\b\b\b\b\b\b\b\b\b\b 41% 1 - yoochoose-clicks.dat\b\b\b\b\b\b\b\b\b\b\b\b\b\b\b\b\b\b\b\b\b\b\b\b\b\b\b\b\b                             \b\b\b\b\b\b\b\b\b\b\b\b\b\b\b\b\b\b\b\b\b\b\b\b\b\b\b\b\b 42% 1 - yoochoose-clicks.dat\b\b\b\b\b\b\b\b\b\b\b\b\b\b\b\b\b\b\b\b\b\b\b\b\b\b\b\b\b                             \b\b\b\b\b\b\b\b\b\b\b\b\b\b\b\b\b\b\b\b\b\b\b\b\b\b\b\b\b 43% 1 - yoochoose-clicks.dat\b\b\b\b\b\b\b\b\b\b\b\b\b\b\b\b\b\b\b\b\b\b\b\b\b\b\b\b\b                             \b\b\b\b\b\b\b\b\b\b\b\b\b\b\b\b\b\b\b\b\b\b\b\b\b\b\b\b\b 44% 1 - yoochoose-clicks.dat\b\b\b\b\b\b\b\b\b\b\b\b\b\b\b\b\b\b\b\b\b\b\b\b\b\b\b\b\b                             \b\b\b\b\b\b\b\b\b\b\b\b\b\b\b\b\b\b\b\b\b\b\b\b\b\b\b\b\b 45% 1 - yoochoose-clicks.dat\b\b\b\b\b\b\b\b\b\b\b\b\b\b\b\b\b\b\b\b\b\b\b\b\b\b\b\b\b                             \b\b\b\b\b\b\b\b\b\b\b\b\b\b\b\b\b\b\b\b\b\b\b\b\b\b\b\b\b 46% 1 - yoochoose-clicks.dat\b\b\b\b\b\b\b\b\b\b\b\b\b\b\b\b\b\b\b\b\b\b\b\b\b\b\b\b\b                             \b\b\b\b\b\b\b\b\b\b\b\b\b\b\b\b\b\b\b\b\b\b\b\b\b\b\b\b\b 47% 1 - yoochoose-clicks.dat\b\b\b\b\b\b\b\b\b\b\b\b\b\b\b\b\b\b\b\b\b\b\b\b\b\b\b\b\b                             \b\b\b\b\b\b\b\b\b\b\b\b\b\b\b\b\b\b\b\b\b\b\b\b\b\b\b\b\b 48% 1 - yoochoose-clicks.dat\b\b\b\b\b\b\b\b\b\b\b\b\b\b\b\b\b\b\b\b\b\b\b\b\b\b\b\b\b                             \b\b\b\b\b\b\b\b\b\b\b\b\b\b\b\b\b\b\b\b\b\b\b\b\b\b\b\b\b 49% 1 - yoochoose-clicks.dat\b\b\b\b\b\b\b\b\b\b\b\b\b\b\b\b\b\b\b\b\b\b\b\b\b\b\b\b\b                             \b\b\b\b\b\b\b\b\b\b\b\b\b\b\b\b\b\b\b\b\b\b\b\b\b\b\b\b\b 50% 1 - yoochoose-clicks.dat\b\b\b\b\b\b\b\b\b\b\b\b\b\b\b\b\b\b\b\b\b\b\b\b\b\b\b\b\b                             \b\b\b\b\b\b\b\b\b\b\b\b\b\b\b\b\b\b\b\b\b\b\b\b\b\b\b\b\b 51% 1 - yoochoose-clicks.dat\b\b\b\b\b\b\b\b\b\b\b\b\b\b\b\b\b\b\b\b\b\b\b\b\b\b\b\b\b                             \b\b\b\b\b\b\b\b\b\b\b\b\b\b\b\b\b\b\b\b\b\b\b\b\b\b\b\b\b 52% 1 - yoochoose-clicks.dat\b\b\b\b\b\b\b\b\b\b\b\b\b\b\b\b\b\b\b\b\b\b\b\b\b\b\b\b\b                             \b\b\b\b\b\b\b\b\b\b\b\b\b\b\b\b\b\b\b\b\b\b\b\b\b\b\b\b\b 53% 1 - yoochoose-clicks.dat\b\b\b\b\b\b\b\b\b\b\b\b\b\b\b\b\b\b\b\b\b\b\b\b\b\b\b\b\b                             \b\b\b\b\b\b\b\b\b\b\b\b\b\b\b\b\b\b\b\b\b\b\b\b\b\b\b\b\b 54% 1 - yoochoose-clicks.dat\b\b\b\b\b\b\b\b\b\b\b\b\b\b\b\b\b\b\b\b\b\b\b\b\b\b\b\b\b                             \b\b\b\b\b\b\b\b\b\b\b\b\b\b\b\b\b\b\b\b\b\b\b\b\b\b\b\b\b 55% 1 - yoochoose-clicks.dat\b\b\b\b\b\b\b\b\b\b\b\b\b\b\b\b\b\b\b\b\b\b\b\b\b\b\b\b\b                             \b\b\b\b\b\b\b\b\b\b\b\b\b\b\b\b\b\b\b\b\b\b\b\b\b\b\b\b\b 56% 1 - yoochoose-clicks.dat\b\b\b\b\b\b\b\b\b\b\b\b\b\b\b\b\b\b\b\b\b\b\b\b\b\b\b\b\b                             \b\b\b\b\b\b\b\b\b\b\b\b\b\b\b\b\b\b\b\b\b\b\b\b\b\b\b\b\b 57% 1 - yoochoose-clicks.dat\b\b\b\b\b\b\b\b\b\b\b\b\b\b\b\b\b\b\b\b\b\b\b\b\b\b\b\b\b                             \b\b\b\b\b\b\b\b\b\b\b\b\b\b\b\b\b\b\b\b\b\b\b\b\b\b\b\b\b 58% 1 - yoochoose-clicks.dat\b\b\b\b\b\b\b\b\b\b\b\b\b\b\b\b\b\b\b\b\b\b\b\b\b\b\b\b\b                             \b\b\b\b\b\b\b\b\b\b\b\b\b\b\b\b\b\b\b\b\b\b\b\b\b\b\b\b\b 59% 1 - yoochoose-clicks.dat\b\b\b\b\b\b\b\b\b\b\b\b\b\b\b\b\b\b\b\b\b\b\b\b\b\b\b\b\b                             \b\b\b\b\b\b\b\b\b\b\b\b\b\b\b\b\b\b\b\b\b\b\b\b\b\b\b\b\b 60% 1 - yoochoose-clicks.dat\b\b\b\b\b\b\b\b\b\b\b\b\b\b\b\b\b\b\b\b\b\b\b\b\b\b\b\b\b                             \b\b\b\b\b\b\b\b\b\b\b\b\b\b\b\b\b\b\b\b\b\b\b\b\b\b\b\b\b 61% 1 - yoochoose-clicks.dat\b\b\b\b\b\b\b\b\b\b\b\b\b\b\b\b\b\b\b\b\b\b\b\b\b\b\b\b\b                             \b\b\b\b\b\b\b\b\b\b\b\b\b\b\b\b\b\b\b\b\b\b\b\b\b\b\b\b\b 62% 1 - yoochoose-clicks.dat\b\b\b\b\b\b\b\b\b\b\b\b\b\b\b\b\b\b\b\b\b\b\b\b\b\b\b\b\b                             \b\b\b\b\b\b\b\b\b\b\b\b\b\b\b\b\b\b\b\b\b\b\b\b\b\b\b\b\b 63% 1 - yoochoose-clicks.dat\b\b\b\b\b\b\b\b\b\b\b\b\b\b\b\b\b\b\b\b\b\b\b\b\b\b\b\b\b                             \b\b\b\b\b\b\b\b\b\b\b\b\b\b\b\b\b\b\b\b\b\b\b\b\b\b\b\b\b 64% 1 - yoochoose-clicks.dat\b\b\b\b\b\b\b\b\b\b\b\b\b\b\b\b\b\b\b\b\b\b\b\b\b\b\b\b\b                             \b\b\b\b\b\b\b\b\b\b\b\b\b\b\b\b\b\b\b\b\b\b\b\b\b\b\b\b\b 65% 1 - yoochoose-clicks.dat\b\b\b\b\b\b\b\b\b\b\b\b\b\b\b\b\b\b\b\b\b\b\b\b\b\b\b\b\b                             \b\b\b\b\b\b\b\b\b\b\b\b\b\b\b\b\b\b\b\b\b\b\b\b\b\b\b\b\b 66% 1 - yoochoose-clicks.dat\b\b\b\b\b\b\b\b\b\b\b\b\b\b\b\b\b\b\b\b\b\b\b\b\b\b\b\b\b                             \b\b\b\b\b\b\b\b\b\b\b\b\b\b\b\b\b\b\b\b\b\b\b\b\b\b\b\b\b 67% 1 - yoochoose-clicks.dat\b\b\b\b\b\b\b\b\b\b\b\b\b\b\b\b\b\b\b\b\b\b\b\b\b\b\b\b\b                             \b\b\b\b\b\b\b\b\b\b\b\b\b\b\b\b\b\b\b\b\b\b\b\b\b\b\b\b\b 68% 1 - yoochoose-clicks.dat\b\b\b\b\b\b\b\b\b\b\b\b\b\b\b\b\b\b\b\b\b\b\b\b\b\b\b\b\b                             \b\b\b\b\b\b\b\b\b\b\b\b\b\b\b\b\b\b\b\b\b\b\b\b\b\b\b\b\b 69% 1 - yoochoose-clicks.dat\b\b\b\b\b\b\b\b\b\b\b\b\b\b\b\b\b\b\b\b\b\b\b\b\b\b\b\b\b                             \b\b\b\b\b\b\b\b\b\b\b\b\b\b\b\b\b\b\b\b\b\b\b\b\b\b\b\b\b 70% 1 - yoochoose-clicks.dat\b\b\b\b\b\b\b\b\b\b\b\b\b\b\b\b\b\b\b\b\b\b\b\b\b\b\b\b\b                             \b\b\b\b\b\b\b\b\b\b\b\b\b\b\b\b\b\b\b\b\b\b\b\b\b\b\b\b\b 71% 1 - yoochoose-clicks.dat\b\b\b\b\b\b\b\b\b\b\b\b\b\b\b\b\b\b\b\b\b\b\b\b\b\b\b\b\b                             \b\b\b\b\b\b\b\b\b\b\b\b\b\b\b\b\b\b\b\b\b\b\b\b\b\b\b\b\b 72% 1 - yoochoose-clicks.dat\b\b\b\b\b\b\b\b\b\b\b\b\b\b\b\b\b\b\b\b\b\b\b\b\b\b\b\b\b                             \b\b\b\b\b\b\b\b\b\b\b\b\b\b\b\b\b\b\b\b\b\b\b\b\b\b\b\b\b 73% 1 - yoochoose-clicks.dat\b\b\b\b\b\b\b\b\b\b\b\b\b\b\b\b\b\b\b\b\b\b\b\b\b\b\b\b\b                             \b\b\b\b\b\b\b\b\b\b\b\b\b\b\b\b\b\b\b\b\b\b\b\b\b\b\b\b\b 74% 1 - yoochoose-clicks.dat\b\b\b\b\b\b\b\b\b\b\b\b\b\b\b\b\b\b\b\b\b\b\b\b\b\b\b\b\b                             \b\b\b\b\b\b\b\b\b\b\b\b\b\b\b\b\b\b\b\b\b\b\b\b\b\b\b\b\b 75% 1 - yoochoose-clicks.dat\b\b\b\b\b\b\b\b\b\b\b\b\b\b\b\b\b\b\b\b\b\b\b\b\b\b\b\b\b                             \b\b\b\b\b\b\b\b\b\b\b\b\b\b\b\b\b\b\b\b\b\b\b\b\b\b\b\b\b 76% 1 - yoochoose-clicks.dat\b\b\b\b\b\b\b\b\b\b\b\b\b\b\b\b\b\b\b\b\b\b\b\b\b\b\b\b\b                             \b\b\b\b\b\b\b\b\b\b\b\b\b\b\b\b\b\b\b\b\b\b\b\b\b\b\b\b\b 77% 1 - yoochoose-clicks.dat\b\b\b\b\b\b\b\b\b\b\b\b\b\b\b\b\b\b\b\b\b\b\b\b\b\b\b\b\b                             \b\b\b\b\b\b\b\b\b\b\b\b\b\b\b\b\b\b\b\b\b\b\b\b\b\b\b\b\b 78% 1 - yoochoose-clicks.dat\b\b\b\b\b\b\b\b\b\b\b\b\b\b\b\b\b\b\b\b\b\b\b\b\b\b\b\b\b                             \b\b\b\b\b\b\b\b\b\b\b\b\b\b\b\b\b\b\b\b\b\b\b\b\b\b\b\b\b 79% 1 - yoochoose-clicks.dat\b\b\b\b\b\b\b\b\b\b\b\b\b\b\b\b\b\b\b\b\b\b\b\b\b\b\b\b\b                             \b\b\b\b\b\b\b\b\b\b\b\b\b\b\b\b\b\b\b\b\b\b\b\b\b\b\b\b\b 80% 1 - yoochoose-clicks.dat\b\b\b\b\b\b\b\b\b\b\b\b\b\b\b\b\b\b\b\b\b\b\b\b\b\b\b\b\b                             \b\b\b\b\b\b\b\b\b\b\b\b\b\b\b\b\b\b\b\b\b\b\b\b\b\b\b\b\b 81% 2 - yoochoose-test.dat\b\b\b\b\b\b\b\b\b\b\b\b\b\b\b\b\b\b\b\b\b\b\b\b\b\b\b                           \b\b\b\b\b\b\b\b\b\b\b\b\b\b\b\b\b\b\b\b\b\b\b\b\b\b\b 82% 2 - yoochoose-test.dat\b\b\b\b\b\b\b\b\b\b\b\b\b\b\b\b\b\b\b\b\b\b\b\b\b\b\b                           \b\b\b\b\b\b\b\b\b\b\b\b\b\b\b\b\b\b\b\b\b\b\b\b\b\b\b 83% 2 - yoochoose-test.dat\b\b\b\b\b\b\b\b\b\b\b\b\b\b\b\b\b\b\b\b\b\b\b\b\b\b\b                           \b\b\b\b\b\b\b\b\b\b\b\b\b\b\b\b\b\b\b\b\b\b\b\b\b\b\b 84% 2 - yoochoose-test.dat\b\b\b\b\b\b\b\b\b\b\b\b\b\b\b\b\b\b\b\b\b\b\b\b\b\b\b                           \b\b\b\b\b\b\b\b\b\b\b\b\b\b\b\b\b\b\b\b\b\b\b\b\b\b\b 85% 2 - yoochoose-test.dat\b\b\b\b\b\b\b\b\b\b\b\b\b\b\b\b\b\b\b\b\b\b\b\b\b\b\b                           \b\b\b\b\b\b\b\b\b\b\b\b\b\b\b\b\b\b\b\b\b\b\b\b\b\b\b 86% 2 - yoochoose-test.dat\b\b\b\b\b\b\b\b\b\b\b\b\b\b\b\b\b\b\b\b\b\b\b\b\b\b\b                           \b\b\b\b\b\b\b\b\b\b\b\b\b\b\b\b\b\b\b\b\b\b\b\b\b\b\b 87% 2 - yoochoose-test.dat\b\b\b\b\b\b\b\b\b\b\b\b\b\b\b\b\b\b\b\b\b\b\b\b\b\b\b                           \b\b\b\b\b\b\b\b\b\b\b\b\b\b\b\b\b\b\b\b\b\b\b\b\b\b\b 88% 2 - yoochoose-test.dat\b\b\b\b\b\b\b\b\b\b\b\b\b\b\b\b\b\b\b\b\b\b\b\b\b\b\b                           \b\b\b\b\b\b\b\b\b\b\b\b\b\b\b\b\b\b\b\b\b\b\b\b\b\b\b 89% 2 - yoochoose-test.dat\b\b\b\b\b\b\b\b\b\b\b\b\b\b\b\b\b\b\b\b\b\b\b\b\b\b\b                           \b\b\b\b\b\b\b\b\b\b\b\b\b\b\b\b\b\b\b\b\b\b\b\b\b\b\b 90% 2 - yoochoose-test.dat\b\b\b\b\b\b\b\b\b\b\b\b\b\b\b\b\b\b\b\b\b\b\b\b\b\b\b                           \b\b\b\b\b\b\b\b\b\b\b\b\b\b\b\b\b\b\b\b\b\b\b\b\b\b\b 91% 2 - yoochoose-test.dat\b\b\b\b\b\b\b\b\b\b\b\b\b\b\b\b\b\b\b\b\b\b\b\b\b\b\b                           \b\b\b\b\b\b\b\b\b\b\b\b\b\b\b\b\b\b\b\b\b\b\b\b\b\b\b 92% 2 - yoochoose-test.dat\b\b\b\b\b\b\b\b\b\b\b\b\b\b\b\b\b\b\b\b\b\b\b\b\b\b\b                           \b\b\b\b\b\b\b\b\b\b\b\b\b\b\b\b\b\b\b\b\b\b\b\b\b\b\b 93% 2 - yoochoose-test.dat\b\b\b\b\b\b\b\b\b\b\b\b\b\b\b\b\b\b\b\b\b\b\b\b\b\b\b                           \b\b\b\b\b\b\b\b\b\b\b\b\b\b\b\b\b\b\b\b\b\b\b\b\b\b\b 94% 2 - yoochoose-test.dat\b\b\b\b\b\b\b\b\b\b\b\b\b\b\b\b\b\b\b\b\b\b\b\b\b\b\b                           \b\b\b\b\b\b\b\b\b\b\b\b\b\b\b\b\b\b\b\b\b\b\b\b\b\b\b 95% 2 - yoochoose-test.dat\b\b\b\b\b\b\b\b\b\b\b\b\b\b\b\b\b\b\b\b\b\b\b\b\b\b\b                           \b\b\b\b\b\b\b\b\b\b\b\b\b\b\b\b\b\b\b\b\b\b\b\b\b\b\b 96% 2 - yoochoose-test.dat\b\b\b\b\b\b\b\b\b\b\b\b\b\b\b\b\b\b\b\b\b\b\b\b\b\b\b                           \b\b\b\b\b\b\b\b\b\b\b\b\b\b\b\b\b\b\b\b\b\b\b\b\b\b\b 97% 2 - yoochoose-test.dat\b\b\b\b\b\b\b\b\b\b\b\b\b\b\b\b\b\b\b\b\b\b\b\b\b\b\b                           \b\b\b\b\b\b\b\b\b\b\b\b\b\b\b\b\b\b\b\b\b\b\b\b\b\b\b 98% 2 - yoochoose-test.dat\b\b\b\b\b\b\b\b\b\b\b\b\b\b\b\b\b\b\b\b\b\b\b\b\b\b\b                           \b\b\b\b\b\b\b\b\b\b\b\b\b\b\b\b\b\b\b\b\b\b\b\b\b\b\b 99% 2 - yoochoose-test.dat\b\b\b\b\b\b\b\b\b\b\b\b\b\b\b\b\b\b\b\b\b\b\b\b\b\b\b                           \b\b\b\b\b\b\b\b\b\b\b\b\b\b\b\b\b\b\b\b\b\b\b\b\b\b\b 99% 3\b\b\b\b\b\b      \b\b\b\b\b\bEverything is Ok\n",
            "\n",
            "Files: 4\n",
            "Size:       1914111754\n",
            "Compressed: 287211932\n"
          ],
          "name": "stdout"
        }
      ]
    },
    {
      "cell_type": "markdown",
      "metadata": {
        "id": "gpjJOcqDR945",
        "colab_type": "text"
      },
      "source": [
        "# Preprocesar dataset"
      ]
    },
    {
      "cell_type": "code",
      "metadata": {
        "id": "7E3mSmYQR9k-",
        "colab_type": "code",
        "colab": {}
      },
      "source": [
        "import os\n",
        "import numpy as np\n",
        "import pandas as pd\n",
        "import datetime as dt\n",
        "from matplotlib import pyplot as plt\n",
        "os.environ['TF_CPP_MIN_LOG_LEVEL'] = '3'"
      ],
      "execution_count": null,
      "outputs": []
    },
    {
      "cell_type": "code",
      "metadata": {
        "id": "WwNyFUAHRssj",
        "colab_type": "code",
        "colab": {}
      },
      "source": [
        "src_path = './rsc15/'\n",
        "dst_path   = './data/'"
      ],
      "execution_count": null,
      "outputs": []
    },
    {
      "cell_type": "code",
      "metadata": {
        "id": "om43PXTNSoLu",
        "colab_type": "code",
        "colab": {}
      },
      "source": [
        "def process(src_path, dst_path):\n",
        "  data = pd.read_csv(src_path + 'yoochoose-clicks.dat', sep=',', header=None, usecols=[0,1,2], dtype={0:np.int32, 1:str, 2:np.int64})\n",
        "  data.columns = ['SessionId', 'TimeStr', 'ItemId']\n",
        "\n",
        "  # Add timestamp\n",
        "  data['Time'] = data.TimeStr.apply(lambda x: dt.datetime.strptime(x, '%Y-%m-%dT%H:%M:%S.%fZ').timestamp())\n",
        "  del(data['TimeStr'])\n",
        "\n",
        "  # Filter by session size > 1\n",
        "  session_lengths = data.groupby('SessionId').size()  \n",
        "  data = data[np.in1d(data.SessionId, session_lengths[session_lengths>1].index)]\n",
        "  \n",
        "  # Filter by \"known\" (appears >= 5) items\n",
        "  item_supports = data.groupby('ItemId').size()\n",
        "  data = data[np.in1d(data.ItemId, item_supports[item_supports>=5].index)]\n",
        "  \n",
        "  # Filter by session size > 2\n",
        "  session_lengths = data.groupby('SessionId').size()\n",
        "  data = data[np.in1d(data.SessionId, session_lengths[session_lengths>=2].index)]\n",
        "\n",
        "  # Test split is entire last day\n",
        "  tmax = data.Time.max()\n",
        "  session_max_times = data.groupby('SessionId').Time.max()\n",
        "  \n",
        "  session_train = session_max_times[session_max_times < tmax-86400].index\n",
        "  train = data[np.in1d(data.SessionId, session_train)]\n",
        "  \n",
        "  session_test = session_max_times[session_max_times >= tmax-86400].index\n",
        "  test = data[np.in1d(data.SessionId, session_test)]\n",
        "  test = test[np.in1d(test.ItemId, train.ItemId)]\n",
        "  tslength = test.groupby('SessionId').size()\n",
        "  test = test[np.in1d(test.SessionId, tslength[tslength>=2].index)]\n",
        "  print('Test set\\n\\tEvents: {}\\n\\tSessions: {}\\n\\tItems: {}'.format(len(test), test.SessionId.nunique(), test.ItemId.nunique()))\n",
        "  test.to_csv(dst_path + 'test.tsv', sep='\\t', index=False)\n",
        "\n",
        "  # Validation: second to last day. Train: remainder\n",
        "  tmax = train.Time.max()\n",
        "  session_max_times = train.groupby('SessionId').Time.max()\n",
        "  session_train = session_max_times[session_max_times < tmax-86400].index\n",
        "  session_valid = session_max_times[session_max_times >= tmax-86400].index\n",
        "\n",
        "  train_tr = train[np.in1d(train.SessionId, session_train)]\n",
        "  valid = train[np.in1d(train.SessionId, session_valid)]\n",
        "  valid = valid[np.in1d(valid.ItemId, train_tr.ItemId)]\n",
        "  tslength = valid.groupby('SessionId').size()\n",
        "  valid = valid[np.in1d(valid.SessionId, tslength[tslength>=2].index)]\n",
        "  print('Validation set\\n\\tEvents: {}\\n\\tSessions: {}\\n\\tItems: {}'.format(len(valid), valid.SessionId.nunique(), valid.ItemId.nunique()))\n",
        "  valid.to_csv(dst_path + 'validation.tsv', sep='\\t', index=False)\n",
        "  \n",
        "  \n",
        "  print('Train set\\n\\tEvents: {}\\n\\tSessions: {}\\n\\tItems: {}'.format(len(train_tr), train_tr.SessionId.nunique(), train_tr.ItemId.nunique()))\n",
        "  train_tr.to_csv(dst_path + 'train.tsv', sep='\\t', index=False)\n"
      ],
      "execution_count": null,
      "outputs": []
    },
    {
      "cell_type": "code",
      "metadata": {
        "id": "nc6wy4phS1v2",
        "colab_type": "code",
        "colab": {
          "base_uri": "https://localhost:8080/",
          "height": 235
        },
        "outputId": "3c9e28ea-94b7-4de2-e225-dace07caee79"
      },
      "source": [
        "process(src_path, dst_path)  # Takes ~10 minutes"
      ],
      "execution_count": null,
      "outputs": [
        {
          "output_type": "stream",
          "text": [
            "Test set\n",
            "\tEvents: 71222\n",
            "\tSessions: 15324\n",
            "\tItems: 6751\n",
            "Validation set\n",
            "\tEvents: 58233\n",
            "\tSessions: 12372\n",
            "\tItems: 6359\n",
            "Train set\n",
            "\tEvents: 31579006\n",
            "\tSessions: 7953885\n",
            "\tItems: 37483\n"
          ],
          "name": "stdout"
        }
      ]
    },
    {
      "cell_type": "code",
      "metadata": {
        "id": "kx_HdipUDS2z",
        "colab_type": "code",
        "colab": {}
      },
      "source": [
        "def train_fraction(df, fraction, prefix=\"train\", path=\"./data/\"):\n",
        "    \n",
        "    length = len(df['ItemId'])\n",
        "    first_session = df.iloc[length - length//fraction].SessionId\n",
        "    df = df.loc[df['SessionId'] >= first_session]\n",
        "    itemids = df['ItemId'].unique()\n",
        "    n_items = len(itemids)\n",
        "\n",
        "    print('Fractioned data set\\n\\tEvents: {}\\n\\tSessions: {}\\n\\tItems: {}'.format(len(df), df.SessionId.nunique(), df.ItemId.nunique()))\n",
        "    filename = path + '{}_{}.tsv'.format(prefix, fraction)\n",
        "    df.to_csv(filename, sep='\\t', index=False)\n",
        "    print(\"Saved as {}\".format(filename))"
      ],
      "execution_count": null,
      "outputs": []
    },
    {
      "cell_type": "code",
      "metadata": {
        "id": "4r1tWG1gh7eX",
        "colab_type": "code",
        "colab": {
          "base_uri": "https://localhost:8080/",
          "height": 108
        },
        "outputId": "290b09b3-b3fd-4a47-cdf2-75b9502982c5"
      },
      "source": [
        "# Obtain most recent 1/nth fraction of train for demo purposes\n",
        "fraction = 64\n",
        "train = pd.read_csv(dst_path + 'train.tsv', sep='\\t', dtype={'ItemId':np.int64})\n",
        "train_fraction(train, fraction)\n"
      ],
      "execution_count": null,
      "outputs": [
        {
          "output_type": "stream",
          "text": [
            "Fractioned data set\n",
            "\tEvents: 71391\n",
            "\tSessions: 17450\n",
            "\tItems: 8724\n",
            "Saved as ./data/train_64.tsv\n"
          ],
          "name": "stdout"
        }
      ]
    },
    {
      "cell_type": "markdown",
      "metadata": {
        "id": "ZWgvazVufHs6",
        "colab_type": "text"
      },
      "source": [
        "# Entrenamiento"
      ]
    },
    {
      "cell_type": "code",
      "metadata": {
        "id": "PSPwVh4AS_GW",
        "colab_type": "code",
        "colab": {
          "base_uri": "https://localhost:8080/",
          "height": 1000
        },
        "outputId": "719530ff-2769-436c-bb14-2d1006e5e1f2"
      },
      "source": [
        "!python src/model/gru4rec.py --epochs 200 --train-path ./data/train_64.tsv --dev-path ./data/validation.tsv --test-path ./data/test.tsv"
      ],
      "execution_count": null,
      "outputs": [
        {
          "output_type": "stream",
          "text": [
            "Model: \"functional_1\"\n",
            "_________________________________________________________________\n",
            "Layer (type)                 Output Shape              Param #   \n",
            "=================================================================\n",
            "input_1 (InputLayer)         [(512, 1, 8725)]          0         \n",
            "_________________________________________________________________\n",
            "GRU (GRU)                    [(512, 100), (512, 100)]  2648100   \n",
            "_________________________________________________________________\n",
            "dropout (Dropout)            (512, 100)                0         \n",
            "_________________________________________________________________\n",
            "dense (Dense)                (512, 8725)               881225    \n",
            "=================================================================\n",
            "Total params: 3,529,325\n",
            "Trainable params: 3,529,325\n",
            "Non-trainable params: 0\n",
            "_________________________________________________________________\n",
            "Epoch 1. Loss: 8.35972:  97% 16929/17451 [00:12<00:00, 1362.78it/s]\n",
            "Epoch 2. Loss: 7.88501:  97% 16929/17451 [00:04<00:00, 3423.00it/s]\n",
            "Epoch 3. Loss: 7.61909:  97% 16929/17451 [00:05<00:00, 3364.48it/s]\n",
            "Epoch 4. Loss: 7.42983:  97% 16929/17451 [00:04<00:00, 3429.85it/s]\n",
            "Epoch 5. Loss: 7.27586:  97% 16929/17451 [00:04<00:00, 3450.03it/s]\n",
            "Epoch 6. Loss: 7.15171:  97% 16929/17451 [00:04<00:00, 3451.20it/s]\n",
            "Epoch 7. Loss: 7.00775:  97% 16929/17451 [00:04<00:00, 3435.31it/s]\n",
            "Epoch 8. Loss: 6.84558:  97% 16929/17451 [00:04<00:00, 3432.43it/s]\n",
            "Epoch 9. Loss: 6.67830:  97% 16929/17451 [00:04<00:00, 3419.72it/s]\n",
            "Epoch 10. Loss: 6.48856:  97% 16929/17451 [00:04<00:00, 3466.71it/s]\n",
            "Epoch 11. Loss: 6.29654:  97% 16929/17451 [00:04<00:00, 3426.14it/s]\n",
            "Epoch 12. Loss: 6.08829:  97% 16929/17451 [00:04<00:00, 3398.83it/s]\n",
            "Epoch 13. Loss: 5.93609:  97% 16929/17451 [00:04<00:00, 3430.01it/s]\n",
            "Epoch 14. Loss: 5.75253:  97% 16929/17451 [00:04<00:00, 3402.90it/s]\n",
            "Epoch 15. Loss: 5.59853:  97% 16929/17451 [00:05<00:00, 3369.28it/s]\n",
            "Epoch 16. Loss: 5.44144:  97% 16929/17451 [00:04<00:00, 3396.43it/s]\n",
            "Epoch 17. Loss: 5.27653:  97% 16929/17451 [00:04<00:00, 3444.06it/s]\n",
            "Epoch 18. Loss: 5.13663:  97% 16929/17451 [00:05<00:00, 3381.56it/s]\n",
            "Epoch 19. Loss: 5.00803:  97% 16929/17451 [00:04<00:00, 3418.94it/s]\n",
            "Epoch 20. Loss: 4.83735:  97% 16929/17451 [00:04<00:00, 3461.26it/s]\n",
            "Epoch 21. Loss: 4.69286:  97% 16929/17451 [00:04<00:00, 3444.25it/s]\n",
            "Epoch 22. Loss: 4.60453:  97% 16929/17451 [00:04<00:00, 3405.00it/s]\n",
            "Epoch 23. Loss: 4.43666:  97% 16929/17451 [00:04<00:00, 3430.54it/s]\n",
            "Epoch 24. Loss: 4.34349:  97% 16929/17451 [00:05<00:00, 3382.92it/s]\n",
            "Epoch 25. Loss: 4.21699:  97% 16929/17451 [00:04<00:00, 3452.51it/s]\n",
            "Epoch 26. Loss: 4.06743:  97% 16929/17451 [00:04<00:00, 3386.01it/s]\n",
            "Epoch 27. Loss: 3.98275:  97% 16929/17451 [00:04<00:00, 3440.01it/s]\n",
            "Epoch 28. Loss: 3.89449:  97% 16929/17451 [00:04<00:00, 3438.20it/s]\n",
            "Epoch 29. Loss: 3.78927:  97% 16929/17451 [00:04<00:00, 3462.40it/s]\n",
            "Epoch 30. Loss: 3.70844:  97% 16929/17451 [00:04<00:00, 3410.32it/s]\n",
            "Epoch 31. Loss: 3.60476:  97% 16929/17451 [00:04<00:00, 3417.53it/s]\n",
            "Epoch 32. Loss: 3.51463:  97% 16929/17451 [00:05<00:00, 3329.03it/s]\n",
            "Epoch 33. Loss: 3.41768:  97% 16929/17451 [00:05<00:00, 3297.70it/s]\n",
            "Epoch 34. Loss: 3.34499:  97% 16929/17451 [00:05<00:00, 3355.19it/s]\n",
            "Epoch 35. Loss: 3.28187:  97% 16929/17451 [00:04<00:00, 3404.91it/s]\n",
            "Epoch 36. Loss: 3.18402:  97% 16929/17451 [00:04<00:00, 3391.64it/s]\n",
            "Epoch 37. Loss: 3.13359:  97% 16929/17451 [00:04<00:00, 3405.69it/s]\n",
            "Epoch 38. Loss: 3.03567:  97% 16929/17451 [00:04<00:00, 3411.24it/s]\n",
            "Epoch 39. Loss: 2.97971:  97% 16929/17451 [00:04<00:00, 3434.25it/s]\n",
            "Epoch 40. Loss: 2.93807:  97% 16929/17451 [00:04<00:00, 3450.42it/s]\n",
            "Epoch 41. Loss: 2.85980:  97% 16929/17451 [00:04<00:00, 3442.44it/s]\n",
            "Epoch 42. Loss: 2.83749:  97% 16929/17451 [00:04<00:00, 3423.30it/s]\n",
            "Epoch 43. Loss: 2.76484:  97% 16929/17451 [00:04<00:00, 3432.90it/s]\n",
            "Epoch 44. Loss: 2.69539:  97% 16929/17451 [00:04<00:00, 3431.10it/s]\n",
            "Epoch 45. Loss: 2.71011:  97% 16929/17451 [00:04<00:00, 3424.87it/s]\n",
            "Epoch 46. Loss: 2.65870:  97% 16929/17451 [00:04<00:00, 3433.77it/s]\n",
            "Epoch 47. Loss: 2.58093:  97% 16929/17451 [00:04<00:00, 3398.35it/s]\n",
            "Epoch 48. Loss: 2.54765:  97% 16929/17451 [00:04<00:00, 3390.14it/s]\n",
            "Epoch 49. Loss: 2.51602:  97% 16929/17451 [00:04<00:00, 3414.19it/s]\n",
            "Epoch 50. Loss: 2.44447:  97% 16929/17451 [00:04<00:00, 3454.31it/s]\n",
            "Epoch 51. Loss: 2.45663:  97% 16929/17451 [00:04<00:00, 3404.99it/s]\n",
            "Epoch 52. Loss: 2.42511:  97% 16929/17451 [00:04<00:00, 3460.64it/s]\n",
            "Epoch 53. Loss: 2.39716:  97% 16929/17451 [00:04<00:00, 3427.87it/s]\n",
            "Epoch 54. Loss: 2.32899:  97% 16929/17451 [00:04<00:00, 3433.04it/s]\n",
            "Epoch 55. Loss: 2.33222:  97% 16929/17451 [00:04<00:00, 3455.35it/s]\n",
            "Epoch 56. Loss: 2.34464:  97% 16929/17451 [00:04<00:00, 3426.29it/s]\n",
            "Epoch 57. Loss: 2.32305:  97% 16929/17451 [00:04<00:00, 3414.74it/s]\n",
            "Epoch 58. Loss: 2.29918:  97% 16929/17451 [00:04<00:00, 3429.21it/s]\n",
            "Epoch 59. Loss: 2.27286:  97% 16929/17451 [00:04<00:00, 3449.90it/s]\n",
            "Epoch 60. Loss: 2.20104:  97% 16929/17451 [00:04<00:00, 3430.13it/s]\n",
            "Epoch 61. Loss: 2.24764:  97% 16929/17451 [00:04<00:00, 3404.65it/s]\n",
            "Epoch 62. Loss: 2.20477:  97% 16929/17451 [00:04<00:00, 3409.58it/s]\n",
            "Epoch 63. Loss: 2.22570:  97% 16929/17451 [00:05<00:00, 3340.43it/s]\n",
            "Epoch 64. Loss: 2.20331:  97% 16929/17451 [00:05<00:00, 3367.30it/s]\n",
            "Epoch 65. Loss: 2.14923:  97% 16929/17451 [00:04<00:00, 3407.12it/s]\n",
            "Epoch 66. Loss: 2.18326:  97% 16929/17451 [00:04<00:00, 3401.86it/s]\n",
            "Epoch 67. Loss: 2.13506:  97% 16929/17451 [00:04<00:00, 3447.08it/s]\n",
            "Epoch 68. Loss: 2.15050:  97% 16929/17451 [00:04<00:00, 3421.33it/s]\n",
            "Epoch 69. Loss: 2.09680:  97% 16929/17451 [00:04<00:00, 3417.44it/s]\n",
            "Epoch 70. Loss: 2.13337:  97% 16929/17451 [00:04<00:00, 3414.39it/s]\n",
            "Epoch 71. Loss: 2.07592:  97% 16929/17451 [00:04<00:00, 3430.91it/s]\n",
            "Epoch 72. Loss: 2.08504:  97% 16929/17451 [00:04<00:00, 3424.61it/s]\n",
            "Epoch 73. Loss: 2.08442:  97% 16929/17451 [00:04<00:00, 3417.41it/s]\n",
            "Epoch 74. Loss: 2.09981:  97% 16929/17451 [00:04<00:00, 3447.23it/s]\n",
            "Epoch 75. Loss: 2.07326:  97% 16929/17451 [00:04<00:00, 3439.59it/s]\n",
            "Epoch 76. Loss: 2.06052:  97% 16929/17451 [00:04<00:00, 3430.21it/s]\n",
            "Epoch 77. Loss: 2.07219:  97% 16929/17451 [00:04<00:00, 3423.31it/s]\n",
            "Epoch 78. Loss: 2.03779:  97% 16929/17451 [00:04<00:00, 3448.19it/s]\n",
            "Epoch 79. Loss: 2.02512:  97% 16929/17451 [00:05<00:00, 3380.91it/s]\n",
            "Epoch 80. Loss: 2.01942:  97% 16929/17451 [00:04<00:00, 3414.54it/s]\n",
            "Epoch 81. Loss: 2.00401:  97% 16929/17451 [00:04<00:00, 3420.00it/s]\n",
            "Epoch 82. Loss: 2.03976:  97% 16929/17451 [00:04<00:00, 3425.15it/s]\n",
            "Epoch 83. Loss: 1.96791:  97% 16929/17451 [00:04<00:00, 3408.04it/s]\n",
            "Epoch 84. Loss: 2.02134:  97% 16929/17451 [00:04<00:00, 3452.00it/s]\n",
            "Epoch 85. Loss: 1.97096:  97% 16929/17451 [00:04<00:00, 3419.67it/s]\n",
            "Epoch 86. Loss: 1.94012:  97% 16929/17451 [00:04<00:00, 3457.47it/s]\n",
            "Epoch 87. Loss: 1.99049:  97% 16929/17451 [00:04<00:00, 3430.55it/s]\n",
            "Epoch 88. Loss: 1.96742:  97% 16929/17451 [00:04<00:00, 3466.22it/s]\n",
            "Epoch 89. Loss: 1.91836:  97% 16929/17451 [00:04<00:00, 3414.21it/s]\n",
            "Epoch 90. Loss: 1.94724:  97% 16929/17451 [00:04<00:00, 3442.21it/s]\n",
            "Epoch 91. Loss: 1.96747:  97% 16929/17451 [00:04<00:00, 3422.20it/s]\n",
            "Epoch 92. Loss: 1.94513:  97% 16929/17451 [00:04<00:00, 3436.30it/s]\n",
            "Epoch 93. Loss: 1.89245:  97% 16929/17451 [00:04<00:00, 3419.43it/s]\n",
            "Epoch 94. Loss: 1.84201:  97% 16929/17451 [00:05<00:00, 3359.88it/s]\n",
            "Epoch 95. Loss: 1.90097:  97% 16929/17451 [00:05<00:00, 3381.24it/s]\n",
            "Epoch 96. Loss: 1.87727:  97% 16929/17451 [00:05<00:00, 3327.57it/s]\n",
            "Epoch 97. Loss: 1.86363:  97% 16929/17451 [00:05<00:00, 3330.33it/s]\n",
            "Epoch 98. Loss: 1.87176:  97% 16929/17451 [00:04<00:00, 3404.28it/s]\n",
            "Epoch 99. Loss: 1.81612:  97% 16929/17451 [00:04<00:00, 3399.44it/s]\n",
            "Epoch 100. Loss: 1.83662:  97% 16929/17451 [00:04<00:00, 3441.57it/s]\n",
            "Epoch 101. Loss: 1.84131:  97% 16929/17451 [00:04<00:00, 3426.73it/s]\n",
            "Epoch 102. Loss: 1.84350:  97% 16929/17451 [00:04<00:00, 3435.76it/s]\n",
            "Epoch 103. Loss: 1.83801:  97% 16929/17451 [00:04<00:00, 3423.02it/s]\n",
            "Epoch 104. Loss: 1.79832:  97% 16929/17451 [00:04<00:00, 3428.26it/s]\n",
            "Epoch 105. Loss: 1.88080:  97% 16929/17451 [00:04<00:00, 3417.16it/s]\n",
            "Epoch 106. Loss: 1.80315:  97% 16929/17451 [00:04<00:00, 3433.86it/s]\n",
            "Epoch 107. Loss: 1.78298:  97% 16929/17451 [00:04<00:00, 3443.24it/s]\n",
            "Epoch 108. Loss: 1.80207:  97% 16929/17451 [00:04<00:00, 3420.73it/s]\n",
            "Epoch 109. Loss: 1.80023:  97% 16929/17451 [00:04<00:00, 3417.01it/s]\n",
            "Epoch 110. Loss: 1.86220:  97% 16929/17451 [00:04<00:00, 3416.74it/s]\n",
            "Epoch 111. Loss: 1.78512:  97% 16929/17451 [00:04<00:00, 3427.36it/s]\n",
            "Epoch 112. Loss: 1.82709:  97% 16929/17451 [00:04<00:00, 3409.73it/s]\n",
            "Epoch 113. Loss: 1.83664:  97% 16929/17451 [00:04<00:00, 3414.13it/s]\n",
            "Epoch 114. Loss: 1.79919:  97% 16929/17451 [00:04<00:00, 3405.20it/s]\n",
            "Epoch 115. Loss: 1.77855:  97% 16929/17451 [00:04<00:00, 3393.95it/s]\n",
            "Epoch 116. Loss: 1.74953:  97% 16929/17451 [00:04<00:00, 3439.61it/s]\n",
            "Epoch 117. Loss: 1.85622:  97% 16929/17451 [00:04<00:00, 3431.83it/s]\n",
            "Epoch 118. Loss: 1.73076:  97% 16929/17451 [00:04<00:00, 3447.12it/s]\n",
            "Epoch 119. Loss: 1.68655:  97% 16929/17451 [00:04<00:00, 3424.74it/s]\n",
            "Epoch 120. Loss: 1.75467:  97% 16929/17451 [00:04<00:00, 3436.39it/s]\n",
            "Epoch 121. Loss: 1.72423:  97% 16929/17451 [00:04<00:00, 3417.59it/s]\n",
            "Epoch 122. Loss: 1.79068:  97% 16929/17451 [00:04<00:00, 3420.48it/s]\n",
            "Epoch 123. Loss: 1.69015:  97% 16929/17451 [00:04<00:00, 3409.86it/s]\n",
            "Epoch 124. Loss: 1.66843:  97% 16929/17451 [00:04<00:00, 3445.04it/s]\n",
            "Epoch 125. Loss: 1.65679:  97% 16929/17451 [00:04<00:00, 3449.17it/s]\n",
            "Epoch 126. Loss: 1.74713:  97% 16929/17451 [00:04<00:00, 3445.88it/s]\n",
            "Epoch 127. Loss: 1.73315:  97% 16929/17451 [00:04<00:00, 3420.65it/s]\n",
            "Epoch 128. Loss: 1.64205:  97% 16929/17451 [00:05<00:00, 3357.40it/s]\n",
            "Epoch 129. Loss: 1.75626:  97% 16929/17451 [00:04<00:00, 3421.16it/s]\n",
            "Epoch 130. Loss: 1.65256:  97% 16929/17451 [00:04<00:00, 3400.69it/s]\n",
            "Epoch 131. Loss: 1.60262:  97% 16929/17451 [00:04<00:00, 3465.03it/s]\n",
            "Epoch 132. Loss: 1.67688:  97% 16929/17451 [00:04<00:00, 3407.49it/s]\n",
            "Epoch 133. Loss: 1.67202:  97% 16929/17451 [00:04<00:00, 3451.45it/s]\n",
            "Epoch 134. Loss: 1.75073:  97% 16929/17451 [00:04<00:00, 3418.18it/s]\n",
            "Epoch 135. Loss: 1.67437:  97% 16929/17451 [00:04<00:00, 3413.81it/s]\n",
            "Epoch 136. Loss: 1.64957:  97% 16929/17451 [00:04<00:00, 3451.55it/s]\n",
            "Epoch 137. Loss: 1.67736:  97% 16929/17451 [00:04<00:00, 3421.93it/s]\n",
            "Epoch 138. Loss: 1.71779:  97% 16929/17451 [00:04<00:00, 3435.93it/s]\n",
            "Epoch 139. Loss: 1.65803:  97% 16929/17451 [00:04<00:00, 3400.90it/s]\n",
            "Epoch 140. Loss: 1.69850:  97% 16929/17451 [00:04<00:00, 3427.53it/s]\n",
            "Epoch 141. Loss: 1.67575:  97% 16929/17451 [00:04<00:00, 3419.32it/s]\n",
            "Epoch 142. Loss: 1.63125:  97% 16929/17451 [00:04<00:00, 3426.87it/s]\n",
            "Epoch 143. Loss: 1.70137:  97% 16929/17451 [00:04<00:00, 3427.55it/s]\n",
            "Epoch 144. Loss: 1.63397:  97% 16929/17451 [00:04<00:00, 3406.75it/s]\n",
            "Epoch 145. Loss: 1.66419:  97% 16929/17451 [00:04<00:00, 3398.89it/s]\n",
            "Epoch 146. Loss: 1.57159:  97% 16929/17451 [00:04<00:00, 3411.35it/s]\n",
            "Epoch 147. Loss: 1.65233:  97% 16929/17451 [00:04<00:00, 3399.64it/s]\n",
            "Epoch 148. Loss: 1.66745:  97% 16929/17451 [00:04<00:00, 3419.46it/s]\n",
            "Epoch 149. Loss: 1.58727:  97% 16929/17451 [00:04<00:00, 3427.12it/s]\n",
            "Epoch 150. Loss: 1.61752:  97% 16929/17451 [00:04<00:00, 3437.66it/s]\n",
            "Epoch 151. Loss: 1.64629:  97% 16929/17451 [00:04<00:00, 3426.26it/s]\n",
            "Epoch 152. Loss: 1.60876:  97% 16929/17451 [00:04<00:00, 3408.44it/s]\n",
            "Epoch 153. Loss: 1.61215:  97% 16929/17451 [00:04<00:00, 3406.64it/s]\n",
            "Epoch 154. Loss: 1.65281:  97% 16929/17451 [00:04<00:00, 3397.68it/s]\n",
            "Epoch 155. Loss: 1.60969:  97% 16929/17451 [00:04<00:00, 3392.90it/s]\n",
            "Epoch 156. Loss: 1.60138:  97% 16929/17451 [00:04<00:00, 3398.51it/s]\n",
            "Epoch 157. Loss: 1.58957:  97% 16929/17451 [00:04<00:00, 3387.78it/s]\n",
            "Epoch 158. Loss: 1.65350:  97% 16929/17451 [00:05<00:00, 3334.67it/s]\n",
            "Epoch 159. Loss: 1.62558:  97% 16929/17451 [00:05<00:00, 3267.46it/s]\n",
            "Epoch 160. Loss: 1.58789:  97% 16929/17451 [00:05<00:00, 3350.70it/s]\n",
            "Epoch 161. Loss: 1.59119:  97% 16929/17451 [00:05<00:00, 3373.92it/s]\n",
            "Epoch 162. Loss: 1.55085:  97% 16929/17451 [00:04<00:00, 3404.45it/s]\n",
            "Epoch 163. Loss: 1.57161:  97% 16929/17451 [00:04<00:00, 3406.11it/s]\n",
            "Epoch 164. Loss: 1.54100:  97% 16929/17451 [00:04<00:00, 3401.02it/s]\n",
            "Epoch 165. Loss: 1.57410:  97% 16929/17451 [00:04<00:00, 3418.23it/s]\n",
            "Epoch 166. Loss: 1.63246:  97% 16929/17451 [00:05<00:00, 3376.99it/s]\n",
            "Epoch 167. Loss: 1.61641:  97% 16929/17451 [00:04<00:00, 3393.96it/s]\n",
            "Epoch 168. Loss: 1.62675:  97% 16929/17451 [00:05<00:00, 3371.81it/s]\n",
            "Epoch 169. Loss: 1.52841:  97% 16929/17451 [00:04<00:00, 3392.06it/s]\n",
            "Epoch 170. Loss: 1.55977:  97% 16929/17451 [00:05<00:00, 3377.31it/s]\n",
            "Epoch 171. Loss: 1.60743:  97% 16929/17451 [00:04<00:00, 3399.17it/s]\n",
            "Epoch 172. Loss: 1.55121:  97% 16929/17451 [00:05<00:00, 3373.05it/s]\n",
            "Epoch 173. Loss: 1.57305:  97% 16929/17451 [00:04<00:00, 3397.92it/s]\n",
            "Epoch 174. Loss: 1.55367:  97% 16929/17451 [00:05<00:00, 3378.71it/s]\n",
            "Epoch 175. Loss: 1.58378:  97% 16929/17451 [00:04<00:00, 3400.16it/s]\n",
            "Epoch 176. Loss: 1.56680:  97% 16929/17451 [00:05<00:00, 3370.62it/s]\n",
            "Epoch 177. Loss: 1.58639:  97% 16929/17451 [00:05<00:00, 3329.80it/s]\n",
            "Epoch 178. Loss: 1.56606:  97% 16929/17451 [00:05<00:00, 3355.55it/s]\n",
            "Epoch 179. Loss: 1.54604:  97% 16929/17451 [00:05<00:00, 3359.90it/s]\n",
            "Epoch 180. Loss: 1.53480:  97% 16929/17451 [00:05<00:00, 3365.08it/s]\n",
            "Epoch 181. Loss: 1.51802:  97% 16929/17451 [00:05<00:00, 3357.28it/s]\n",
            "Epoch 182. Loss: 1.55439:  97% 16929/17451 [00:05<00:00, 3352.25it/s]\n",
            "Epoch 183. Loss: 1.55553:  97% 16929/17451 [00:04<00:00, 3394.14it/s]\n",
            "Epoch 184. Loss: 1.53575:  97% 16929/17451 [00:05<00:00, 3362.13it/s]\n",
            "Epoch 185. Loss: 1.50935:  97% 16929/17451 [00:05<00:00, 3370.51it/s]\n",
            "Epoch 186. Loss: 1.52183:  97% 16929/17451 [00:05<00:00, 3372.90it/s]\n",
            "Epoch 187. Loss: 1.57515:  97% 16929/17451 [00:05<00:00, 3370.92it/s]\n",
            "Epoch 188. Loss: 1.49877:  97% 16929/17451 [00:05<00:00, 3359.28it/s]\n",
            "Epoch 189. Loss: 1.49683:  97% 16929/17451 [00:04<00:00, 3401.03it/s]\n",
            "Epoch 190. Loss: 1.52822:  97% 16929/17451 [00:05<00:00, 3377.86it/s]\n",
            "Epoch 191. Loss: 1.47077:  97% 16929/17451 [00:05<00:00, 3341.58it/s]\n",
            "Epoch 192. Loss: 1.51371:  97% 16929/17451 [00:05<00:00, 3352.20it/s]\n",
            "Epoch 193. Loss: 1.57198:  97% 16929/17451 [00:05<00:00, 3345.09it/s]\n",
            "Epoch 194. Loss: 1.52252:  97% 16929/17451 [00:05<00:00, 3370.14it/s]\n",
            "Epoch 195. Loss: 1.48753:  97% 16929/17451 [00:04<00:00, 3391.96it/s]\n",
            "Epoch 196. Loss: 1.57337:  97% 16929/17451 [00:04<00:00, 3411.67it/s]\n",
            "Epoch 197. Loss: 1.46334:  97% 16929/17451 [00:04<00:00, 3386.97it/s]\n",
            "Epoch 198. Loss: 1.47128:  97% 16929/17451 [00:05<00:00, 3381.06it/s]\n",
            "Epoch 199. Loss: 1.50318:  97% 16929/17451 [00:05<00:00, 3380.90it/s]\n",
            "Evaluating model...\n",
            "\t - Recall@20 epoch 199: 0.456991\n",
            "\t - MRR@20    epoch 199: 0.159408\n",
            "\n"
          ],
          "name": "stdout"
        }
      ]
    },
    {
      "cell_type": "markdown",
      "metadata": {
        "id": "tk9EgsON-8Sr",
        "colab_type": "text"
      },
      "source": [
        "## Resultados\n",
        "\n",
        "Luego de 200 épocas, deberías obtener un desempeño similar al siguiente:\n",
        "\n",
        "\t - Recall@20: 0.47\n",
        "\t - MRR@20   : 0.16\n",
        "\n",
        "\n",
        "Para replicar resultados del paper, utiliza el set de entrenamiento completo"
      ]
    },
    {
      "cell_type": "markdown",
      "metadata": {
        "id": "njfQIzqi_KK8",
        "colab_type": "text"
      },
      "source": [
        "## Aprovechando información implícita: Dwell Time\n",
        "\n",
        "Podemos utilizar el tiempo que cada item fue visitado por cada usuario para realizar mejores recomendaciones.\n",
        "\n",
        "El supuesto es: a mayor tiempo de permanencia (dwell time) en un item, más interesado está el usuario en dicho item.\n",
        "\n",
        "Se hará item boosting en el set de entrenamiento."
      ]
    },
    {
      "cell_type": "code",
      "metadata": {
        "id": "lh9fruDcuVYg",
        "colab_type": "code",
        "colab": {}
      },
      "source": [
        "def preprocess_df(df):    \n",
        "    n_items = len(df['ItemId'].unique())\n",
        "    aux = list(df['ItemId'].unique())\n",
        "    itemids = np.array(aux)\n",
        "    itemidmap = pd.Series(data=np.arange(n_items), index=itemids)  # (id_item => (0, n_items))\n",
        "    \n",
        "    item_key = 'ItemId'\n",
        "    session_key = 'SessionId'\n",
        "    time_key = 'Time'\n",
        "    \n",
        "    data = pd.merge(df, pd.DataFrame({item_key:itemids, 'ItemIdx':itemidmap[itemids].values}), on=item_key, how='inner')\n",
        "    data.sort_values([session_key, time_key], inplace=True)\n",
        "\n",
        "    length = len(data['ItemId'])\n",
        "        \n",
        "    return data"
      ],
      "execution_count": null,
      "outputs": []
    },
    {
      "cell_type": "code",
      "metadata": {
        "id": "j5O-1YDR_vNY",
        "colab_type": "code",
        "colab": {}
      },
      "source": [
        "def compute_dwell_time(df):\n",
        "    times_t = np.roll(df['Time'], -1) # Take time row\n",
        "    times_dt  = df['Time']            # Copy, then displace by one\n",
        "    diffs = np.subtract(times_t, times_dt) # Take pairwise difference\n",
        "    length = len(df['ItemId'])\n",
        "    \n",
        "    # cummulative offset start for each session\n",
        "    offset_sessions = np.zeros(df['SessionId'].nunique()+1, dtype=np.int32)\n",
        "    offset_sessions[1:] = df.groupby('SessionId').size().cumsum() \n",
        "    offset_sessions = offset_sessions - 1\n",
        "    offset_sessions = np.roll(offset_sessions, -1)\n",
        "    \n",
        "    np.put(diffs.values, offset_sessions, np.zeros((offset_sessions.shape)), mode='raise')\n",
        "\n",
        "    return diffs"
      ],
      "execution_count": null,
      "outputs": []
    },
    {
      "cell_type": "code",
      "metadata": {
        "id": "7vFvOPH9Bfeq",
        "colab_type": "code",
        "colab": {}
      },
      "source": [
        "def get_distribution(dts):\n",
        "    filtered = np.array(list(filter(lambda x: int(x) != 0, dts)))\n",
        "    pd_dts = pd.DataFrame(filtered)\n",
        "    pd_dts.boxplot(vert=False, showfliers=False)\n",
        "    plt.xlabel(\"Seconds\")\n",
        "    plt.yticks([])\n",
        "    plt.title(\"Dwell time distribution for RSC15 dataset\")\n",
        "    plt.show()\n",
        "    pd_dts.describe()"
      ],
      "execution_count": null,
      "outputs": []
    },
    {
      "cell_type": "code",
      "metadata": {
        "id": "pPxWD0xPBfVE",
        "colab_type": "code",
        "colab": {}
      },
      "source": [
        "def join_dwell_reps(df, dt, threshold=2000):\n",
        "    # Calculate d_ti/threshold + 1 then add column to dataFrame\n",
        "    dt //= threshold\n",
        "    dt += 1   \n",
        "    df['DwellReps'] = pd.Series(dt.astype(np.int64), index=dt.index)"
      ],
      "execution_count": null,
      "outputs": []
    },
    {
      "cell_type": "code",
      "metadata": {
        "id": "jYX1RjhQ_wZG",
        "colab_type": "code",
        "colab": {}
      },
      "source": [
        "def augment(df):    \n",
        "    col_names = list(df.columns.values)[:3]\n",
        "    augmented = np.repeat(df.values, df['DwellReps'], axis=0) \n",
        "    augmented = pd.DataFrame(data=augmented[:,:3],\n",
        "                             columns=col_names)\n",
        "    dtype = {'SessionId': np.int64, \n",
        "             'ItemId': np.int64, \n",
        "             'Time': np.float32}\n",
        "    \n",
        "    for k, v in dtype.items():\n",
        "        augmented[k] = augmented[k].astype(v)                  \n",
        "    \n",
        "    return augmented"
      ],
      "execution_count": null,
      "outputs": []
    },
    {
      "cell_type": "code",
      "metadata": {
        "id": "veILDG2X_yJm",
        "colab_type": "code",
        "colab": {}
      },
      "source": [
        "new_df = preprocess_df(train)\n",
        "dts = compute_dwell_time(new_df)"
      ],
      "execution_count": null,
      "outputs": []
    },
    {
      "cell_type": "code",
      "metadata": {
        "id": "7xIJMF5aABmF",
        "colab_type": "code",
        "colab": {
          "base_uri": "https://localhost:8080/",
          "height": 295
        },
        "outputId": "c62d5d79-2602-4095-d564-b90b24e75378"
      },
      "source": [
        "# Visualize\n",
        "get_distribution(dts)"
      ],
      "execution_count": null,
      "outputs": [
        {
          "output_type": "display_data",
          "data": {
            "image/png": "[encoded data removed]",
            "text/plain": [
              "<Figure size 432x288 with 1 Axes>"
            ]
          },
          "metadata": {
            "tags": [],
            "needs_background": "light"
          }
        }
      ]
    },
    {
      "cell_type": "code",
      "metadata": {
        "id": "Y4mZ3YB0Ai4q",
        "colab_type": "code",
        "colab": {}
      },
      "source": [
        "# threshold is a hyperparameter\n",
        "join_dwell_reps(new_df, dts, threshold=75)\n",
        "\n",
        "# augment the sessions copying each entry an additional (dwellReps[i]-1) times\n",
        "df_aug = augment(new_df)\n",
        "df_aug.to_csv(\"./data/augmented_train.csv\", index=False, sep='\\t')"
      ],
      "execution_count": null,
      "outputs": []
    },
    {
      "cell_type": "code",
      "metadata": {
        "id": "X1N36STyCrrs",
        "colab_type": "code",
        "colab": {
          "base_uri": "https://localhost:8080/",
          "height": 108
        },
        "outputId": "f7410b6f-1900-4f6f-9109-0016a1914b36"
      },
      "source": [
        "# retrieve 1/n most recent fraction for demo purposes \n",
        "# (note it is a smaller fraction due to the inflation process)\n",
        "fraction = 64*7\n",
        "train_fraction(df_aug, fraction, prefix='aug_train')"
      ],
      "execution_count": null,
      "outputs": [
        {
          "output_type": "stream",
          "text": [
            "Fractioned data set\n",
            "\tEvents: 151923\n",
            "\tSessions: 16351\n",
            "\tItems: 8484\n",
            "Saved as ./data/aug_train_448.tsv\n"
          ],
          "name": "stdout"
        }
      ]
    },
    {
      "cell_type": "markdown",
      "metadata": {
        "id": "v2E2q1ArD5Sr",
        "colab_type": "text"
      },
      "source": [
        "## Entrenamiento con Dwell Time"
      ]
    },
    {
      "cell_type": "code",
      "metadata": {
        "id": "HNq8lpRADWZ2",
        "colab_type": "code",
        "colab": {}
      },
      "source": [
        "!python src/model/gru4rec.py --epochs 200 --train-path ./data/aug_train_448.tsv --dev-path ./data/validation.tsv --test-path ./data/test.tsv"
      ],
      "execution_count": null,
      "outputs": []
    },
    {
      "cell_type": "markdown",
      "metadata": {
        "id": "YdMFiWFK65w1",
        "colab_type": "text"
      },
      "source": [
        "Indique el resultado del modelo con Dwell Time. \n",
        "\n",
        "**COMPLETE**"
      ]
    }
  ]
}