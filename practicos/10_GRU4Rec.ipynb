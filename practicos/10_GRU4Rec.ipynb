{
  "nbformat": 4,
  "nbformat_minor": 0,
  "metadata": {
    "colab": {
      "name": "GRU4Rec c/DT.ipynb",
      "provenance": [],
      "collapsed_sections": [],
      "include_colab_link": true
    },
    "kernelspec": {
      "name": "python3",
      "display_name": "Python 3"
    },
    "accelerator": "GPU"
  },
  "cells": [
    {
      "cell_type": "markdown",
      "metadata": {
        "id": "view-in-github",
        "colab_type": "text"
      },
      "source": [
        "<a href=\"https://colab.research.google.com/github/rihanuch/rihanuch-IIC3633-2020/blob/master/practicos/10_GRU4Rec.ipynb\" target=\"_parent\"><img src=\"https://colab.research.google.com/assets/colab-badge.svg\" alt=\"Open In Colab\"/></a>"
      ]
    },
    {
      "cell_type": "markdown",
      "metadata": {
        "id": "bcrDor7CR1SO"
      },
      "source": [
        "# Gated Recurrent Units for session-based next item prediction\n",
        "\n",
        "Patricio Cerda, Bastián Mavrakis, Denis Parra\n",
        "\n",
        "### Ambiente: Python3 + GPU\n",
        "\n",
        "## Descargar datos y repositorio"
      ]
    },
    {
      "cell_type": "code",
      "metadata": {
        "id": "nCAQDIrOPUQP",
        "outputId": "600889ac-f8ed-49c0-d036-6644f9af3502",
        "colab": {
          "base_uri": "https://localhost:8080/",
          "height": 34
        }
      },
      "source": [
        "# Clone repo\n",
        "!git clone https://github.com/pcerdam/KerasGRU4Rec --single-branch src"
      ],
      "execution_count": 1,
      "outputs": [
        {
          "output_type": "stream",
          "text": [
            "fatal: destination path 'src' already exists and is not an empty directory.\n"
          ],
          "name": "stdout"
        }
      ]
    },
    {
      "cell_type": "code",
      "metadata": {
        "id": "BpccDqjDPbjI",
        "outputId": "d82a2a69-fae2-4f9b-ef37-ec07623602eb",
        "colab": {
          "base_uri": "https://localhost:8080/",
          "height": 85
        }
      },
      "source": [
        "# Download RecSys Challenge 2015 dataset\n",
        "!rm -r sample_data\n",
        "!curl https://s3-eu-west-1.amazonaws.com/yc-rdata/yoochoose-data.7z --output data.7z"
      ],
      "execution_count": 2,
      "outputs": [
        {
          "output_type": "stream",
          "text": [
            "rm: cannot remove 'sample_data': No such file or directory\n",
            "  % Total    % Received % Xferd  Average Speed   Time    Time     Time  Current\n",
            "                                 Dload  Upload   Total   Spent    Left  Speed\n",
            "100  273M  100  273M    0     0  70.1M      0  0:00:03  0:00:03 --:--:-- 70.0M\n"
          ],
          "name": "stdout"
        }
      ]
    },
    {
      "cell_type": "code",
      "metadata": {
        "id": "AJkLaRyqPp-z",
        "outputId": "50f22676-119c-4222-e464-8259c2ef601c",
        "colab": {
          "base_uri": "https://localhost:8080/",
          "height": 782
        }
      },
      "source": [
        "# Extract dataset\n",
        "!7z e data.7z -o./rsc15\n",
        "!rm data.7z\n",
        "!mkdir data"
      ],
      "execution_count": 3,
      "outputs": [
        {
          "output_type": "stream",
          "text": [
            "\n",
            "7-Zip [64] 16.02 : Copyright (c) 1999-2016 Igor Pavlov : 2016-05-21\n",
            "p7zip Version 16.02 (locale=en_US.UTF-8,Utf16=on,HugeFiles=on,64 bits,2 CPUs Intel(R) Xeon(R) CPU @ 2.00GHz (50653),ASM,AES-NI)\n",
            "\n",
            "Scanning the drive for archives:\n",
            "  0M Scan\b\b\b\b\b\b\b\b\b         \b\b\b\b\b\b\b\b\b1 file, 287211932 bytes (274 MiB)\n",
            "\n",
            "Extracting archive: data.7z\n",
            "--\n",
            "Path = data.7z\n",
            "Type = 7z\n",
            "Physical Size = 287211932\n",
            "Headers Size = 255\n",
            "Method = LZMA:24\n",
            "Solid = +\n",
            "Blocks = 2\n",
            "\n",
            "  0%\b\b\b\b    \b\b\b\b\n",
            "Would you like to replace the existing file:\n",
            "  Path:     ./rsc15/yoochoose-buys.dat\n",
            "  Size:     55583744 bytes (54 MiB)\n",
            "  Modified: 2014-11-05 14:25:04\n",
            "with the file from archive:\n",
            "  Path:     yoochoose-buys.dat\n",
            "  Size:     55583744 bytes (54 MiB)\n",
            "  Modified: 2014-11-05 14:25:04\n",
            "? (Y)es / (N)o / (A)lways / (S)kip all / A(u)to rename all / (Q)uit? n\n",
            "\n",
            "  0% . yoochoose-buys.dat\b\b\b\b\b\b\b\b\b\b\b\b\b\b\b\b\b\b\b\b\b\b\b\b\b                         \b\b\b\b\b\b\b\b\b\b\b\b\b\b\b\b\b\b\b\b\b\b\b\b\b  1% . yoochoose-buys.dat\b\b\b\b\b\b\b\b\b\b\b\b\b\b\b\b\b\b\b\b\b\b\b\b\b                         \b\b\b\b\b\b\b\b\b\b\b\b\b\b\b\b\b\b\b\b\b\b\b\b\b  2% . yoochoose-buys.dat\b\b\b\b\b\b\b\b\b\b\b\b\b\b\b\b\b\b\b\b\b\b\b\b\b                         \b\b\b\b\b\b\b\b\b\b\b\b\b\b\b\b\b\b\b\b\b\b\b\b\b\n",
            "Would you like to replace the existing file:\n",
            "  Path:     ./rsc15/yoochoose-clicks.dat\n",
            "  Size:     1486798186 bytes (1418 MiB)\n",
            "  Modified: 2014-11-05 14:25:32\n",
            "with the file from archive:\n",
            "  Path:     yoochoose-clicks.dat\n",
            "  Size:     1486798186 bytes (1418 MiB)\n",
            "  Modified: 2014-11-05 14:25:32\n",
            "? (Y)es / (N)o / (A)lways / (S)kip all / A(u)to rename all / (Q)uit? s\n",
            "\n",
            "  2% 1 . yoochoose-clicks.dat\b\b\b\b\b\b\b\b\b\b\b\b\b\b\b\b\b\b\b\b\b\b\b\b\b\b\b\b\b                             \b\b\b\b\b\b\b\b\b\b\b\b\b\b\b\b\b\b\b\b\b\b\b\b\b\b\b\b\b  3% 1 . yoochoose-clicks.dat\b\b\b\b\b\b\b\b\b\b\b\b\b\b\b\b\b\b\b\b\b\b\b\b\b\b\b\b\b                             \b\b\b\b\b\b\b\b\b\b\b\b\b\b\b\b\b\b\b\b\b\b\b\b\b\b\b\b\b  4% 1 . yoochoose-clicks.dat\b\b\b\b\b\b\b\b\b\b\b\b\b\b\b\b\b\b\b\b\b\b\b\b\b\b\b\b\b                             \b\b\b\b\b\b\b\b\b\b\b\b\b\b\b\b\b\b\b\b\b\b\b\b\b\b\b\b\b  5% 1 . yoochoose-clicks.dat\b\b\b\b\b\b\b\b\b\b\b\b\b\b\b\b\b\b\b\b\b\b\b\b\b\b\b\b\b                             \b\b\b\b\b\b\b\b\b\b\b\b\b\b\b\b\b\b\b\b\b\b\b\b\b\b\b\b\b  6% 1 . yoochoose-clicks.dat\b\b\b\b\b\b\b\b\b\b\b\b\b\b\b\b\b\b\b\b\b\b\b\b\b\b\b\b\b                             \b\b\b\b\b\b\b\b\b\b\b\b\b\b\b\b\b\b\b\b\b\b\b\b\b\b\b\b\b  7% 1 . yoochoose-clicks.dat\b\b\b\b\b\b\b\b\b\b\b\b\b\b\b\b\b\b\b\b\b\b\b\b\b\b\b\b\b                             \b\b\b\b\b\b\b\b\b\b\b\b\b\b\b\b\b\b\b\b\b\b\b\b\b\b\b\b\b  8% 1 . yoochoose-clicks.dat\b\b\b\b\b\b\b\b\b\b\b\b\b\b\b\b\b\b\b\b\b\b\b\b\b\b\b\b\b                             \b\b\b\b\b\b\b\b\b\b\b\b\b\b\b\b\b\b\b\b\b\b\b\b\b\b\b\b\b  9% 1 . yoochoose-clicks.dat\b\b\b\b\b\b\b\b\b\b\b\b\b\b\b\b\b\b\b\b\b\b\b\b\b\b\b\b\b                             \b\b\b\b\b\b\b\b\b\b\b\b\b\b\b\b\b\b\b\b\b\b\b\b\b\b\b\b\b 10% 1 . yoochoose-clicks.dat\b\b\b\b\b\b\b\b\b\b\b\b\b\b\b\b\b\b\b\b\b\b\b\b\b\b\b\b\b                             \b\b\b\b\b\b\b\b\b\b\b\b\b\b\b\b\b\b\b\b\b\b\b\b\b\b\b\b\b 11% 1 . yoochoose-clicks.dat\b\b\b\b\b\b\b\b\b\b\b\b\b\b\b\b\b\b\b\b\b\b\b\b\b\b\b\b\b                             \b\b\b\b\b\b\b\b\b\b\b\b\b\b\b\b\b\b\b\b\b\b\b\b\b\b\b\b\b 12% 1 . yoochoose-clicks.dat\b\b\b\b\b\b\b\b\b\b\b\b\b\b\b\b\b\b\b\b\b\b\b\b\b\b\b\b\b                             \b\b\b\b\b\b\b\b\b\b\b\b\b\b\b\b\b\b\b\b\b\b\b\b\b\b\b\b\b 13% 1 . yoochoose-clicks.dat\b\b\b\b\b\b\b\b\b\b\b\b\b\b\b\b\b\b\b\b\b\b\b\b\b\b\b\b\b                             \b\b\b\b\b\b\b\b\b\b\b\b\b\b\b\b\b\b\b\b\b\b\b\b\b\b\b\b\b 14% 1 . yoochoose-clicks.dat\b\b\b\b\b\b\b\b\b\b\b\b\b\b\b\b\b\b\b\b\b\b\b\b\b\b\b\b\b                             \b\b\b\b\b\b\b\b\b\b\b\b\b\b\b\b\b\b\b\b\b\b\b\b\b\b\b\b\b 15% 1 . yoochoose-clicks.dat\b\b\b\b\b\b\b\b\b\b\b\b\b\b\b\b\b\b\b\b\b\b\b\b\b\b\b\b\b                             \b\b\b\b\b\b\b\b\b\b\b\b\b\b\b\b\b\b\b\b\b\b\b\b\b\b\b\b\b 16% 1 . yoochoose-clicks.dat\b\b\b\b\b\b\b\b\b\b\b\b\b\b\b\b\b\b\b\b\b\b\b\b\b\b\b\b\b                             \b\b\b\b\b\b\b\b\b\b\b\b\b\b\b\b\b\b\b\b\b\b\b\b\b\b\b\b\b 17% 1 . yoochoose-clicks.dat\b\b\b\b\b\b\b\b\b\b\b\b\b\b\b\b\b\b\b\b\b\b\b\b\b\b\b\b\b                             \b\b\b\b\b\b\b\b\b\b\b\b\b\b\b\b\b\b\b\b\b\b\b\b\b\b\b\b\b 18% 1 . yoochoose-clicks.dat\b\b\b\b\b\b\b\b\b\b\b\b\b\b\b\b\b\b\b\b\b\b\b\b\b\b\b\b\b                             \b\b\b\b\b\b\b\b\b\b\b\b\b\b\b\b\b\b\b\b\b\b\b\b\b\b\b\b\b 19% 1 . yoochoose-clicks.dat\b\b\b\b\b\b\b\b\b\b\b\b\b\b\b\b\b\b\b\b\b\b\b\b\b\b\b\b\b                             \b\b\b\b\b\b\b\b\b\b\b\b\b\b\b\b\b\b\b\b\b\b\b\b\b\b\b\b\b 20% 1 . yoochoose-clicks.dat\b\b\b\b\b\b\b\b\b\b\b\b\b\b\b\b\b\b\b\b\b\b\b\b\b\b\b\b\b                             \b\b\b\b\b\b\b\b\b\b\b\b\b\b\b\b\b\b\b\b\b\b\b\b\b\b\b\b\b 21% 1 . yoochoose-clicks.dat\b\b\b\b\b\b\b\b\b\b\b\b\b\b\b\b\b\b\b\b\b\b\b\b\b\b\b\b\b                             \b\b\b\b\b\b\b\b\b\b\b\b\b\b\b\b\b\b\b\b\b\b\b\b\b\b\b\b\b 22% 1 . yoochoose-clicks.dat\b\b\b\b\b\b\b\b\b\b\b\b\b\b\b\b\b\b\b\b\b\b\b\b\b\b\b\b\b                             \b\b\b\b\b\b\b\b\b\b\b\b\b\b\b\b\b\b\b\b\b\b\b\b\b\b\b\b\b 23% 1 . yoochoose-clicks.dat\b\b\b\b\b\b\b\b\b\b\b\b\b\b\b\b\b\b\b\b\b\b\b\b\b\b\b\b\b                             \b\b\b\b\b\b\b\b\b\b\b\b\b\b\b\b\b\b\b\b\b\b\b\b\b\b\b\b\b 24% 1 . yoochoose-clicks.dat\b\b\b\b\b\b\b\b\b\b\b\b\b\b\b\b\b\b\b\b\b\b\b\b\b\b\b\b\b                             \b\b\b\b\b\b\b\b\b\b\b\b\b\b\b\b\b\b\b\b\b\b\b\b\b\b\b\b\b 25% 1 . yoochoose-clicks.dat\b\b\b\b\b\b\b\b\b\b\b\b\b\b\b\b\b\b\b\b\b\b\b\b\b\b\b\b\b                             \b\b\b\b\b\b\b\b\b\b\b\b\b\b\b\b\b\b\b\b\b\b\b\b\b\b\b\b\b 26% 1 . yoochoose-clicks.dat\b\b\b\b\b\b\b\b\b\b\b\b\b\b\b\b\b\b\b\b\b\b\b\b\b\b\b\b\b                             \b\b\b\b\b\b\b\b\b\b\b\b\b\b\b\b\b\b\b\b\b\b\b\b\b\b\b\b\b 27% 1 . yoochoose-clicks.dat\b\b\b\b\b\b\b\b\b\b\b\b\b\b\b\b\b\b\b\b\b\b\b\b\b\b\b\b\b                             \b\b\b\b\b\b\b\b\b\b\b\b\b\b\b\b\b\b\b\b\b\b\b\b\b\b\b\b\b 28% 1 . yoochoose-clicks.dat\b\b\b\b\b\b\b\b\b\b\b\b\b\b\b\b\b\b\b\b\b\b\b\b\b\b\b\b\b                             \b\b\b\b\b\b\b\b\b\b\b\b\b\b\b\b\b\b\b\b\b\b\b\b\b\b\b\b\b 29% 1 . yoochoose-clicks.dat\b\b\b\b\b\b\b\b\b\b\b\b\b\b\b\b\b\b\b\b\b\b\b\b\b\b\b\b\b                             \b\b\b\b\b\b\b\b\b\b\b\b\b\b\b\b\b\b\b\b\b\b\b\b\b\b\b\b\b 30% 1 . yoochoose-clicks.dat\b\b\b\b\b\b\b\b\b\b\b\b\b\b\b\b\b\b\b\b\b\b\b\b\b\b\b\b\b                             \b\b\b\b\b\b\b\b\b\b\b\b\b\b\b\b\b\b\b\b\b\b\b\b\b\b\b\b\b 31% 1 . yoochoose-clicks.dat\b\b\b\b\b\b\b\b\b\b\b\b\b\b\b\b\b\b\b\b\b\b\b\b\b\b\b\b\b                             \b\b\b\b\b\b\b\b\b\b\b\b\b\b\b\b\b\b\b\b\b\b\b\b\b\b\b\b\b 32% 1 . yoochoose-clicks.dat\b\b\b\b\b\b\b\b\b\b\b\b\b\b\b\b\b\b\b\b\b\b\b\b\b\b\b\b\b                             \b\b\b\b\b\b\b\b\b\b\b\b\b\b\b\b\b\b\b\b\b\b\b\b\b\b\b\b\b 33% 1 . yoochoose-clicks.dat\b\b\b\b\b\b\b\b\b\b\b\b\b\b\b\b\b\b\b\b\b\b\b\b\b\b\b\b\b                             \b\b\b\b\b\b\b\b\b\b\b\b\b\b\b\b\b\b\b\b\b\b\b\b\b\b\b\b\b 34% 1 . yoochoose-clicks.dat\b\b\b\b\b\b\b\b\b\b\b\b\b\b\b\b\b\b\b\b\b\b\b\b\b\b\b\b\b                             \b\b\b\b\b\b\b\b\b\b\b\b\b\b\b\b\b\b\b\b\b\b\b\b\b\b\b\b\b 35% 1 . yoochoose-clicks.dat\b\b\b\b\b\b\b\b\b\b\b\b\b\b\b\b\b\b\b\b\b\b\b\b\b\b\b\b\b                             \b\b\b\b\b\b\b\b\b\b\b\b\b\b\b\b\b\b\b\b\b\b\b\b\b\b\b\b\b 36% 1 . yoochoose-clicks.dat\b\b\b\b\b\b\b\b\b\b\b\b\b\b\b\b\b\b\b\b\b\b\b\b\b\b\b\b\b                             \b\b\b\b\b\b\b\b\b\b\b\b\b\b\b\b\b\b\b\b\b\b\b\b\b\b\b\b\b 37% 1 . yoochoose-clicks.dat\b\b\b\b\b\b\b\b\b\b\b\b\b\b\b\b\b\b\b\b\b\b\b\b\b\b\b\b\b                             \b\b\b\b\b\b\b\b\b\b\b\b\b\b\b\b\b\b\b\b\b\b\b\b\b\b\b\b\b 38% 1 . yoochoose-clicks.dat\b\b\b\b\b\b\b\b\b\b\b\b\b\b\b\b\b\b\b\b\b\b\b\b\b\b\b\b\b                             \b\b\b\b\b\b\b\b\b\b\b\b\b\b\b\b\b\b\b\b\b\b\b\b\b\b\b\b\b 39% 1 . yoochoose-clicks.dat\b\b\b\b\b\b\b\b\b\b\b\b\b\b\b\b\b\b\b\b\b\b\b\b\b\b\b\b\b                             \b\b\b\b\b\b\b\b\b\b\b\b\b\b\b\b\b\b\b\b\b\b\b\b\b\b\b\b\b 40% 1 . yoochoose-clicks.dat\b\b\b\b\b\b\b\b\b\b\b\b\b\b\b\b\b\b\b\b\b\b\b\b\b\b\b\b\b                             \b\b\b\b\b\b\b\b\b\b\b\b\b\b\b\b\b\b\b\b\b\b\b\b\b\b\b\b\b 41% 1 . yoochoose-clicks.dat\b\b\b\b\b\b\b\b\b\b\b\b\b\b\b\b\b\b\b\b\b\b\b\b\b\b\b\b\b                             \b\b\b\b\b\b\b\b\b\b\b\b\b\b\b\b\b\b\b\b\b\b\b\b\b\b\b\b\b 42% 1 . yoochoose-clicks.dat\b\b\b\b\b\b\b\b\b\b\b\b\b\b\b\b\b\b\b\b\b\b\b\b\b\b\b\b\b                             \b\b\b\b\b\b\b\b\b\b\b\b\b\b\b\b\b\b\b\b\b\b\b\b\b\b\b\b\b 43% 1 . yoochoose-clicks.dat\b\b\b\b\b\b\b\b\b\b\b\b\b\b\b\b\b\b\b\b\b\b\b\b\b\b\b\b\b                             \b\b\b\b\b\b\b\b\b\b\b\b\b\b\b\b\b\b\b\b\b\b\b\b\b\b\b\b\b 44% 1 . yoochoose-clicks.dats\n",
            "\b\b\b\b\b\b\b\b\b\b\b\b\b\b\b\b\b\b\b\b\b\b\b\b\b\b\b\b\b                             \b\b\b\b\b\b\b\b\b\b\b\b\b\b\b\b\b\b\b\b\b\b\b\b\b\b\b\b\b 45% 1 . yoochoose-clicks.dat\b\b\b\b\b\b\b\b\b\b\b\b\b\b\b\b\b\b\b\b\b\b\b\b\b\b\b\b\b                             \b\b\b\b\b\b\b\b\b\b\b\b\b\b\b\b\b\b\b\b\b\b\b\b\b\b\b\b\b 46% 1 . yoochoose-clicks.dat\b\b\b\b\b\b\b\b\b\b\b\b\b\b\b\b\b\b\b\b\b\b\b\b\b\b\b\b\b                             \b\b\b\b\b\b\b\b\b\b\b\b\b\b\b\b\b\b\b\b\b\b\b\b\b\b\b\b\b 47% 1 . yoochoose-clicks.dat\b\b\b\b\b\b\b\b\b\b\b\b\b\b\b\b\b\b\b\b\b\b\b\b\b\b\b\b\b                             \b\b\b\b\b\b\b\b\b\b\b\b\b\b\b\b\b\b\b\b\b\b\b\b\b\b\b\b\b 48% 1 . yoochoose-clicks.dat\b\b\b\b\b\b\b\b\b\b\b\b\b\b\b\b\b\b\b\b\b\b\b\b\b\b\b\b\b                             \b\b\b\b\b\b\b\b\b\b\b\b\b\b\b\b\b\b\b\b\b\b\b\b\b\b\b\b\b 49% 1 . yoochoose-clicks.dat\b\b\b\b\b\b\b\b\b\b\b\b\b\b\b\b\b\b\b\b\b\b\b\b\b\b\b\b\b                             \b\b\b\b\b\b\b\b\b\b\b\b\b\b\b\b\b\b\b\b\b\b\b\b\b\b\b\b\b 50% 1 . yoochoose-clicks.dat\b\b\b\b\b\b\b\b\b\b\b\b\b\b\b\b\b\b\b\b\b\b\b\b\b\b\b\b\b                             \b\b\b\b\b\b\b\b\b\b\b\b\b\b\b\b\b\b\b\b\b\b\b\b\b\b\b\b\b 51% 1 . yoochoose-clicks.dat\b\b\b\b\b\b\b\b\b\b\b\b\b\b\b\b\b\b\b\b\b\b\b\b\b\b\b\b\b                             \b\b\b\b\b\b\b\b\b\b\b\b\b\b\b\b\b\b\b\b\b\b\b\b\b\b\b\b\b 52% 1 . yoochoose-clicks.dat\b\b\b\b\b\b\b\b\b\b\b\b\b\b\b\b\b\b\b\b\b\b\b\b\b\b\b\b\b                             \b\b\b\b\b\b\b\b\b\b\b\b\b\b\b\b\b\b\b\b\b\b\b\b\b\b\b\b\b 53% 1 . yoochoose-clicks.dat\b\b\b\b\b\b\b\b\b\b\b\b\b\b\b\b\b\b\b\b\b\b\b\b\b\b\b\b\b                             \b\b\b\b\b\b\b\b\b\b\b\b\b\b\b\b\b\b\b\b\b\b\b\b\b\b\b\b\b 54% 1 . yoochoose-clicks.dat\b\b\b\b\b\b\b\b\b\b\b\b\b\b\b\b\b\b\b\b\b\b\b\b\b\b\b\b\b                             \b\b\b\b\b\b\b\b\b\b\b\b\b\b\b\b\b\b\b\b\b\b\b\b\b\b\b\b\b 55% 1 . yoochoose-clicks.datS\n",
            "\b\b\b\b\b\b\b\b\b\b\b\b\b\b\b\b\b\b\b\b\b\b\b\b\b\b\b\b\b                             \b\b\b\b\b\b\b\b\b\b\b\b\b\b\b\b\b\b\b\b\b\b\b\b\b\b\b\b\b 56% 1 . yoochoose-clicks.dat\b\b\b\b\b\b\b\b\b\b\b\b\b\b\b\b\b\b\b\b\b\b\b\b\b\b\b\b\b                             \b\b\b\b\b\b\b\b\b\b\b\b\b\b\b\b\b\b\b\b\b\b\b\b\b\b\b\b\b 57% 1 . yoochoose-clicks.dat\b\b\b\b\b\b\b\b\b\b\b\b\b\b\b\b\b\b\b\b\b\b\b\b\b\b\b\b\b                             \b\b\b\b\b\b\b\b\b\b\b\b\b\b\b\b\b\b\b\b\b\b\b\b\b\b\b\b\b 58% 1 . yoochoose-clicks.dat\b\b\b\b\b\b\b\b\b\b\b\b\b\b\b\b\b\b\b\b\b\b\b\b\b\b\b\b\b                             \b\b\b\b\b\b\b\b\b\b\b\b\b\b\b\b\b\b\b\b\b\b\b\b\b\b\b\b\b 59% 1 . yoochoose-clicks.dat\b\b\b\b\b\b\b\b\b\b\b\b\b\b\b\b\b\b\b\b\b\b\b\b\b\b\b\b\b                             \b\b\b\b\b\b\b\b\b\b\b\b\b\b\b\b\b\b\b\b\b\b\b\b\b\b\b\b\b 60% 1 . yoochoose-clicks.dat\b\b\b\b\b\b\b\b\b\b\b\b\b\b\b\b\b\b\b\b\b\b\b\b\b\b\b\b\b                             \b\b\b\b\b\b\b\b\b\b\b\b\b\b\b\b\b\b\b\b\b\b\b\b\b\b\b\b\b 61% 1 . yoochoose-clicks.dat\b\b\b\b\b\b\b\b\b\b\b\b\b\b\b\b\b\b\b\b\b\b\b\b\b\b\b\b\b                             \b\b\b\b\b\b\b\b\b\b\b\b\b\b\b\b\b\b\b\b\b\b\b\b\b\b\b\b\b 62% 1 . yoochoose-clicks.dat\b\b\b\b\b\b\b\b\b\b\b\b\b\b\b\b\b\b\b\b\b\b\b\b\b\b\b\b\b                             \b\b\b\b\b\b\b\b\b\b\b\b\b\b\b\b\b\b\b\b\b\b\b\b\b\b\b\b\b 63% 1 . yoochoose-clicks.dat\b\b\b\b\b\b\b\b\b\b\b\b\b\b\b\b\b\b\b\b\b\b\b\b\b\b\b\b\b                             \b\b\b\b\b\b\b\b\b\b\b\b\b\b\b\b\b\b\b\b\b\b\b\b\b\b\b\b\b 64% 1 . yoochoose-clicks.dat\b\b\b\b\b\b\b\b\b\b\b\b\b\b\b\b\b\b\b\b\b\b\b\b\b\b\b\b\b                             \b\b\b\b\b\b\b\b\b\b\b\b\b\b\b\b\b\b\b\b\b\b\b\b\b\b\b\b\b 65% 1 . yoochoose-clicks.dat\b\b\b\b\b\b\b\b\b\b\b\b\b\b\b\b\b\b\b\b\b\b\b\b\b\b\b\b\b                             \b\b\b\b\b\b\b\b\b\b\b\b\b\b\b\b\b\b\b\b\b\b\b\b\b\b\b\b\b 66% 1 . yoochoose-clicks.dat\b\b\b\b\b\b\b\b\b\b\b\b\b\b\b\b\b\b\b\b\b\b\b\b\b\b\b\b\b                             \b\b\b\b\b\b\b\b\b\b\b\b\b\b\b\b\b\b\b\b\b\b\b\b\b\b\b\b\b 67% 1 . yoochoose-clicks.dat\b\b\b\b\b\b\b\b\b\b\b\b\b\b\b\b\b\b\b\b\b\b\b\b\b\b\b\b\b                             \b\b\b\b\b\b\b\b\b\b\b\b\b\b\b\b\b\b\b\b\b\b\b\b\b\b\b\b\b 68% 1 . yoochoose-clicks.dat\b\b\b\b\b\b\b\b\b\b\b\b\b\b\b\b\b\b\b\b\b\b\b\b\b\b\b\b\b                             \b\b\b\b\b\b\b\b\b\b\b\b\b\b\b\b\b\b\b\b\b\b\b\b\b\b\b\b\b 69% 1 . yoochoose-clicks.dat\b\b\b\b\b\b\b\b\b\b\b\b\b\b\b\b\b\b\b\b\b\b\b\b\b\b\b\b\b                             \b\b\b\b\b\b\b\b\b\b\b\b\b\b\b\b\b\b\b\b\b\b\b\b\b\b\b\b\b 70% 1 . yoochoose-clicks.dat\b\b\b\b\b\b\b\b\b\b\b\b\b\b\b\b\b\b\b\b\b\b\b\b\b\b\b\b\b                             \b\b\b\b\b\b\b\b\b\b\b\b\b\b\b\b\b\b\b\b\b\b\b\b\b\b\b\b\b 71% 1 . yoochoose-clicks.dat\b\b\b\b\b\b\b\b\b\b\b\b\b\b\b\b\b\b\b\b\b\b\b\b\b\b\b\b\b                             \b\b\b\b\b\b\b\b\b\b\b\b\b\b\b\b\b\b\b\b\b\b\b\b\b\b\b\b\b 72% 1 . yoochoose-clicks.dat\b\b\b\b\b\b\b\b\b\b\b\b\b\b\b\b\b\b\b\b\b\b\b\b\b\b\b\b\b                             \b\b\b\b\b\b\b\b\b\b\b\b\b\b\b\b\b\b\b\b\b\b\b\b\b\b\b\b\b 73% 1 . yoochoose-clicks.dat\b\b\b\b\b\b\b\b\b\b\b\b\b\b\b\b\b\b\b\b\b\b\b\b\b\b\b\b\b                             \b\b\b\b\b\b\b\b\b\b\b\b\b\b\b\b\b\b\b\b\b\b\b\b\b\b\b\b\b 74% 1 . yoochoose-clicks.dat\b\b\b\b\b\b\b\b\b\b\b\b\b\b\b\b\b\b\b\b\b\b\b\b\b\b\b\b\b                             \b\b\b\b\b\b\b\b\b\b\b\b\b\b\b\b\b\b\b\b\b\b\b\b\b\b\b\b\b 75% 1 . yoochoose-clicks.dat\b\b\b\b\b\b\b\b\b\b\b\b\b\b\b\b\b\b\b\b\b\b\b\b\b\b\b\b\b                             \b\b\b\b\b\b\b\b\b\b\b\b\b\b\b\b\b\b\b\b\b\b\b\b\b\b\b\b\b 76% 1 . yoochoose-clicks.dat\b\b\b\b\b\b\b\b\b\b\b\b\b\b\b\b\b\b\b\b\b\b\b\b\b\b\b\b\b                             \b\b\b\b\b\b\b\b\b\b\b\b\b\b\b\b\b\b\b\b\b\b\b\b\b\b\b\b\b 77% 1 . yoochoose-clicks.dat\b\b\b\b\b\b\b\b\b\b\b\b\b\b\b\b\b\b\b\b\b\b\b\b\b\b\b\b\b                             \b\b\b\b\b\b\b\b\b\b\b\b\b\b\b\b\b\b\b\b\b\b\b\b\b\b\b\b\b 78% 1 . yoochoose-clicks.dat\b\b\b\b\b\b\b\b\b\b\b\b\b\b\b\b\b\b\b\b\b\b\b\b\b\b\b\b\b                             \b\b\b\b\b\b\b\b\b\b\b\b\b\b\b\b\b\b\b\b\b\b\b\b\b\b\b\b\b 79% 1 . yoochoose-clicks.dat\b\b\b\b\b\b\b\b\b\b\b\b\b\b\b\b\b\b\b\b\b\b\b\b\b\b\b\b\b                             \b\b\b\b\b\b\b\b\b\b\b\b\b\b\b\b\b\b\b\b\b\b\b\b\b\b\b\b\b 80% 1 . yoochoose-clicks.dat\b\b\b\b\b\b\b\b\b\b\b\b\b\b\b\b\b\b\b\b\b\b\b\b\b\b\b\b\b                             \b\b\b\b\b\b\b\b\b\b\b\b\b\b\b\b\b\b\b\b\b\b\b\b\b\b\b\b\b 81% 2 . yoochoose-test.dat\b\b\b\b\b\b\b\b\b\b\b\b\b\b\b\b\b\b\b\b\b\b\b\b\b\b\b                           \b\b\b\b\b\b\b\b\b\b\b\b\b\b\b\b\b\b\b\b\b\b\b\b\b\b\b 82% 2 . yoochoose-test.dat\b\b\b\b\b\b\b\b\b\b\b\b\b\b\b\b\b\b\b\b\b\b\b\b\b\b\b                           \b\b\b\b\b\b\b\b\b\b\b\b\b\b\b\b\b\b\b\b\b\b\b\b\b\b\b 83% 2 . yoochoose-test.dat\b\b\b\b\b\b\b\b\b\b\b\b\b\b\b\b\b\b\b\b\b\b\b\b\b\b\b                           \b\b\b\b\b\b\b\b\b\b\b\b\b\b\b\b\b\b\b\b\b\b\b\b\b\b\b 84% 2 . yoochoose-test.dat\b\b\b\b\b\b\b\b\b\b\b\b\b\b\b\b\b\b\b\b\b\b\b\b\b\b\b                           \b\b\b\b\b\b\b\b\b\b\b\b\b\b\b\b\b\b\b\b\b\b\b\b\b\b\b 85% 2 . yoochoose-test.dat\b\b\b\b\b\b\b\b\b\b\b\b\b\b\b\b\b\b\b\b\b\b\b\b\b\b\b                           \b\b\b\b\b\b\b\b\b\b\b\b\b\b\b\b\b\b\b\b\b\b\b\b\b\b\b 86% 2 . yoochoose-test.dat\b\b\b\b\b\b\b\b\b\b\b\b\b\b\b\b\b\b\b\b\b\b\b\b\b\b\b                           \b\b\b\b\b\b\b\b\b\b\b\b\b\b\b\b\b\b\b\b\b\b\b\b\b\b\b 87% 2 . yoochoose-test.dat\b\b\b\b\b\b\b\b\b\b\b\b\b\b\b\b\b\b\b\b\b\b\b\b\b\b\b                           \b\b\b\b\b\b\b\b\b\b\b\b\b\b\b\b\b\b\b\b\b\b\b\b\b\b\b 88% 2 . yoochoose-test.dat\b\b\b\b\b\b\b\b\b\b\b\b\b\b\b\b\b\b\b\b\b\b\b\b\b\b\b                           \b\b\b\b\b\b\b\b\b\b\b\b\b\b\b\b\b\b\b\b\b\b\b\b\b\b\b 89% 2 . yoochoose-test.dat\b\b\b\b\b\b\b\b\b\b\b\b\b\b\b\b\b\b\b\b\b\b\b\b\b\b\b                           \b\b\b\b\b\b\b\b\b\b\b\b\b\b\b\b\b\b\b\b\b\b\b\b\b\b\b 90% 2 . yoochoose-test.dat\b\b\b\b\b\b\b\b\b\b\b\b\b\b\b\b\b\b\b\b\b\b\b\b\b\b\b                           \b\b\b\b\b\b\b\b\b\b\b\b\b\b\b\b\b\b\b\b\b\b\b\b\b\b\b 91% 2 . yoochoose-test.dat\b\b\b\b\b\b\b\b\b\b\b\b\b\b\b\b\b\b\b\b\b\b\b\b\b\b\b                           \b\b\b\b\b\b\b\b\b\b\b\b\b\b\b\b\b\b\b\b\b\b\b\b\b\b\b 92% 2 . yoochoose-test.dat\b\b\b\b\b\b\b\b\b\b\b\b\b\b\b\b\b\b\b\b\b\b\b\b\b\b\b                           \b\b\b\b\b\b\b\b\b\b\b\b\b\b\b\b\b\b\b\b\b\b\b\b\b\b\b 93% 2 . yoochoose-test.dat\b\b\b\b\b\b\b\b\b\b\b\b\b\b\b\b\b\b\b\b\b\b\b\b\b\b\b                           \b\b\b\b\b\b\b\b\b\b\b\b\b\b\b\b\b\b\b\b\b\b\b\b\b\b\b 94% 2 . yoochoose-test.dat\b\b\b\b\b\b\b\b\b\b\b\b\b\b\b\b\b\b\b\b\b\b\b\b\b\b\b                           \b\b\b\b\b\b\b\b\b\b\b\b\b\b\b\b\b\b\b\b\b\b\b\b\b\b\b 95% 2 . yoochoose-test.dat\b\b\b\b\b\b\b\b\b\b\b\b\b\b\b\b\b\b\b\b\b\b\b\b\b\b\b                           \b\b\b\b\b\b\b\b\b\b\b\b\b\b\b\b\b\b\b\b\b\b\b\b\b\b\b 96% 2 . yoochoose-test.dat\b\b\b\b\b\b\b\b\b\b\b\b\b\b\b\b\b\b\b\b\b\b\b\b\b\b\b                           \b\b\b\b\b\b\b\b\b\b\b\b\b\b\b\b\b\b\b\b\b\b\b\b\b\b\b 97% 2 . yoochoose-test.dat\b\b\b\b\b\b\b\b\b\b\b\b\b\b\b\b\b\b\b\b\b\b\b\b\b\b\b                           \b\b\b\b\b\b\b\b\b\b\b\b\b\b\b\b\b\b\b\b\b\b\b\b\b\b\b 98% 2 . yoochoose-test.dat\b\b\b\b\b\b\b\b\b\b\b\b\b\b\b\b\b\b\b\b\b\b\b\b\b\b\b                           \b\b\b\b\b\b\b\b\b\b\b\b\b\b\b\b\b\b\b\b\b\b\b\b\b\b\b 99% 2 . yoochoose-test.dat\b\b\b\b\b\b\b\b\b\b\b\b\b\b\b\b\b\b\b\b\b\b\b\b\b\b\b                           \b\b\b\b\b\b\b\b\b\b\b\b\b\b\b\b\b\b\b\b\b\b\b\b\b\b\b 99% 3\b\b\b\b\b\b      \b\b\b\b\b\bEverything is Ok\n",
            "\n",
            "Files: 4\n",
            "Size:       1914111754\n",
            "Compressed: 287211932\n",
            "mkdir: cannot create directory ‘data’: File exists\n"
          ],
          "name": "stdout"
        }
      ]
    },
    {
      "cell_type": "markdown",
      "metadata": {
        "id": "gpjJOcqDR945"
      },
      "source": [
        "# Preprocesar dataset"
      ]
    },
    {
      "cell_type": "code",
      "metadata": {
        "id": "7E3mSmYQR9k-"
      },
      "source": [
        "import os\n",
        "import numpy as np\n",
        "import pandas as pd\n",
        "import datetime as dt\n",
        "from matplotlib import pyplot as plt\n",
        "os.environ['TF_CPP_MIN_LOG_LEVEL'] = '3'"
      ],
      "execution_count": 4,
      "outputs": []
    },
    {
      "cell_type": "code",
      "metadata": {
        "id": "WwNyFUAHRssj"
      },
      "source": [
        "src_path = './rsc15/'\n",
        "dst_path   = './data/'"
      ],
      "execution_count": 5,
      "outputs": []
    },
    {
      "cell_type": "code",
      "metadata": {
        "id": "om43PXTNSoLu"
      },
      "source": [
        "def process(src_path, dst_path):\n",
        "  data = pd.read_csv(src_path + 'yoochoose-clicks.dat', sep=',', header=None, usecols=[0,1,2], dtype={0:np.int32, 1:str, 2:np.int64})\n",
        "  data.columns = ['SessionId', 'TimeStr', 'ItemId']\n",
        "\n",
        "  # Add timestamp\n",
        "  data['Time'] = data.TimeStr.apply(lambda x: dt.datetime.strptime(x, '%Y-%m-%dT%H:%M:%S.%fZ').timestamp())\n",
        "  del(data['TimeStr'])\n",
        "\n",
        "  # Filter by session size > 1\n",
        "  session_lengths = data.groupby('SessionId').size()  \n",
        "  data = data[np.in1d(data.SessionId, session_lengths[session_lengths>1].index)]\n",
        "  \n",
        "  # Filter by \"known\" (appears >= 5) items\n",
        "  item_supports = data.groupby('ItemId').size()\n",
        "  data = data[np.in1d(data.ItemId, item_supports[item_supports>=5].index)]\n",
        "  \n",
        "  # Filter by session size > 2\n",
        "  session_lengths = data.groupby('SessionId').size()\n",
        "  data = data[np.in1d(data.SessionId, session_lengths[session_lengths>=2].index)]\n",
        "\n",
        "  # Test split is entire last day\n",
        "  tmax = data.Time.max()\n",
        "  session_max_times = data.groupby('SessionId').Time.max()\n",
        "  \n",
        "  session_train = session_max_times[session_max_times < tmax-86400].index\n",
        "  train = data[np.in1d(data.SessionId, session_train)]\n",
        "  \n",
        "  session_test = session_max_times[session_max_times >= tmax-86400].index\n",
        "  test = data[np.in1d(data.SessionId, session_test)]\n",
        "  test = test[np.in1d(test.ItemId, train.ItemId)]\n",
        "  tslength = test.groupby('SessionId').size()\n",
        "  test = test[np.in1d(test.SessionId, tslength[tslength>=2].index)]\n",
        "  print('Test set\\n\\tEvents: {}\\n\\tSessions: {}\\n\\tItems: {}'.format(len(test), test.SessionId.nunique(), test.ItemId.nunique()))\n",
        "  test.to_csv(dst_path + 'test.tsv', sep='\\t', index=False)\n",
        "\n",
        "  # Validation: second to last day. Train: remainder\n",
        "  tmax = train.Time.max()\n",
        "  session_max_times = train.groupby('SessionId').Time.max()\n",
        "  session_train = session_max_times[session_max_times < tmax-86400].index\n",
        "  session_valid = session_max_times[session_max_times >= tmax-86400].index\n",
        "\n",
        "  train_tr = train[np.in1d(train.SessionId, session_train)]\n",
        "  valid = train[np.in1d(train.SessionId, session_valid)]\n",
        "  valid = valid[np.in1d(valid.ItemId, train_tr.ItemId)]\n",
        "  tslength = valid.groupby('SessionId').size()\n",
        "  valid = valid[np.in1d(valid.SessionId, tslength[tslength>=2].index)]\n",
        "  print('Validation set\\n\\tEvents: {}\\n\\tSessions: {}\\n\\tItems: {}'.format(len(valid), valid.SessionId.nunique(), valid.ItemId.nunique()))\n",
        "  valid.to_csv(dst_path + 'validation.tsv', sep='\\t', index=False)\n",
        "  \n",
        "  \n",
        "  print('Train set\\n\\tEvents: {}\\n\\tSessions: {}\\n\\tItems: {}'.format(len(train_tr), train_tr.SessionId.nunique(), train_tr.ItemId.nunique()))\n",
        "  train_tr.to_csv(dst_path + 'train.tsv', sep='\\t', index=False)\n"
      ],
      "execution_count": 6,
      "outputs": []
    },
    {
      "cell_type": "code",
      "metadata": {
        "id": "nc6wy4phS1v2",
        "outputId": "bf580a4a-567c-423b-c14a-0001839edd02",
        "colab": {
          "base_uri": "https://localhost:8080/",
          "height": 221
        }
      },
      "source": [
        "process(src_path, dst_path)  # Takes ~10 minutes"
      ],
      "execution_count": 9,
      "outputs": [
        {
          "output_type": "stream",
          "text": [
            "Test set\n",
            "\tEvents: 71222\n",
            "\tSessions: 15324\n",
            "\tItems: 6751\n",
            "Validation set\n",
            "\tEvents: 58233\n",
            "\tSessions: 12372\n",
            "\tItems: 6359\n",
            "Train set\n",
            "\tEvents: 31579006\n",
            "\tSessions: 7953885\n",
            "\tItems: 37483\n"
          ],
          "name": "stdout"
        }
      ]
    },
    {
      "cell_type": "code",
      "metadata": {
        "id": "kx_HdipUDS2z"
      },
      "source": [
        "def train_fraction(df, fraction, prefix=\"train\", path=\"./data/\"):\n",
        "    \n",
        "    length = len(df['ItemId'])\n",
        "    first_session = df.iloc[length - length//fraction].SessionId\n",
        "    df = df.loc[df['SessionId'] >= first_session]\n",
        "    itemids = df['ItemId'].unique()\n",
        "    n_items = len(itemids)\n",
        "\n",
        "    print('Fractioned data set\\n\\tEvents: {}\\n\\tSessions: {}\\n\\tItems: {}'.format(len(df), df.SessionId.nunique(), df.ItemId.nunique()))\n",
        "    filename = path + '{}_{}.tsv'.format(prefix, fraction)\n",
        "    df.to_csv(filename, sep='\\t', index=False)\n",
        "    print(\"Saved as {}\".format(filename))"
      ],
      "execution_count": 10,
      "outputs": []
    },
    {
      "cell_type": "code",
      "metadata": {
        "id": "4r1tWG1gh7eX",
        "outputId": "ae675952-d858-4076-801d-35e2139131e6",
        "colab": {
          "base_uri": "https://localhost:8080/",
          "height": 102
        }
      },
      "source": [
        "# Obtain most recent 1/nth fraction of train for demo purposes\n",
        "fraction = 64\n",
        "train = pd.read_csv(dst_path + 'train.tsv', sep='\\t', dtype={'ItemId':np.int64})\n",
        "train_fraction(train, fraction)\n"
      ],
      "execution_count": 11,
      "outputs": [
        {
          "output_type": "stream",
          "text": [
            "Fractioned data set\n",
            "\tEvents: 71391\n",
            "\tSessions: 17450\n",
            "\tItems: 8724\n",
            "Saved as ./data/train_64.tsv\n"
          ],
          "name": "stdout"
        }
      ]
    },
    {
      "cell_type": "markdown",
      "metadata": {
        "id": "ZWgvazVufHs6"
      },
      "source": [
        "# Entrenamiento"
      ]
    },
    {
      "cell_type": "code",
      "metadata": {
        "id": "PSPwVh4AS_GW",
        "outputId": "f6cdcb82-28ad-442c-dc45-2fe35577bd58",
        "colab": {
          "base_uri": "https://localhost:8080/",
          "height": 1000
        }
      },
      "source": [
        "!python src/model/gru4rec.py --epochs 200 --train-path ./data/train_64.tsv --dev-path ./data/validation.tsv --test-path ./data/test.tsv"
      ],
      "execution_count": null,
      "outputs": [
        {
          "output_type": "stream",
          "text": [
            "Model: \"functional_1\"\n",
            "_________________________________________________________________\n",
            "Layer (type)                 Output Shape              Param #   \n",
            "=================================================================\n",
            "input_1 (InputLayer)         [(512, 1, 8725)]          0         \n",
            "_________________________________________________________________\n",
            "GRU (GRU)                    [(512, 100), (512, 100)]  2648100   \n",
            "_________________________________________________________________\n",
            "dropout (Dropout)            (512, 100)                0         \n",
            "_________________________________________________________________\n",
            "dense (Dense)                (512, 8725)               881225    \n",
            "=================================================================\n",
            "Total params: 3,529,325\n",
            "Trainable params: 3,529,325\n",
            "Non-trainable params: 0\n",
            "_________________________________________________________________\n",
            "Epoch 1. Loss: 8.36100:  97% 16929/17451 [00:06<00:00, 2449.28it/s]\n",
            "Epoch 2. Loss: 7.91074:  97% 16929/17451 [00:04<00:00, 3585.95it/s]\n",
            "Epoch 3. Loss: 7.64441:  97% 16929/17451 [00:04<00:00, 3669.41it/s]\n",
            "Epoch 4. Loss: 7.44699:  97% 16929/17451 [00:04<00:00, 3609.54it/s]\n",
            "Epoch 5. Loss: 7.29543:  97% 16929/17451 [00:04<00:00, 3572.41it/s]\n",
            "Epoch 6. Loss: 7.15267:  97% 16929/17451 [00:04<00:00, 3567.73it/s]\n",
            "Epoch 7. Loss: 7.02348:  97% 16929/17451 [00:04<00:00, 3560.18it/s]\n",
            "Epoch 8. Loss: 6.87114:  97% 16929/17451 [00:04<00:00, 3558.39it/s]\n",
            "Epoch 9. Loss: 6.67825:  97% 16929/17451 [00:04<00:00, 3532.21it/s]\n",
            "Epoch 10. Loss: 6.49897:  97% 16929/17451 [00:04<00:00, 3617.40it/s]\n",
            "Epoch 11. Loss: 6.28714:  97% 16929/17451 [00:04<00:00, 3560.13it/s]\n",
            "Epoch 12. Loss: 6.10497:  97% 16929/17451 [00:04<00:00, 3548.37it/s]\n",
            "Epoch 13. Loss: 5.94678:  97% 16929/17451 [00:04<00:00, 3575.37it/s]\n",
            "Epoch 14. Loss: 5.76672:  97% 16929/17451 [00:04<00:00, 3593.98it/s]\n",
            "Epoch 15. Loss: 5.60658:  97% 16929/17451 [00:04<00:00, 3609.86it/s]\n",
            "Epoch 16. Loss: 5.44177:  97% 16929/17451 [00:04<00:00, 3638.11it/s]\n",
            "Epoch 17. Loss: 5.31385:  97% 16929/17451 [00:04<00:00, 3600.42it/s]\n",
            "Epoch 18. Loss: 5.17013:  97% 16929/17451 [00:04<00:00, 3678.95it/s]\n",
            "Epoch 19. Loss: 4.98161:  97% 16929/17451 [00:04<00:00, 3653.14it/s]\n",
            "Epoch 20. Loss: 4.88426:  97% 16929/17451 [00:04<00:00, 3620.03it/s]\n",
            "Epoch 21. Loss: 4.74530:  97% 16929/17451 [00:04<00:00, 3592.80it/s]\n",
            "Epoch 22. Loss: 4.63204:  97% 16929/17451 [00:04<00:00, 3627.73it/s]\n",
            "Epoch 23. Loss: 4.51706:  97% 16929/17451 [00:04<00:00, 3566.64it/s]\n",
            "Epoch 24. Loss: 4.39683:  97% 16929/17451 [00:04<00:00, 3476.95it/s]\n",
            "Epoch 25. Loss: 4.29132:  97% 16929/17451 [00:04<00:00, 3488.01it/s]\n",
            "Epoch 26. Loss: 4.20730:  97% 16929/17451 [00:04<00:00, 3558.86it/s]\n",
            "Epoch 27. Loss: 4.05357:  97% 16929/17451 [00:04<00:00, 3577.46it/s]\n",
            "Epoch 28. Loss: 3.91152:  97% 16929/17451 [00:04<00:00, 3601.74it/s]\n",
            "Epoch 29. Loss: 3.83316:  97% 16929/17451 [00:04<00:00, 3557.16it/s]\n",
            "Epoch 30. Loss: 3.75852:  97% 16929/17451 [00:04<00:00, 3563.29it/s]\n",
            "Epoch 31. Loss: 3.67868:  97% 16929/17451 [00:04<00:00, 3615.80it/s]\n",
            "Epoch 32. Loss: 3.58993:  97% 16929/17451 [00:04<00:00, 3638.67it/s]\n",
            "Epoch 33. Loss: 3.45384:  97% 16929/17451 [00:04<00:00, 3674.96it/s]\n",
            "Epoch 34. Loss: 3.38340:  97% 16929/17451 [00:04<00:00, 3666.13it/s]\n",
            "Epoch 35. Loss: 3.27716:  97% 16929/17451 [00:04<00:00, 3667.89it/s]\n",
            "Epoch 36. Loss: 3.23165:  97% 16929/17451 [00:04<00:00, 3680.26it/s]\n",
            "Epoch 37. Loss: 3.14440:  97% 16929/17451 [00:04<00:00, 3640.92it/s]\n",
            "Epoch 38. Loss: 3.04255:  97% 16929/17451 [00:04<00:00, 3651.70it/s]\n",
            "Epoch 39. Loss: 2.96131:  97% 16929/17451 [00:04<00:00, 3643.96it/s]\n",
            "Epoch 40. Loss: 2.96372:  97% 16929/17451 [00:04<00:00, 3665.80it/s]\n",
            "Epoch 41. Loss: 2.85200:  97% 16929/17451 [00:04<00:00, 3568.44it/s]\n",
            "Epoch 42. Loss: 2.82222:  97% 16929/17451 [00:04<00:00, 3626.09it/s]\n",
            "Epoch 43. Loss: 2.79169:  97% 16929/17451 [00:04<00:00, 3587.49it/s]\n",
            "Epoch 44. Loss: 2.69663:  97% 16929/17451 [00:04<00:00, 3565.48it/s]\n",
            "Epoch 45. Loss: 2.64036:  97% 16929/17451 [00:04<00:00, 3605.74it/s]\n",
            "Epoch 46. Loss: 2.61245:  97% 16929/17451 [00:04<00:00, 3594.98it/s]\n",
            "Epoch 47. Loss: 2.58792:  97% 16929/17451 [00:04<00:00, 3555.77it/s]\n",
            "Epoch 48. Loss: 2.49798:  97% 16929/17451 [00:04<00:00, 3584.50it/s]\n",
            "Epoch 49. Loss: 2.47864:  97% 16929/17451 [00:04<00:00, 3685.53it/s]\n",
            "Epoch 50. Loss: 2.44937:  97% 16929/17451 [00:04<00:00, 3646.87it/s]\n",
            "Epoch 51. Loss: 2.41426:  97% 16929/17451 [00:04<00:00, 3659.24it/s]\n",
            "Epoch 52. Loss: 2.38957:  97% 16929/17451 [00:04<00:00, 3635.91it/s]\n",
            "Epoch 53. Loss: 2.37459:  97% 16929/17451 [00:04<00:00, 3577.56it/s]\n",
            "Epoch 54. Loss: 2.36246:  97% 16929/17451 [00:04<00:00, 3641.83it/s]\n",
            "Epoch 55. Loss: 2.36532:  97% 16929/17451 [00:04<00:00, 3586.57it/s]\n",
            "Epoch 56. Loss: 2.30258:  97% 16929/17451 [00:04<00:00, 3639.70it/s]\n",
            "Epoch 57. Loss: 2.25206:  97% 16929/17451 [00:04<00:00, 3564.55it/s]\n",
            "Epoch 58. Loss: 2.23173:  97% 16929/17451 [00:04<00:00, 3573.03it/s]\n",
            "Epoch 59. Loss: 2.24450:  97% 16929/17451 [00:04<00:00, 3566.83it/s]\n",
            "Epoch 60. Loss: 2.24552:  97% 16929/17451 [00:04<00:00, 3573.46it/s]\n",
            "Epoch 61. Loss: 2.21677:  97% 16929/17451 [00:04<00:00, 3526.14it/s]\n",
            "Epoch 62. Loss: 2.18305:  97% 16929/17451 [00:04<00:00, 3548.67it/s]\n",
            "Epoch 63. Loss: 2.15529:  97% 16929/17451 [00:04<00:00, 3579.21it/s]\n",
            "Epoch 64. Loss: 2.15032:  97% 16929/17451 [00:04<00:00, 3555.30it/s]\n",
            "Epoch 65. Loss: 2.11238:  97% 16929/17451 [00:04<00:00, 3601.03it/s]\n",
            "Epoch 66. Loss: 2.15559:  97% 16929/17451 [00:04<00:00, 3617.49it/s]\n",
            "Epoch 67. Loss: 2.09377:  97% 16929/17451 [00:04<00:00, 3646.96it/s]\n",
            "Epoch 68. Loss: 2.06445:  97% 16929/17451 [00:04<00:00, 3622.76it/s]\n",
            "Epoch 69. Loss: 2.06989:  97% 16929/17451 [00:04<00:00, 3627.00it/s]\n",
            "Epoch 70. Loss: 2.04925:  97% 16929/17451 [00:04<00:00, 3642.71it/s]\n",
            "Epoch 71. Loss: 2.04505:  97% 16929/17451 [00:04<00:00, 3663.18it/s]\n",
            "Epoch 72. Loss: 2.05784:  97% 16929/17451 [00:04<00:00, 3587.56it/s]\n",
            "Epoch 73. Loss: 2.05133:  97% 16929/17451 [00:04<00:00, 3648.34it/s]\n",
            "Epoch 74. Loss: 2.09004:  97% 16929/17451 [00:04<00:00, 3604.81it/s]\n",
            "Epoch 75. Loss: 2.03247:  97% 16929/17451 [00:04<00:00, 3543.04it/s]\n",
            "Epoch 76. Loss: 2.03745:  97% 16929/17451 [00:04<00:00, 3575.99it/s]\n",
            "Epoch 77. Loss: 2.00915:  97% 16929/17451 [00:04<00:00, 3549.38it/s]\n",
            "Epoch 78. Loss: 2.00357:  97% 16929/17451 [00:04<00:00, 3551.93it/s]\n",
            "Epoch 79. Loss: 2.03322:  97% 16929/17451 [00:04<00:00, 3565.57it/s]\n",
            "Epoch 80. Loss: 1.98928:  97% 16929/17451 [00:04<00:00, 3584.21it/s]\n",
            "Epoch 81. Loss: 1.91379:  97% 16929/17451 [00:04<00:00, 3511.95it/s]\n",
            "Epoch 82. Loss: 2.00096:  97% 16929/17451 [00:04<00:00, 3559.23it/s]\n",
            "Epoch 83. Loss: 1.98155:  97% 16929/17451 [00:04<00:00, 3646.05it/s]\n",
            "Epoch 84. Loss: 1.99578:  97% 16929/17451 [00:04<00:00, 3638.65it/s]\n",
            "Epoch 85. Loss: 1.89318:  97% 16929/17451 [00:04<00:00, 3617.68it/s]\n",
            "Epoch 86. Loss: 1.94157:  97% 16929/17451 [00:04<00:00, 3609.92it/s]\n",
            "Epoch 87. Loss: 1.88872:  97% 16929/17451 [00:04<00:00, 3606.89it/s]\n",
            "Epoch 88. Loss: 1.84110:  97% 16929/17451 [00:04<00:00, 3576.77it/s]\n",
            "Epoch 89. Loss: 1.90430:  97% 16929/17451 [00:04<00:00, 3622.43it/s]\n",
            "Epoch 90. Loss: 1.91095:  97% 16929/17451 [00:04<00:00, 3517.05it/s]\n",
            "Epoch 91. Loss: 1.89839:  97% 16929/17451 [00:04<00:00, 3445.73it/s]\n",
            "Epoch 92. Loss: 1.85073:  97% 16929/17451 [00:04<00:00, 3530.42it/s]\n",
            "Epoch 93. Loss: 1.89522:  97% 16929/17451 [00:04<00:00, 3550.63it/s]\n",
            "Epoch 94. Loss: 1.85643:  97% 16929/17451 [00:04<00:00, 3542.39it/s]\n",
            "Epoch 95. Loss: 1.88273:  97% 16929/17451 [00:04<00:00, 3526.50it/s]\n",
            "Epoch 96. Loss: 1.88735:  97% 16929/17451 [00:04<00:00, 3587.96it/s]\n",
            "Epoch 97. Loss: 1.87880:  97% 16929/17451 [00:04<00:00, 3583.60it/s]\n",
            "Epoch 98. Loss: 1.83082:  97% 16929/17451 [00:04<00:00, 3585.35it/s]\n",
            "Epoch 99. Loss: 1.82273:  97% 16929/17451 [00:04<00:00, 3658.07it/s]\n",
            "Epoch 100. Loss: 1.82397:  97% 16929/17451 [00:04<00:00, 3679.56it/s]\n",
            "Epoch 101. Loss: 1.85466:  97% 16929/17451 [00:04<00:00, 3651.28it/s]\n",
            "Epoch 102. Loss: 1.84410:  97% 16929/17451 [00:04<00:00, 3647.34it/s]\n",
            "Epoch 103. Loss: 1.81346:  97% 16929/17451 [00:04<00:00, 3660.43it/s]\n",
            "Epoch 104. Loss: 1.82841:  97% 16929/17451 [00:04<00:00, 3628.65it/s]\n",
            "Epoch 105. Loss: 1.82713:  97% 16929/17451 [00:04<00:00, 3656.51it/s]\n",
            "Epoch 106. Loss: 1.79846:  97% 16929/17451 [00:04<00:00, 3638.38it/s]\n",
            "Epoch 107. Loss: 1.84040:  97% 16929/17451 [00:04<00:00, 3608.08it/s]\n",
            "Epoch 108. Loss: 1.81355:  97% 16929/17451 [00:04<00:00, 3529.92it/s]\n",
            "Epoch 109. Loss: 1.81724:  97% 16929/17451 [00:04<00:00, 3540.66it/s]\n",
            "Epoch 110. Loss: 1.78786:  97% 16929/17451 [00:04<00:00, 3577.26it/s]\n",
            "Epoch 111. Loss: 1.79225:  97% 16929/17451 [00:04<00:00, 3561.90it/s]\n",
            "Epoch 112. Loss: 1.76774:  97% 16929/17451 [00:04<00:00, 3559.13it/s]\n",
            "Epoch 113. Loss: 1.79304:  97% 16929/17451 [00:04<00:00, 3583.85it/s]\n",
            "Epoch 114. Loss: 1.73879:  97% 16929/17451 [00:04<00:00, 3549.66it/s]\n",
            "Epoch 115. Loss: 1.82433:  97% 16929/17451 [00:04<00:00, 3525.17it/s]\n",
            "Epoch 116. Loss: 1.77422:  97% 16929/17451 [00:04<00:00, 3550.67it/s]\n",
            "Epoch 117. Loss: 1.76653:  97% 16929/17451 [00:04<00:00, 3574.53it/s]\n",
            "Epoch 118. Loss: 1.76889:  97% 16929/17451 [00:04<00:00, 3584.97it/s]\n",
            "Epoch 119. Loss: 1.76449:  97% 16929/17451 [00:04<00:00, 3628.83it/s]\n",
            "Epoch 120. Loss: 1.74675:  97% 16929/17451 [00:04<00:00, 3633.69it/s]\n",
            "Epoch 121. Loss: 1.70008:  97% 16929/17451 [00:04<00:00, 3622.93it/s]\n",
            "Epoch 122. Loss: 1.74326:  97% 16929/17451 [00:04<00:00, 3600.17it/s]\n",
            "Epoch 123. Loss: 1.74419:  97% 16929/17451 [00:04<00:00, 3603.69it/s]\n",
            "Epoch 124. Loss: 1.76688:  97% 16929/17451 [00:04<00:00, 3582.56it/s]\n",
            "Epoch 125. Loss: 1.69872:  97% 16929/17451 [00:04<00:00, 3561.75it/s]\n",
            "Epoch 126. Loss: 1.71793:  97% 16929/17451 [00:04<00:00, 3542.60it/s]\n",
            "Epoch 127. Loss: 1.73660:  97% 16929/17451 [00:04<00:00, 3570.66it/s]\n",
            "Epoch 128. Loss: 1.65800:  97% 16929/17451 [00:04<00:00, 3550.80it/s]\n",
            "Epoch 129. Loss: 1.74299:  97% 16929/17451 [00:04<00:00, 3532.11it/s]\n",
            "Epoch 130. Loss: 1.64158:  97% 16929/17451 [00:04<00:00, 3570.66it/s]\n",
            "Epoch 131. Loss: 1.76008:  97% 16929/17451 [00:04<00:00, 3595.76it/s]\n",
            "Epoch 132. Loss: 1.71247:  97% 16929/17451 [00:04<00:00, 3601.31it/s]\n",
            "Epoch 133. Loss: 1.64373:  97% 16929/17451 [00:04<00:00, 3570.20it/s]\n",
            "Epoch 134. Loss: 1.68037:  97% 16929/17451 [00:04<00:00, 3595.91it/s]\n",
            "Epoch 135. Loss: 1.67941:  97% 16929/17451 [00:04<00:00, 3622.75it/s]\n",
            "Epoch 136. Loss: 1.66708:  97% 16929/17451 [00:04<00:00, 3624.95it/s]\n",
            "Epoch 137. Loss: 1.65876:  97% 16929/17451 [00:04<00:00, 3628.90it/s]\n",
            "Epoch 138. Loss: 1.67735:  97% 16929/17451 [00:04<00:00, 3628.26it/s]\n",
            "Epoch 139. Loss: 1.65618:  97% 16929/17451 [00:04<00:00, 3533.89it/s]\n",
            "Epoch 140. Loss: 1.75493:  97% 16929/17451 [00:04<00:00, 3573.26it/s]\n",
            "Epoch 141. Loss: 1.68177:  97% 16929/17451 [00:04<00:00, 3543.81it/s]\n",
            "Epoch 142. Loss: 1.62480:  97% 16929/17451 [00:04<00:00, 3558.50it/s]\n",
            "Epoch 143. Loss: 1.62579:  97% 16929/17451 [00:04<00:00, 3546.26it/s]\n",
            "Epoch 144. Loss: 1.61163:  97% 16929/17451 [00:04<00:00, 3559.08it/s]\n",
            "Epoch 145. Loss: 1.70206:  97% 16929/17451 [00:04<00:00, 3515.55it/s]\n",
            "Epoch 146. Loss: 1.62462:  97% 16929/17451 [00:04<00:00, 3565.09it/s]\n",
            "Epoch 147. Loss: 1.62699:  97% 16929/17451 [00:04<00:00, 3627.70it/s]\n",
            "Epoch 148. Loss: 1.63239:  97% 16929/17451 [00:04<00:00, 3571.21it/s]\n",
            "Epoch 149. Loss: 1.63872:  97% 16929/17451 [00:04<00:00, 3524.23it/s]\n",
            "Epoch 150. Loss: 1.59660:  97% 16929/17451 [00:04<00:00, 3561.78it/s]\n",
            "Epoch 151. Loss: 1.64405:  97% 16929/17451 [00:04<00:00, 3612.28it/s]\n",
            "Epoch 152. Loss: 1.60050:  97% 16929/17451 [00:04<00:00, 3618.59it/s]\n",
            "Epoch 153. Loss: 1.67246:  97% 16929/17451 [00:04<00:00, 3621.23it/s]\n",
            "Epoch 154. Loss: 1.60030:  97% 16929/17451 [00:04<00:00, 3610.93it/s]\n",
            "Epoch 155. Loss: 1.58888:  97% 16929/17451 [00:04<00:00, 3530.48it/s]\n",
            "Epoch 156. Loss: 1.62305:  97% 16929/17451 [00:04<00:00, 3476.97it/s]\n",
            "Epoch 157. Loss: 1.61962:  97% 16929/17451 [00:04<00:00, 3455.43it/s]\n",
            "Epoch 158. Loss: 1.62250:  97% 16929/17451 [00:04<00:00, 3527.16it/s]\n",
            "Epoch 159. Loss: 1.64777:  97% 16929/17451 [00:04<00:00, 3530.99it/s]\n",
            "Epoch 160. Loss: 1.63964:  97% 16929/17451 [00:04<00:00, 3582.72it/s]\n",
            "Epoch 161. Loss: 1.61146:  97% 16929/17451 [00:04<00:00, 3564.96it/s]\n",
            "Epoch 162. Loss: 1.62006:  97% 16929/17451 [00:04<00:00, 3540.64it/s]\n",
            "Epoch 163. Loss: 1.59693:  97% 16929/17451 [00:04<00:00, 3615.73it/s]\n",
            "Epoch 164. Loss: 1.61834:  97% 16929/17451 [00:04<00:00, 3601.03it/s]\n",
            "Epoch 165. Loss: 1.60626:  97% 16929/17451 [00:04<00:00, 3516.89it/s]\n",
            "Epoch 166. Loss: 1.55524:  97% 16929/17451 [00:04<00:00, 3588.17it/s]\n",
            "Epoch 167. Loss: 1.55584:  97% 16929/17451 [00:04<00:00, 3581.96it/s]\n",
            "Epoch 168. Loss: 1.62111:  97% 16929/17451 [00:04<00:00, 3612.13it/s]\n",
            "Epoch 169. Loss: 1.61100:  97% 16929/17451 [00:04<00:00, 3629.07it/s]\n",
            "Epoch 170. Loss: 1.60550:  97% 16929/17451 [00:04<00:00, 3628.21it/s]\n",
            "Epoch 171. Loss: 1.59633:  97% 16929/17451 [00:04<00:00, 3617.91it/s]\n",
            "Epoch 172. Loss: 1.54555:  97% 16929/17451 [00:04<00:00, 3591.27it/s]\n",
            "Epoch 173. Loss: 1.60524:  97% 16929/17451 [00:04<00:00, 3590.22it/s]\n",
            "Epoch 174. Loss: 1.54064:  97% 16929/17451 [00:04<00:00, 3521.49it/s]\n",
            "Epoch 175. Loss: 1.60325:  97% 16929/17451 [00:04<00:00, 3535.90it/s]\n",
            "Epoch 176. Loss: 1.52351:  97% 16929/17451 [00:04<00:00, 3555.14it/s]\n",
            "Epoch 177. Loss: 1.64363:  97% 16929/17451 [00:04<00:00, 3556.96it/s]\n",
            "Epoch 178. Loss: 1.59624:  97% 16929/17451 [00:04<00:00, 3579.79it/s]\n",
            "Epoch 179. Loss: 1.62196:  97% 16929/17451 [00:04<00:00, 3559.53it/s]\n",
            "Epoch 180. Loss: 1.57736:  97% 16929/17451 [00:04<00:00, 3559.97it/s]\n",
            "Epoch 181. Loss: 1.53019:  97% 16929/17451 [00:04<00:00, 3609.33it/s]\n",
            "Epoch 182. Loss: 1.51593:  97% 16929/17451 [00:04<00:00, 3544.11it/s]\n",
            "Epoch 183. Loss: 1.56294:  97% 16929/17451 [00:04<00:00, 3572.27it/s]\n",
            "Epoch 184. Loss: 1.60654:  97% 16929/17451 [00:04<00:00, 3589.23it/s]\n",
            "Epoch 185. Loss: 1.58236:  97% 16929/17451 [00:04<00:00, 3630.51it/s]\n",
            "Epoch 186. Loss: 1.55006:  97% 16929/17451 [00:04<00:00, 3660.34it/s]\n",
            "Epoch 187. Loss: 1.52866:  97% 16929/17451 [00:04<00:00, 3620.39it/s]\n",
            "Epoch 188. Loss: 1.56488:  97% 16929/17451 [00:04<00:00, 3650.04it/s]\n",
            "Epoch 189. Loss: 1.52533:  97% 16929/17451 [00:04<00:00, 3567.02it/s]\n",
            "Epoch 190. Loss: 1.53598:  97% 16929/17451 [00:04<00:00, 3531.35it/s]\n",
            "Epoch 191. Loss: 1.58366:  97% 16929/17451 [00:04<00:00, 3567.76it/s]\n",
            "Epoch 192. Loss: 1.53936:  97% 16929/17451 [00:04<00:00, 3582.92it/s]\n",
            "Epoch 193. Loss: 1.50628:  97% 16929/17451 [00:04<00:00, 3584.45it/s]\n",
            "Epoch 194. Loss: 1.52697:  97% 16929/17451 [00:04<00:00, 3544.97it/s]\n",
            "Epoch 195. Loss: 1.59308:  97% 16929/17451 [00:04<00:00, 3518.04it/s]\n",
            "Epoch 196. Loss: 1.50325:  97% 16929/17451 [00:04<00:00, 3559.02it/s]\n",
            "Epoch 197. Loss: 1.54319:  97% 16929/17451 [00:04<00:00, 3553.80it/s]\n",
            "Epoch 198. Loss: 1.52855:  97% 16929/17451 [00:04<00:00, 3594.21it/s]\n",
            "Epoch 199. Loss: 1.57140:  97% 16929/17451 [00:04<00:00, 3580.72it/s]\n",
            "Evaluating model...\n"
          ],
          "name": "stdout"
        }
      ]
    },
    {
      "cell_type": "markdown",
      "metadata": {
        "id": "tk9EgsON-8Sr"
      },
      "source": [
        "## Resultados\n",
        "\n",
        "Luego de 200 épocas, deberías obtener un desempeño similar al siguiente:\n",
        "\n",
        "\t - Recall@20: 0.47\n",
        "\t - MRR@20   : 0.16\n",
        "\n",
        "\n",
        "Para replicar resultados del paper, utiliza el set de entrenamiento completo"
      ]
    },
    {
      "cell_type": "markdown",
      "metadata": {
        "id": "njfQIzqi_KK8"
      },
      "source": [
        "## Aprovechando información implícita: Dwell Time\n",
        "\n",
        "Podemos utilizar el tiempo que cada item fue visitado por cada usuario para realizar mejores recomendaciones.\n",
        "\n",
        "El supuesto es: a mayor tiempo de permanencia (dwell time) en un item, más interesado está el usuario en dicho item.\n",
        "\n",
        "Se hará item boosting en el set de entrenamiento."
      ]
    },
    {
      "cell_type": "code",
      "metadata": {
        "id": "lh9fruDcuVYg"
      },
      "source": [
        "def preprocess_df(df):    \n",
        "    n_items = len(df['ItemId'].unique())\n",
        "    aux = list(df['ItemId'].unique())\n",
        "    itemids = np.array(aux)\n",
        "    itemidmap = pd.Series(data=np.arange(n_items), index=itemids)  # (id_item => (0, n_items))\n",
        "    \n",
        "    item_key = 'ItemId'\n",
        "    session_key = 'SessionId'\n",
        "    time_key = 'Time'\n",
        "    \n",
        "    data = pd.merge(df, pd.DataFrame({item_key:itemids, 'ItemIdx':itemidmap[itemids].values}), on=item_key, how='inner')\n",
        "    data.sort_values([session_key, time_key], inplace=True)\n",
        "\n",
        "    length = len(data['ItemId'])\n",
        "        \n",
        "    return data"
      ],
      "execution_count": 13,
      "outputs": []
    },
    {
      "cell_type": "code",
      "metadata": {
        "id": "j5O-1YDR_vNY"
      },
      "source": [
        "def compute_dwell_time(df):\n",
        "    times_t = np.roll(df['Time'], -1) # Take time row\n",
        "    times_dt  = df['Time']            # Copy, then displace by one\n",
        "    diffs = np.subtract(times_t, times_dt) # Take pairwise difference\n",
        "    length = len(df['ItemId'])\n",
        "    \n",
        "    # cummulative offset start for each session\n",
        "    offset_sessions = np.zeros(df['SessionId'].nunique()+1, dtype=np.int32)\n",
        "    offset_sessions[1:] = df.groupby('SessionId').size().cumsum() \n",
        "    offset_sessions = offset_sessions - 1\n",
        "    offset_sessions = np.roll(offset_sessions, -1)\n",
        "    \n",
        "    np.put(diffs.values, offset_sessions, np.zeros((offset_sessions.shape)), mode='raise')\n",
        "\n",
        "    return diffs"
      ],
      "execution_count": 14,
      "outputs": []
    },
    {
      "cell_type": "code",
      "metadata": {
        "id": "7vFvOPH9Bfeq"
      },
      "source": [
        "def get_distribution(dts):\n",
        "    filtered = np.array(list(filter(lambda x: int(x) != 0, dts)))\n",
        "    pd_dts = pd.DataFrame(filtered)\n",
        "    pd_dts.boxplot(vert=False, showfliers=False)\n",
        "    plt.xlabel(\"Seconds\")\n",
        "    plt.yticks([])\n",
        "    plt.title(\"Dwell time distribution for RSC15 dataset\")\n",
        "    plt.show()\n",
        "    pd_dts.describe()"
      ],
      "execution_count": 15,
      "outputs": []
    },
    {
      "cell_type": "code",
      "metadata": {
        "id": "pPxWD0xPBfVE"
      },
      "source": [
        "def join_dwell_reps(df, dt, threshold=2000):\n",
        "    # Calculate d_ti/threshold + 1 then add column to dataFrame\n",
        "    dt //= threshold\n",
        "    dt += 1   \n",
        "    df['DwellReps'] = pd.Series(dt.astype(np.int64), index=dt.index)"
      ],
      "execution_count": 16,
      "outputs": []
    },
    {
      "cell_type": "code",
      "metadata": {
        "id": "jYX1RjhQ_wZG"
      },
      "source": [
        "def augment(df):    \n",
        "    col_names = list(df.columns.values)[:3]\n",
        "    augmented = np.repeat(df.values, df['DwellReps'], axis=0) \n",
        "    augmented = pd.DataFrame(data=augmented[:,:3],\n",
        "                             columns=col_names)\n",
        "    dtype = {'SessionId': np.int64, \n",
        "             'ItemId': np.int64, \n",
        "             'Time': np.float32}\n",
        "    \n",
        "    for k, v in dtype.items():\n",
        "        augmented[k] = augmented[k].astype(v)                  \n",
        "    \n",
        "    return augmented"
      ],
      "execution_count": 17,
      "outputs": []
    },
    {
      "cell_type": "code",
      "metadata": {
        "id": "veILDG2X_yJm"
      },
      "source": [
        "new_df = preprocess_df(train)\n",
        "dts = compute_dwell_time(new_df)"
      ],
      "execution_count": 18,
      "outputs": []
    },
    {
      "cell_type": "code",
      "metadata": {
        "id": "7xIJMF5aABmF",
        "outputId": "395909ec-e6a0-4102-fdd7-d1289438666c",
        "colab": {
          "base_uri": "https://localhost:8080/",
          "height": 295
        }
      },
      "source": [
        "# Visualize\n",
        "get_distribution(dts)"
      ],
      "execution_count": 19,
      "outputs": [
        {
          "output_type": "display_data",
          "data": {
            "image/png": "[encoded data removed]",
            "text/plain": [
              "<Figure size 432x288 with 1 Axes>"
            ]
          },
          "metadata": {
            "tags": [],
            "needs_background": "light"
          }
        }
      ]
    },
    {
      "cell_type": "code",
      "metadata": {
        "id": "Y4mZ3YB0Ai4q"
      },
      "source": [
        "# threshold is a hyperparameter\n",
        "join_dwell_reps(new_df, dts, threshold=75)\n",
        "\n",
        "# augment the sessions copying each entry an additional (dwellReps[i]-1) times\n",
        "df_aug = augment(new_df)\n",
        "df_aug.to_csv(\"./data/augmented_train.csv\", index=False, sep='\\t')"
      ],
      "execution_count": 20,
      "outputs": []
    },
    {
      "cell_type": "code",
      "metadata": {
        "id": "X1N36STyCrrs",
        "outputId": "65bd5339-c7f4-4b8e-8470-bf70192d48db",
        "colab": {
          "base_uri": "https://localhost:8080/",
          "height": 102
        }
      },
      "source": [
        "# retrieve 1/n most recent fraction for demo purposes \n",
        "# (note it is a smaller fraction due to the inflation process)\n",
        "fraction = 64*7\n",
        "train_fraction(df_aug, fraction, prefix='aug_train')"
      ],
      "execution_count": 21,
      "outputs": [
        {
          "output_type": "stream",
          "text": [
            "Fractioned data set\n",
            "\tEvents: 151923\n",
            "\tSessions: 16351\n",
            "\tItems: 8484\n",
            "Saved as ./data/aug_train_448.tsv\n"
          ],
          "name": "stdout"
        }
      ]
    },
    {
      "cell_type": "markdown",
      "metadata": {
        "id": "v2E2q1ArD5Sr"
      },
      "source": [
        "## Entrenamiento con Dwell Time"
      ]
    },
    {
      "cell_type": "code",
      "metadata": {
        "id": "HNq8lpRADWZ2",
        "outputId": "e35fdd3c-514d-465d-f147-e14f868a91eb",
        "colab": {
          "base_uri": "https://localhost:8080/",
          "height": 1000
        }
      },
      "source": [
        "!python src/model/gru4rec.py --epochs 200 --train-path ./data/aug_train_448.tsv --dev-path ./data/validation.tsv --test-path ./data/test.tsv"
      ],
      "execution_count": 22,
      "outputs": [
        {
          "output_type": "stream",
          "text": [
            "Model: \"functional_1\"\n",
            "_________________________________________________________________\n",
            "Layer (type)                 Output Shape              Param #   \n",
            "=================================================================\n",
            "input_1 (InputLayer)         [(512, 1, 8485)]          0         \n",
            "_________________________________________________________________\n",
            "GRU (GRU)                    [(512, 100), (512, 100)]  2576100   \n",
            "_________________________________________________________________\n",
            "dropout (Dropout)            (512, 100)                0         \n",
            "_________________________________________________________________\n",
            "dense (Dense)                (512, 8485)               856985    \n",
            "=================================================================\n",
            "Total params: 3,433,085\n",
            "Trainable params: 3,433,085\n",
            "Non-trainable params: 0\n",
            "_________________________________________________________________\n",
            "Epoch 1. Loss: 7.65522:  97% 15835/16352 [00:18<00:00, 864.76it/s] \n",
            "Epoch 2. Loss: 6.89402:  97% 15835/16352 [00:11<00:00, 1396.50it/s]\n",
            "Epoch 3. Loss: 6.03223:  97% 15835/16352 [00:11<00:00, 1407.50it/s]\n",
            "Epoch 4. Loss: 5.14075:  97% 15835/16352 [00:11<00:00, 1383.25it/s]\n",
            "Epoch 5. Loss: 4.58756:  97% 15835/16352 [00:11<00:00, 1374.52it/s]\n",
            "Epoch 6. Loss: 4.05549:  97% 15835/16352 [00:11<00:00, 1372.24it/s]\n",
            "Epoch 7. Loss: 3.67839:  97% 15835/16352 [00:11<00:00, 1406.03it/s]\n",
            "Epoch 8. Loss: 3.37616:  97% 15835/16352 [00:11<00:00, 1406.66it/s]\n",
            "Epoch 9. Loss: 3.13242:  97% 15835/16352 [00:11<00:00, 1413.15it/s]\n",
            "Epoch 10. Loss: 2.90573:  97% 15835/16352 [00:11<00:00, 1384.16it/s]\n",
            "Epoch 11. Loss: 2.65576:  97% 15835/16352 [00:11<00:00, 1375.90it/s]\n",
            "Epoch 12. Loss: 2.55976:  97% 15835/16352 [00:11<00:00, 1374.07it/s]\n",
            "Epoch 13. Loss: 2.40661:  97% 15835/16352 [00:11<00:00, 1382.02it/s]\n",
            "Epoch 14. Loss: 2.29862:  97% 15835/16352 [00:11<00:00, 1408.32it/s]\n",
            "Epoch 15. Loss: 2.19074:  97% 15835/16352 [00:11<00:00, 1401.29it/s]\n",
            "Epoch 16. Loss: 2.14285:  97% 15835/16352 [00:11<00:00, 1399.14it/s]\n",
            "Epoch 17. Loss: 2.04453:  97% 15835/16352 [00:11<00:00, 1381.72it/s]\n",
            "Epoch 18. Loss: 1.94628:  97% 15835/16352 [00:11<00:00, 1379.55it/s]\n",
            "Epoch 19. Loss: 1.87825:  97% 15835/16352 [00:11<00:00, 1374.21it/s]\n",
            "Epoch 20. Loss: 1.84806:  97% 15835/16352 [00:11<00:00, 1375.13it/s]\n",
            "Epoch 21. Loss: 1.78128:  97% 15835/16352 [00:11<00:00, 1407.29it/s]\n",
            "Epoch 22. Loss: 1.77575:  97% 15835/16352 [00:11<00:00, 1404.07it/s]\n",
            "Epoch 23. Loss: 1.67142:  97% 15835/16352 [00:11<00:00, 1403.73it/s]\n",
            "Epoch 24. Loss: 1.67222:  97% 15835/16352 [00:11<00:00, 1366.59it/s]\n",
            "Epoch 25. Loss: 1.62957:  97% 15835/16352 [00:11<00:00, 1355.86it/s]\n",
            "Epoch 26. Loss: 1.55357:  97% 15835/16352 [00:11<00:00, 1382.84it/s]\n",
            "Epoch 27. Loss: 1.59753:  97% 15835/16352 [00:11<00:00, 1379.83it/s]\n",
            "Epoch 28. Loss: 1.53931:  97% 15835/16352 [00:11<00:00, 1406.99it/s]\n",
            "Epoch 29. Loss: 1.49231:  97% 15835/16352 [00:11<00:00, 1402.58it/s]\n",
            "Epoch 30. Loss: 1.51297:  97% 15835/16352 [00:11<00:00, 1397.82it/s]\n",
            "Epoch 31. Loss: 1.45432:  97% 15835/16352 [00:11<00:00, 1392.47it/s]\n",
            "Epoch 32. Loss: 1.40280:  97% 15835/16352 [00:11<00:00, 1385.32it/s]\n",
            "Epoch 33. Loss: 1.41117:  97% 15835/16352 [00:11<00:00, 1381.19it/s]\n",
            "Epoch 34. Loss: 1.41721:  97% 15835/16352 [00:11<00:00, 1400.56it/s]\n",
            "Epoch 35. Loss: 1.39018:  97% 15835/16352 [00:11<00:00, 1424.68it/s]\n",
            "Epoch 36. Loss: 1.39883:  97% 15835/16352 [00:11<00:00, 1415.15it/s]\n",
            "Epoch 37. Loss: 1.35749:  97% 15835/16352 [00:11<00:00, 1387.18it/s]\n",
            "Epoch 38. Loss: 1.36918:  97% 15835/16352 [00:11<00:00, 1399.17it/s]\n",
            "Epoch 39. Loss: 1.36897:  97% 15835/16352 [00:11<00:00, 1404.12it/s]\n",
            "Epoch 40. Loss: 1.33025:  97% 15835/16352 [00:11<00:00, 1394.08it/s]\n",
            "Epoch 41. Loss: 1.31078:  97% 15835/16352 [00:11<00:00, 1397.31it/s]\n",
            "Epoch 42. Loss: 1.29607:  97% 15835/16352 [00:11<00:00, 1413.37it/s]\n",
            "Epoch 43. Loss: 1.30585:  97% 15835/16352 [00:11<00:00, 1410.91it/s]\n",
            "Epoch 44. Loss: 1.30522:  97% 15835/16352 [00:11<00:00, 1401.36it/s]\n",
            "Epoch 45. Loss: 1.24653:  97% 15835/16352 [00:11<00:00, 1404.50it/s]\n",
            "Epoch 46. Loss: 1.27324:  97% 15835/16352 [00:11<00:00, 1406.56it/s]\n",
            "Epoch 47. Loss: 1.21090:  97% 15835/16352 [00:11<00:00, 1420.77it/s]\n",
            "Epoch 48. Loss: 1.26622:  97% 15835/16352 [00:11<00:00, 1412.67it/s]\n",
            "Epoch 49. Loss: 1.24036:  97% 15835/16352 [00:11<00:00, 1426.10it/s]\n",
            "Epoch 50. Loss: 1.22761:  97% 15835/16352 [00:11<00:00, 1428.45it/s]\n",
            "Epoch 51. Loss: 1.28633:  97% 15835/16352 [00:11<00:00, 1406.82it/s]\n",
            "Epoch 52. Loss: 1.20797:  97% 15835/16352 [00:11<00:00, 1374.15it/s]\n",
            "Epoch 53. Loss: 1.19048:  97% 15835/16352 [00:11<00:00, 1406.15it/s]\n",
            "Epoch 54. Loss: 1.25170:  97% 15835/16352 [00:11<00:00, 1423.96it/s]\n",
            "Epoch 55. Loss: 1.22530:  97% 15835/16352 [00:11<00:00, 1413.71it/s]\n",
            "Epoch 56. Loss: 1.20045:  97% 15835/16352 [00:11<00:00, 1422.67it/s]\n",
            "Epoch 57. Loss: 1.18732:  97% 15835/16352 [00:11<00:00, 1426.40it/s]\n",
            "Epoch 58. Loss: 1.20960:  97% 15835/16352 [00:11<00:00, 1407.87it/s]\n",
            "Epoch 59. Loss: 1.16696:  97% 15835/16352 [00:11<00:00, 1398.82it/s]\n",
            "Epoch 60. Loss: 1.23956:  97% 15835/16352 [00:11<00:00, 1410.11it/s]\n",
            "Epoch 61. Loss: 1.16006:  97% 15835/16352 [00:11<00:00, 1418.18it/s]\n",
            "Epoch 62. Loss: 1.18382:  97% 15835/16352 [00:11<00:00, 1423.54it/s]\n",
            "Epoch 63. Loss: 1.16269:  97% 15835/16352 [00:11<00:00, 1411.29it/s]\n",
            "Epoch 64. Loss: 1.18038:  97% 15835/16352 [00:11<00:00, 1427.54it/s]\n",
            "Epoch 65. Loss: 1.11589:  97% 15835/16352 [00:11<00:00, 1422.74it/s]\n",
            "Epoch 66. Loss: 1.17439:  97% 15835/16352 [00:11<00:00, 1408.89it/s]\n",
            "Epoch 67. Loss: 1.12049:  97% 15835/16352 [00:11<00:00, 1403.57it/s]\n",
            "Epoch 68. Loss: 1.18373:  97% 15835/16352 [00:11<00:00, 1427.70it/s]\n",
            "Epoch 69. Loss: 1.16776:  97% 15835/16352 [00:11<00:00, 1432.99it/s]\n",
            "Epoch 70. Loss: 1.13683:  97% 15835/16352 [00:11<00:00, 1418.58it/s]\n",
            "Epoch 71. Loss: 1.17040:  97% 15835/16352 [00:11<00:00, 1425.75it/s]\n",
            "Epoch 72. Loss: 1.11815:  97% 15835/16352 [00:11<00:00, 1407.15it/s]\n",
            "Epoch 73. Loss: 1.12147:  97% 15835/16352 [00:11<00:00, 1403.49it/s]\n",
            "Epoch 74. Loss: 1.11153:  97% 15835/16352 [00:11<00:00, 1411.31it/s]\n",
            "Epoch 75. Loss: 1.09628:  97% 15835/16352 [00:11<00:00, 1421.46it/s]\n",
            "Epoch 76. Loss: 1.12763:  97% 15835/16352 [00:11<00:00, 1415.85it/s]\n",
            "Epoch 77. Loss: 1.10925:  97% 15835/16352 [00:11<00:00, 1395.56it/s]\n",
            "Epoch 78. Loss: 1.08205:  97% 15835/16352 [00:11<00:00, 1391.82it/s]\n",
            "Epoch 79. Loss: 1.09412:  97% 15835/16352 [00:11<00:00, 1385.83it/s]\n",
            "Epoch 80. Loss: 1.10200:  97% 15835/16352 [00:11<00:00, 1363.53it/s]\n",
            "Epoch 81. Loss: 1.10153:  97% 15835/16352 [00:11<00:00, 1419.08it/s]\n",
            "Epoch 82. Loss: 1.07395:  97% 15835/16352 [00:11<00:00, 1409.49it/s]\n",
            "Epoch 83. Loss: 1.07093:  97% 15835/16352 [00:11<00:00, 1406.94it/s]\n",
            "Epoch 84. Loss: 1.09878:  97% 15835/16352 [00:11<00:00, 1376.79it/s]\n",
            "Epoch 85. Loss: 1.13161:  97% 15835/16352 [00:11<00:00, 1390.40it/s]\n",
            "Epoch 86. Loss: 1.05992:  97% 15835/16352 [00:11<00:00, 1401.21it/s]\n",
            "Epoch 87. Loss: 1.07879:  97% 15835/16352 [00:11<00:00, 1426.76it/s]\n",
            "Epoch 88. Loss: 1.11162:  97% 15835/16352 [00:11<00:00, 1419.30it/s]\n",
            "Epoch 89. Loss: 0.99495:  97% 15835/16352 [00:11<00:00, 1402.27it/s]\n",
            "Epoch 90. Loss: 1.05800:  97% 15835/16352 [00:11<00:00, 1405.47it/s]\n",
            "Epoch 91. Loss: 1.00624:  97% 15835/16352 [00:11<00:00, 1386.68it/s]\n",
            "Epoch 92. Loss: 1.07030:  97% 15835/16352 [00:11<00:00, 1398.89it/s]\n",
            "Epoch 93. Loss: 1.03028:  97% 15835/16352 [00:11<00:00, 1388.21it/s]\n",
            "Epoch 94. Loss: 1.06326:  97% 15835/16352 [00:11<00:00, 1384.49it/s]\n",
            "Epoch 95. Loss: 1.01751:  97% 15835/16352 [00:11<00:00, 1409.23it/s]\n",
            "Epoch 96. Loss: 1.05530:  97% 15835/16352 [00:11<00:00, 1428.63it/s]\n",
            "Epoch 97. Loss: 1.02752:  97% 15835/16352 [00:11<00:00, 1423.95it/s]\n",
            "Epoch 98. Loss: 1.05099:  97% 15835/16352 [00:11<00:00, 1412.00it/s]\n",
            "Epoch 99. Loss: 1.05472:  97% 15835/16352 [00:11<00:00, 1380.95it/s]\n",
            "Epoch 100. Loss: 1.03610:  97% 15835/16352 [00:11<00:00, 1393.69it/s]\n",
            "Epoch 101. Loss: 1.06651:  97% 15835/16352 [00:11<00:00, 1386.75it/s]\n",
            "Epoch 102. Loss: 1.03371:  97% 15835/16352 [00:11<00:00, 1393.76it/s]\n",
            "Epoch 103. Loss: 1.05521:  97% 15835/16352 [00:11<00:00, 1411.31it/s]\n",
            "Epoch 104. Loss: 1.01993:  97% 15835/16352 [00:11<00:00, 1402.11it/s]\n",
            "Epoch 105. Loss: 1.03932:  97% 15835/16352 [00:11<00:00, 1399.83it/s]\n",
            "Epoch 106. Loss: 1.02042:  97% 15835/16352 [00:11<00:00, 1388.45it/s]\n",
            "Epoch 107. Loss: 1.00658:  97% 15835/16352 [00:11<00:00, 1360.76it/s]\n",
            "Epoch 108. Loss: 1.00259:  97% 15835/16352 [00:11<00:00, 1378.79it/s]\n",
            "Epoch 109. Loss: 1.01877:  97% 15835/16352 [00:11<00:00, 1397.86it/s]\n",
            "Epoch 110. Loss: 1.04153:  97% 15835/16352 [00:11<00:00, 1397.59it/s]\n",
            "Epoch 111. Loss: 1.04379:  97% 15835/16352 [00:11<00:00, 1408.49it/s]\n",
            "Epoch 112. Loss: 1.02395:  97% 15835/16352 [00:11<00:00, 1398.01it/s]\n",
            "Epoch 113. Loss: 0.97462:  97% 15835/16352 [00:11<00:00, 1375.24it/s]\n",
            "Epoch 114. Loss: 1.01128:  97% 15835/16352 [00:11<00:00, 1380.24it/s]\n",
            "Epoch 115. Loss: 0.95928:  97% 15835/16352 [00:11<00:00, 1375.09it/s]\n",
            "Epoch 116. Loss: 0.98197:  97% 15835/16352 [00:11<00:00, 1378.05it/s]\n",
            "Epoch 117. Loss: 1.03161:  97% 15835/16352 [00:11<00:00, 1392.45it/s]\n",
            "Epoch 118. Loss: 1.02372:  97% 15835/16352 [00:11<00:00, 1396.99it/s]\n",
            "Epoch 119. Loss: 0.97170:  97% 15835/16352 [00:11<00:00, 1387.28it/s]\n",
            "Epoch 120. Loss: 1.00631:  97% 15835/16352 [00:11<00:00, 1367.82it/s]\n",
            "Epoch 121. Loss: 0.99347:  97% 15835/16352 [00:11<00:00, 1353.32it/s]\n",
            "Epoch 122. Loss: 0.99365:  97% 15835/16352 [00:11<00:00, 1371.03it/s]\n",
            "Epoch 123. Loss: 1.00162:  97% 15835/16352 [00:11<00:00, 1391.06it/s]\n",
            "Epoch 124. Loss: 1.00202:  97% 15835/16352 [00:11<00:00, 1382.71it/s]\n",
            "Epoch 125. Loss: 0.99036:  97% 15835/16352 [00:11<00:00, 1375.20it/s]\n",
            "Epoch 126. Loss: 1.04939:  97% 15835/16352 [00:11<00:00, 1383.31it/s]\n",
            "Epoch 127. Loss: 0.96645:  97% 15835/16352 [00:11<00:00, 1371.39it/s]\n",
            "Epoch 128. Loss: 0.97713:  97% 15835/16352 [00:11<00:00, 1359.65it/s]\n",
            "Epoch 129. Loss: 1.02727:  97% 15835/16352 [00:11<00:00, 1377.25it/s]\n",
            "Epoch 130. Loss: 0.97263:  97% 15835/16352 [00:11<00:00, 1370.28it/s]\n",
            "Epoch 131. Loss: 0.98265:  97% 15835/16352 [00:11<00:00, 1390.17it/s]\n",
            "Epoch 132. Loss: 0.99221:  97% 15835/16352 [00:11<00:00, 1395.30it/s]\n",
            "Epoch 133. Loss: 0.94800:  97% 15835/16352 [00:11<00:00, 1387.68it/s]\n",
            "Epoch 134. Loss: 0.92990:  97% 15835/16352 [00:11<00:00, 1339.09it/s]\n",
            "Epoch 135. Loss: 1.00168:  97% 15835/16352 [00:11<00:00, 1362.39it/s]\n",
            "Epoch 136. Loss: 0.98063:  97% 15835/16352 [00:11<00:00, 1375.64it/s]\n",
            "Epoch 137. Loss: 1.00278:  97% 15835/16352 [00:11<00:00, 1378.07it/s]\n",
            "Epoch 138. Loss: 0.98084:  97% 15835/16352 [00:11<00:00, 1395.36it/s]\n",
            "Epoch 139. Loss: 0.96589:  97% 15835/16352 [00:11<00:00, 1391.67it/s]\n",
            "Epoch 140. Loss: 0.97305:  97% 15835/16352 [00:11<00:00, 1378.83it/s]\n",
            "Epoch 141. Loss: 0.97882:  97% 15835/16352 [00:11<00:00, 1374.44it/s]\n",
            "Epoch 142. Loss: 0.96532:  97% 15835/16352 [00:11<00:00, 1368.55it/s]\n",
            "Epoch 143. Loss: 0.93218:  97% 15835/16352 [00:11<00:00, 1360.38it/s]\n",
            "Epoch 144. Loss: 0.95800:  97% 15835/16352 [00:11<00:00, 1387.77it/s]\n",
            "Epoch 145. Loss: 0.97724:  97% 15835/16352 [00:11<00:00, 1382.97it/s]\n",
            "Epoch 146. Loss: 0.97319:  97% 15835/16352 [00:11<00:00, 1380.50it/s]\n",
            "Epoch 147. Loss: 0.94678:  97% 15835/16352 [00:11<00:00, 1367.08it/s]\n",
            "Epoch 148. Loss: 0.98100:  97% 15835/16352 [00:11<00:00, 1361.17it/s]\n",
            "Epoch 149. Loss: 0.97785:  97% 15835/16352 [00:11<00:00, 1381.42it/s]\n",
            "Epoch 150. Loss: 0.96372:  97% 15835/16352 [00:11<00:00, 1399.17it/s]\n",
            "Epoch 151. Loss: 0.97329:  97% 15835/16352 [00:11<00:00, 1393.75it/s]\n",
            "Epoch 152. Loss: 1.01916:  97% 15835/16352 [00:11<00:00, 1391.44it/s]\n",
            "Epoch 153. Loss: 1.00032:  97% 15835/16352 [00:11<00:00, 1383.60it/s]\n",
            "Epoch 154. Loss: 0.97403:  97% 15835/16352 [00:11<00:00, 1362.72it/s]\n",
            "Epoch 155. Loss: 0.95240:  97% 15835/16352 [00:11<00:00, 1371.37it/s]\n",
            "Epoch 156. Loss: 0.96994:  97% 15835/16352 [00:11<00:00, 1386.80it/s]\n",
            "Epoch 157. Loss: 1.03086:  97% 15835/16352 [00:11<00:00, 1386.76it/s]\n",
            "Epoch 158. Loss: 0.98538:  97% 15835/16352 [00:11<00:00, 1391.31it/s]\n",
            "Epoch 159. Loss: 0.99032:  97% 15835/16352 [00:11<00:00, 1391.04it/s]\n",
            "Epoch 160. Loss: 0.94838:  97% 15835/16352 [00:11<00:00, 1397.25it/s]\n",
            "Epoch 161. Loss: 0.96449:  97% 15835/16352 [00:11<00:00, 1354.85it/s]\n",
            "Epoch 162. Loss: 0.94703:  97% 15835/16352 [00:11<00:00, 1359.40it/s]\n",
            "Epoch 163. Loss: 0.94834:  97% 15835/16352 [00:11<00:00, 1397.54it/s]\n",
            "Epoch 164. Loss: 0.94596:  97% 15835/16352 [00:11<00:00, 1391.25it/s]\n",
            "Epoch 165. Loss: 0.95432:  97% 15835/16352 [00:11<00:00, 1401.58it/s]\n",
            "Epoch 166. Loss: 0.95433:  97% 15835/16352 [00:11<00:00, 1408.86it/s]\n",
            "Epoch 167. Loss: 0.92079:  97% 15835/16352 [00:11<00:00, 1387.72it/s]\n",
            "Epoch 168. Loss: 0.92427:  97% 15835/16352 [00:11<00:00, 1375.31it/s]\n",
            "Epoch 169. Loss: 0.94658:  97% 15835/16352 [00:11<00:00, 1383.56it/s]\n",
            "Epoch 170. Loss: 0.93419:  97% 15835/16352 [00:11<00:00, 1404.47it/s]\n",
            "Epoch 171. Loss: 0.94552:  97% 15835/16352 [00:11<00:00, 1405.94it/s]\n",
            "Epoch 172. Loss: 0.93126:  97% 15835/16352 [00:11<00:00, 1405.79it/s]\n",
            "Epoch 173. Loss: 0.98361:  97% 15835/16352 [00:11<00:00, 1389.55it/s]\n",
            "Epoch 174. Loss: 0.91859:  97% 15835/16352 [00:11<00:00, 1363.75it/s]\n",
            "Epoch 175. Loss: 0.93962:  97% 15835/16352 [00:11<00:00, 1381.52it/s]\n",
            "Epoch 176. Loss: 0.89537:  97% 15835/16352 [00:11<00:00, 1369.74it/s]\n",
            "Epoch 177. Loss: 0.94471:  97% 15835/16352 [00:11<00:00, 1408.44it/s]\n",
            "Epoch 178. Loss: 0.88189:  97% 15835/16352 [00:11<00:00, 1407.01it/s]\n",
            "Epoch 179. Loss: 0.97237:  97% 15835/16352 [00:11<00:00, 1413.05it/s]\n",
            "Epoch 180. Loss: 0.95876:  97% 15835/16352 [00:11<00:00, 1417.88it/s]\n",
            "Epoch 181. Loss: 0.96285:  97% 15835/16352 [00:11<00:00, 1404.31it/s]\n",
            "Epoch 182. Loss: 0.92787:  97% 15835/16352 [00:11<00:00, 1388.73it/s]\n",
            "Epoch 183. Loss: 0.95477:  97% 15835/16352 [00:11<00:00, 1396.46it/s]\n",
            "Epoch 184. Loss: 0.93868:  97% 15835/16352 [00:11<00:00, 1423.31it/s]\n",
            "Epoch 185. Loss: 0.95102:  97% 15835/16352 [00:11<00:00, 1421.39it/s]\n",
            "Epoch 186. Loss: 0.93088:  97% 15835/16352 [00:11<00:00, 1425.22it/s]\n",
            "Epoch 187. Loss: 0.98040:  97% 15835/16352 [00:11<00:00, 1400.01it/s]\n",
            "Epoch 188. Loss: 0.96202:  97% 15835/16352 [00:11<00:00, 1402.54it/s]\n",
            "Epoch 189. Loss: 0.97577:  97% 15835/16352 [00:11<00:00, 1370.35it/s]\n",
            "Epoch 190. Loss: 0.92318:  97% 15835/16352 [00:11<00:00, 1408.84it/s]\n",
            "Epoch 191. Loss: 0.96086:  97% 15835/16352 [00:11<00:00, 1429.55it/s]\n",
            "Epoch 192. Loss: 0.96012:  97% 15835/16352 [00:11<00:00, 1430.39it/s]\n",
            "Epoch 193. Loss: 0.91689:  97% 15835/16352 [00:11<00:00, 1432.74it/s]\n",
            "Epoch 194. Loss: 0.94383:  97% 15835/16352 [00:11<00:00, 1389.61it/s]\n",
            "Epoch 195. Loss: 0.87342:  97% 15835/16352 [00:11<00:00, 1389.62it/s]\n",
            "Epoch 196. Loss: 0.95945:  97% 15835/16352 [00:11<00:00, 1394.99it/s]\n",
            "Epoch 197. Loss: 0.93982:  97% 15835/16352 [00:11<00:00, 1403.28it/s]\n",
            "Epoch 198. Loss: 0.93787:  97% 15835/16352 [00:11<00:00, 1421.91it/s]\n",
            "Epoch 199. Loss: 0.95665:  97% 15835/16352 [00:11<00:00, 1421.62it/s]\n",
            "Evaluating model...\n",
            "\t - Recall@20 epoch 199: 0.503767\n",
            "\t - MRR@20    epoch 199: 0.203785\n",
            "\n"
          ],
          "name": "stdout"
        }
      ]
    },
    {
      "cell_type": "markdown",
      "metadata": {
        "id": "YdMFiWFK65w1"
      },
      "source": [
        "Indique el resultado del modelo con Dwell Time. \n",
        "\n",
        "Recall@20: 0.503\n",
        "MRR@20: 0.237"
      ]
    }
  ]
}